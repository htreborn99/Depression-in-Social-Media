{
 "cells": [
  {
   "cell_type": "markdown",
   "metadata": {},
   "source": [
    "# Detecting Depression through NLP and DL"
   ]
  },
  {
   "cell_type": "markdown",
   "metadata": {},
   "source": [
    "1. Evelyn Peh Ting Yu\n",
    "2. Koh Pei Ling\n",
    "3. Lau Wei Ting\n",
    "4. Song Yu Xiang\n",
    "5. Jian Yi\n",
    "6. Luqman Juzaili"
   ]
  },
  {
   "cell_type": "code",
   "execution_count": 1,
   "metadata": {},
   "outputs": [],
   "source": [
    "#!pip install transformers==3.0.0"
   ]
  },
  {
   "cell_type": "code",
   "execution_count": 2,
   "metadata": {},
   "outputs": [],
   "source": [
    "#pip install transformers"
   ]
  },
  {
   "cell_type": "code",
   "execution_count": 3,
   "metadata": {},
   "outputs": [],
   "source": [
    "#pip install torchvision "
   ]
  },
  {
   "cell_type": "code",
   "execution_count": 4,
   "metadata": {},
   "outputs": [],
   "source": [
    "# pip install torch torchvision torchaudio --extra-index-url https://download.pytorch.org/whl/cu117"
   ]
  },
  {
   "cell_type": "code",
   "execution_count": 5,
   "metadata": {
    "scrolled": true
   },
   "outputs": [],
   "source": [
    "#pip install pandas#!pip install transformers==3.0.0\n",
    "\n",
    "#pip install transformers\n",
    "\n",
    "#pip install torchvision \n",
    "\n",
    "# pip install torch torchvision torchaudio --extra-index-url https://download.pytorch.org/whl/cu117\n",
    "#pip install matplotlib\n",
    "#pip install seaborn\n",
    "#pip install nltk\n",
    "#nltk.download('stopwords')\n",
    "#pip install wordcloud\n",
    "#pip install scikit-learn\n",
    "\n",
    "# pip install emoji-unicode\n",
    "# pip install emoji --upgrade\n",
    "# pip uninstall emoji\n",
    "# pip install emoji==1.7\n",
    "\n",
    "#pip install imblearn"
   ]
  },
  {
   "cell_type": "markdown",
   "metadata": {},
   "source": [
    "## 1. Import Libraries"
   ]
  },
  {
   "cell_type": "code",
   "execution_count": 6,
   "metadata": {},
   "outputs": [],
   "source": [
    "import pandas as pd\n",
    "import numpy as np\n",
    "\n",
    "# Visualization\n",
    "import matplotlib.pyplot as plt\n",
    "import seaborn as sns\n",
    "from PIL import Image\n",
    "from wordcloud import WordCloud\n",
    "\n",
    "# Natural language Processing\n",
    "import re\n",
    "import nltk\n",
    "stop=nltk.corpus.stopwords.words('english')\n",
    "from nltk import FreqDist\n",
    "from nltk.corpus import stopwords\n",
    "from nltk.tokenize import word_tokenize\n",
    "from nltk.stem import WordNetLemmatizer,PorterStemmer\n",
    "from nltk.stem import WordNetLemmatizer\n",
    "from nltk.tokenize import word_tokenize\n",
    "from nltk import pos_tag\n",
    "\n",
    "# Emoji\n",
    "import emoji\n",
    "from emoji import UNICODE_EMOJI\n",
    "from nltk.tokenize.casual import TweetTokenizer\n",
    "\n",
    "# Scikit Learn\n",
    "from sklearn.feature_extraction.text import TfidfVectorizer\n",
    "from sklearn.feature_extraction.text import CountVectorizer\n",
    "from sklearn.model_selection import train_test_split\n",
    "\n",
    "from sklearn import tree\n",
    "from sklearn.linear_model import LogisticRegression\n",
    "from sklearn.tree import DecisionTreeClassifier\n",
    "from sklearn.ensemble import RandomForestClassifier\n",
    "from sklearn.ensemble import GradientBoostingClassifier\n",
    "from sklearn.naive_bayes import MultinomialNB\n",
    "from sklearn.svm import SVC\n",
    "from sklearn.naive_bayes import GaussianNB\n",
    "\n",
    "from sklearn.model_selection import GridSearchCV\n",
    "from sklearn.model_selection import cross_val_score\n",
    "from sklearn.model_selection import KFold\n",
    "\n",
    "from sklearn.metrics import confusion_matrix\n",
    "from sklearn.metrics import classification_report\n",
    "from sklearn.metrics import make_scorer\n",
    "from sklearn.metrics import f1_score,precision_score,recall_score,accuracy_score\n",
    "\n",
    "from collections import defaultdict\n",
    "from collections import Counter\n",
    "\n",
    "# pytorch\n",
    "import torch\n",
    "import torch.nn as nn\n",
    "import torch.nn.functional as F\n",
    "from torch.utils.data import TensorDataset, DataLoader, RandomSampler, SequentialSampler\n",
    "from torch.cuda.amp import autocast, GradScaler\n",
    "torch.cuda.amp.autocast(enabled=True)\n",
    "device = 'cuda' if torch.cuda.is_available() else 'cpu'\n",
    "\n",
    "# Transformers library for BERT\n",
    "import transformers\n",
    "from transformers import BertModel\n",
    "from transformers import BertTokenizer\n",
    "from transformers import AdamW, get_linear_schedule_with_warmup\n",
    "\n",
    "import time"
   ]
  },
  {
   "cell_type": "code",
   "execution_count": 7,
   "metadata": {},
   "outputs": [],
   "source": [
    "pd.set_option('display.max_columns', 500)\n",
    "pd.set_option('display.width', 1000)\n",
    "pd.set_option('display.max_rows', 500)\n",
    "pd.get_option('max_colwidth')\n",
    "pd.set_option('max_colwidth', 500)"
   ]
  },
  {
   "cell_type": "markdown",
   "metadata": {},
   "source": [
    "<hr>"
   ]
  },
  {
   "cell_type": "markdown",
   "metadata": {},
   "source": [
    "## 2. Import Datasets"
   ]
  },
  {
   "cell_type": "markdown",
   "metadata": {},
   "source": [
    "<strong> Dataset 1 </strong>\n",
    "\n",
    "This dataset comprises around 10.1k dataset extracted from Twitter. It consists of 3 columns. The id, tweets and the labels with 1 indicating the person is suffering from depression and 0   for the inverse. Source: https://www.kaggle.com/datasets/gargmanas/sentimental-analysis-for-tweets\n",
    "\n",
    "<strong> Dataset 2 </strong>\n",
    "\n",
    "This dataset comprises around 20k data extracted from Twitter. It consists of information with regards to the post itself: Post_Text, Post_date, Number of retweets, favourites, and have a label as well. Source: https://www.kaggle.com/datasets/infamouscoder/mental-health-social-media?select=Mental-Health-Twitter.csv"
   ]
  },
  {
   "cell_type": "code",
   "execution_count": 8,
   "metadata": {},
   "outputs": [],
   "source": [
    "df1 = pd.read_csv(\"sentiment_tweets3.csv\")\n",
    "df2 = pd.read_csv(\"Mental-Health-Twitter.csv\")  # dataset consist of emoji"
   ]
  },
  {
   "cell_type": "code",
   "execution_count": 9,
   "metadata": {},
   "outputs": [
    {
     "data": {
      "text/html": [
       "<div>\n",
       "<style scoped>\n",
       "    .dataframe tbody tr th:only-of-type {\n",
       "        vertical-align: middle;\n",
       "    }\n",
       "\n",
       "    .dataframe tbody tr th {\n",
       "        vertical-align: top;\n",
       "    }\n",
       "\n",
       "    .dataframe thead th {\n",
       "        text-align: right;\n",
       "    }\n",
       "</style>\n",
       "<table border=\"1\" class=\"dataframe\">\n",
       "  <thead>\n",
       "    <tr style=\"text-align: right;\">\n",
       "      <th></th>\n",
       "      <th>Index</th>\n",
       "      <th>message to examine</th>\n",
       "      <th>label (depression result)</th>\n",
       "    </tr>\n",
       "  </thead>\n",
       "  <tbody>\n",
       "    <tr>\n",
       "      <th>0</th>\n",
       "      <td>106</td>\n",
       "      <td>just had a real good moment. i missssssssss him so much,</td>\n",
       "      <td>0</td>\n",
       "    </tr>\n",
       "    <tr>\n",
       "      <th>1</th>\n",
       "      <td>217</td>\n",
       "      <td>is reading manga  http://plurk.com/p/mzp1e</td>\n",
       "      <td>0</td>\n",
       "    </tr>\n",
       "    <tr>\n",
       "      <th>2</th>\n",
       "      <td>220</td>\n",
       "      <td>@comeagainjen http://twitpic.com/2y2lx - http://www.youtube.com/watch?v=zoGfqvh2ME8</td>\n",
       "      <td>0</td>\n",
       "    </tr>\n",
       "    <tr>\n",
       "      <th>3</th>\n",
       "      <td>288</td>\n",
       "      <td>@lapcat Need to send 'em to my accountant tomorrow. Oddly, I wasn't even referring to my taxes. Those are supporting evidence, though.</td>\n",
       "      <td>0</td>\n",
       "    </tr>\n",
       "    <tr>\n",
       "      <th>4</th>\n",
       "      <td>540</td>\n",
       "      <td>ADD ME ON MYSPACE!!!  myspace.com/LookThunder</td>\n",
       "      <td>0</td>\n",
       "    </tr>\n",
       "  </tbody>\n",
       "</table>\n",
       "</div>"
      ],
      "text/plain": [
       "   Index                                                                                                                       message to examine  label (depression result)\n",
       "0    106                                                                                just had a real good moment. i missssssssss him so much,                           0\n",
       "1    217                                                                                               is reading manga  http://plurk.com/p/mzp1e                          0\n",
       "2    220                                                     @comeagainjen http://twitpic.com/2y2lx - http://www.youtube.com/watch?v=zoGfqvh2ME8                           0\n",
       "3    288  @lapcat Need to send 'em to my accountant tomorrow. Oddly, I wasn't even referring to my taxes. Those are supporting evidence, though.                           0\n",
       "4    540                                                                                            ADD ME ON MYSPACE!!!  myspace.com/LookThunder                          0"
      ]
     },
     "execution_count": 9,
     "metadata": {},
     "output_type": "execute_result"
    }
   ],
   "source": [
    "df1.head()"
   ]
  },
  {
   "cell_type": "code",
   "execution_count": 10,
   "metadata": {},
   "outputs": [],
   "source": [
    "df1.rename(columns={'message to examine':\"Message\"},inplace=True)\n",
    "df1.rename(columns={'label (depression result)':\"Label\"},inplace=True)"
   ]
  },
  {
   "cell_type": "code",
   "execution_count": 11,
   "metadata": {},
   "outputs": [
    {
     "data": {
      "text/plain": [
       "Index(['Index', 'Message', 'Label'], dtype='object')"
      ]
     },
     "execution_count": 11,
     "metadata": {},
     "output_type": "execute_result"
    }
   ],
   "source": [
    "df1.columns"
   ]
  },
  {
   "cell_type": "code",
   "execution_count": 12,
   "metadata": {},
   "outputs": [],
   "source": [
    "df1.drop([\"Index\"],inplace=True,axis=1)"
   ]
  },
  {
   "cell_type": "code",
   "execution_count": 13,
   "metadata": {},
   "outputs": [
    {
     "data": {
      "text/html": [
       "<div>\n",
       "<style scoped>\n",
       "    .dataframe tbody tr th:only-of-type {\n",
       "        vertical-align: middle;\n",
       "    }\n",
       "\n",
       "    .dataframe tbody tr th {\n",
       "        vertical-align: top;\n",
       "    }\n",
       "\n",
       "    .dataframe thead th {\n",
       "        text-align: right;\n",
       "    }\n",
       "</style>\n",
       "<table border=\"1\" class=\"dataframe\">\n",
       "  <thead>\n",
       "    <tr style=\"text-align: right;\">\n",
       "      <th></th>\n",
       "      <th>Message</th>\n",
       "      <th>Label</th>\n",
       "    </tr>\n",
       "  </thead>\n",
       "  <tbody>\n",
       "    <tr>\n",
       "      <th>0</th>\n",
       "      <td>just had a real good moment. i missssssssss him so much,</td>\n",
       "      <td>0</td>\n",
       "    </tr>\n",
       "    <tr>\n",
       "      <th>1</th>\n",
       "      <td>is reading manga  http://plurk.com/p/mzp1e</td>\n",
       "      <td>0</td>\n",
       "    </tr>\n",
       "    <tr>\n",
       "      <th>2</th>\n",
       "      <td>@comeagainjen http://twitpic.com/2y2lx - http://www.youtube.com/watch?v=zoGfqvh2ME8</td>\n",
       "      <td>0</td>\n",
       "    </tr>\n",
       "    <tr>\n",
       "      <th>3</th>\n",
       "      <td>@lapcat Need to send 'em to my accountant tomorrow. Oddly, I wasn't even referring to my taxes. Those are supporting evidence, though.</td>\n",
       "      <td>0</td>\n",
       "    </tr>\n",
       "    <tr>\n",
       "      <th>4</th>\n",
       "      <td>ADD ME ON MYSPACE!!!  myspace.com/LookThunder</td>\n",
       "      <td>0</td>\n",
       "    </tr>\n",
       "  </tbody>\n",
       "</table>\n",
       "</div>"
      ],
      "text/plain": [
       "                                                                                                                                   Message  Label\n",
       "0                                                                                just had a real good moment. i missssssssss him so much,       0\n",
       "1                                                                                               is reading manga  http://plurk.com/p/mzp1e      0\n",
       "2                                                     @comeagainjen http://twitpic.com/2y2lx - http://www.youtube.com/watch?v=zoGfqvh2ME8       0\n",
       "3  @lapcat Need to send 'em to my accountant tomorrow. Oddly, I wasn't even referring to my taxes. Those are supporting evidence, though.       0\n",
       "4                                                                                            ADD ME ON MYSPACE!!!  myspace.com/LookThunder      0"
      ]
     },
     "execution_count": 13,
     "metadata": {},
     "output_type": "execute_result"
    }
   ],
   "source": [
    "df1.head()"
   ]
  },
  {
   "cell_type": "code",
   "execution_count": 14,
   "metadata": {},
   "outputs": [
    {
     "data": {
      "text/html": [
       "<div>\n",
       "<style scoped>\n",
       "    .dataframe tbody tr th:only-of-type {\n",
       "        vertical-align: middle;\n",
       "    }\n",
       "\n",
       "    .dataframe tbody tr th {\n",
       "        vertical-align: top;\n",
       "    }\n",
       "\n",
       "    .dataframe thead th {\n",
       "        text-align: right;\n",
       "    }\n",
       "</style>\n",
       "<table border=\"1\" class=\"dataframe\">\n",
       "  <thead>\n",
       "    <tr style=\"text-align: right;\">\n",
       "      <th></th>\n",
       "      <th>Unnamed: 0</th>\n",
       "      <th>post_id</th>\n",
       "      <th>post_created</th>\n",
       "      <th>post_text</th>\n",
       "      <th>user_id</th>\n",
       "      <th>followers</th>\n",
       "      <th>friends</th>\n",
       "      <th>favourites</th>\n",
       "      <th>statuses</th>\n",
       "      <th>retweets</th>\n",
       "      <th>label</th>\n",
       "    </tr>\n",
       "  </thead>\n",
       "  <tbody>\n",
       "    <tr>\n",
       "      <th>0</th>\n",
       "      <td>0</td>\n",
       "      <td>637894677824413696</td>\n",
       "      <td>Sun Aug 30 07:48:37 +0000 2015</td>\n",
       "      <td>It's just over 2 years since I was diagnosed with #anxiety and #depression. Today I'm taking a moment to reflect on how far I've come since.</td>\n",
       "      <td>1013187241</td>\n",
       "      <td>84</td>\n",
       "      <td>211</td>\n",
       "      <td>251</td>\n",
       "      <td>837</td>\n",
       "      <td>0</td>\n",
       "      <td>1</td>\n",
       "    </tr>\n",
       "    <tr>\n",
       "      <th>1</th>\n",
       "      <td>1</td>\n",
       "      <td>637890384576778240</td>\n",
       "      <td>Sun Aug 30 07:31:33 +0000 2015</td>\n",
       "      <td>It's Sunday, I need a break, so I'm planning to spend as little time as possible on the #A14...</td>\n",
       "      <td>1013187241</td>\n",
       "      <td>84</td>\n",
       "      <td>211</td>\n",
       "      <td>251</td>\n",
       "      <td>837</td>\n",
       "      <td>1</td>\n",
       "      <td>1</td>\n",
       "    </tr>\n",
       "    <tr>\n",
       "      <th>2</th>\n",
       "      <td>2</td>\n",
       "      <td>637749345908051968</td>\n",
       "      <td>Sat Aug 29 22:11:07 +0000 2015</td>\n",
       "      <td>Awake but tired. I need to sleep but my brain has other ideas...</td>\n",
       "      <td>1013187241</td>\n",
       "      <td>84</td>\n",
       "      <td>211</td>\n",
       "      <td>251</td>\n",
       "      <td>837</td>\n",
       "      <td>0</td>\n",
       "      <td>1</td>\n",
       "    </tr>\n",
       "    <tr>\n",
       "      <th>3</th>\n",
       "      <td>3</td>\n",
       "      <td>637696421077123073</td>\n",
       "      <td>Sat Aug 29 18:40:49 +0000 2015</td>\n",
       "      <td>RT @SewHQ: #Retro bears make perfect gifts and are great for beginners too! Get stitching with October's Sew on sale NOW! #yay http://t.co/…</td>\n",
       "      <td>1013187241</td>\n",
       "      <td>84</td>\n",
       "      <td>211</td>\n",
       "      <td>251</td>\n",
       "      <td>837</td>\n",
       "      <td>2</td>\n",
       "      <td>1</td>\n",
       "    </tr>\n",
       "    <tr>\n",
       "      <th>4</th>\n",
       "      <td>4</td>\n",
       "      <td>637696327485366272</td>\n",
       "      <td>Sat Aug 29 18:40:26 +0000 2015</td>\n",
       "      <td>It’s hard to say whether packing lists are making life easier or just reinforcing how much still needs doing... #movinghouse #anxiety</td>\n",
       "      <td>1013187241</td>\n",
       "      <td>84</td>\n",
       "      <td>211</td>\n",
       "      <td>251</td>\n",
       "      <td>837</td>\n",
       "      <td>1</td>\n",
       "      <td>1</td>\n",
       "    </tr>\n",
       "  </tbody>\n",
       "</table>\n",
       "</div>"
      ],
      "text/plain": [
       "   Unnamed: 0             post_id                    post_created                                                                                                                                     post_text     user_id  followers  friends  favourites  statuses  retweets  label\n",
       "0           0  637894677824413696  Sun Aug 30 07:48:37 +0000 2015  It's just over 2 years since I was diagnosed with #anxiety and #depression. Today I'm taking a moment to reflect on how far I've come since.  1013187241         84      211         251       837         0      1\n",
       "1           1  637890384576778240  Sun Aug 30 07:31:33 +0000 2015                                               It's Sunday, I need a break, so I'm planning to spend as little time as possible on the #A14...  1013187241         84      211         251       837         1      1\n",
       "2           2  637749345908051968  Sat Aug 29 22:11:07 +0000 2015                                                                              Awake but tired. I need to sleep but my brain has other ideas...  1013187241         84      211         251       837         0      1\n",
       "3           3  637696421077123073  Sat Aug 29 18:40:49 +0000 2015  RT @SewHQ: #Retro bears make perfect gifts and are great for beginners too! Get stitching with October's Sew on sale NOW! #yay http://t.co/…  1013187241         84      211         251       837         2      1\n",
       "4           4  637696327485366272  Sat Aug 29 18:40:26 +0000 2015         It’s hard to say whether packing lists are making life easier or just reinforcing how much still needs doing... #movinghouse #anxiety  1013187241         84      211         251       837         1      1"
      ]
     },
     "execution_count": 14,
     "metadata": {},
     "output_type": "execute_result"
    }
   ],
   "source": [
    "df2.head()"
   ]
  },
  {
   "cell_type": "code",
   "execution_count": 15,
   "metadata": {},
   "outputs": [],
   "source": [
    "df2.drop(columns=[\"Unnamed: 0\", \"post_id\", \"post_created\",\"user_id\",'followers', 'friends', 'favourites', 'statuses', 'retweets'], inplace=True)"
   ]
  },
  {
   "cell_type": "code",
   "execution_count": 16,
   "metadata": {},
   "outputs": [],
   "source": [
    "df2.rename(columns={\"post_text\": \"Message\"}, inplace=True)\n",
    "df2.rename(columns={\"label\": \"Label\"}, inplace=True)"
   ]
  },
  {
   "cell_type": "code",
   "execution_count": 17,
   "metadata": {},
   "outputs": [
    {
     "data": {
      "text/html": [
       "<div>\n",
       "<style scoped>\n",
       "    .dataframe tbody tr th:only-of-type {\n",
       "        vertical-align: middle;\n",
       "    }\n",
       "\n",
       "    .dataframe tbody tr th {\n",
       "        vertical-align: top;\n",
       "    }\n",
       "\n",
       "    .dataframe thead th {\n",
       "        text-align: right;\n",
       "    }\n",
       "</style>\n",
       "<table border=\"1\" class=\"dataframe\">\n",
       "  <thead>\n",
       "    <tr style=\"text-align: right;\">\n",
       "      <th></th>\n",
       "      <th>Message</th>\n",
       "      <th>Label</th>\n",
       "    </tr>\n",
       "  </thead>\n",
       "  <tbody>\n",
       "    <tr>\n",
       "      <th>0</th>\n",
       "      <td>It's just over 2 years since I was diagnosed with #anxiety and #depression. Today I'm taking a moment to reflect on how far I've come since.</td>\n",
       "      <td>1</td>\n",
       "    </tr>\n",
       "    <tr>\n",
       "      <th>1</th>\n",
       "      <td>It's Sunday, I need a break, so I'm planning to spend as little time as possible on the #A14...</td>\n",
       "      <td>1</td>\n",
       "    </tr>\n",
       "    <tr>\n",
       "      <th>2</th>\n",
       "      <td>Awake but tired. I need to sleep but my brain has other ideas...</td>\n",
       "      <td>1</td>\n",
       "    </tr>\n",
       "    <tr>\n",
       "      <th>3</th>\n",
       "      <td>RT @SewHQ: #Retro bears make perfect gifts and are great for beginners too! Get stitching with October's Sew on sale NOW! #yay http://t.co/…</td>\n",
       "      <td>1</td>\n",
       "    </tr>\n",
       "    <tr>\n",
       "      <th>4</th>\n",
       "      <td>It’s hard to say whether packing lists are making life easier or just reinforcing how much still needs doing... #movinghouse #anxiety</td>\n",
       "      <td>1</td>\n",
       "    </tr>\n",
       "  </tbody>\n",
       "</table>\n",
       "</div>"
      ],
      "text/plain": [
       "                                                                                                                                        Message  Label\n",
       "0  It's just over 2 years since I was diagnosed with #anxiety and #depression. Today I'm taking a moment to reflect on how far I've come since.      1\n",
       "1                                               It's Sunday, I need a break, so I'm planning to spend as little time as possible on the #A14...      1\n",
       "2                                                                              Awake but tired. I need to sleep but my brain has other ideas...      1\n",
       "3  RT @SewHQ: #Retro bears make perfect gifts and are great for beginners too! Get stitching with October's Sew on sale NOW! #yay http://t.co/…      1\n",
       "4         It’s hard to say whether packing lists are making life easier or just reinforcing how much still needs doing... #movinghouse #anxiety      1"
      ]
     },
     "execution_count": 17,
     "metadata": {},
     "output_type": "execute_result"
    }
   ],
   "source": [
    "df2.head()"
   ]
  },
  {
   "cell_type": "markdown",
   "metadata": {},
   "source": [
    "###### Merge dataset"
   ]
  },
  {
   "cell_type": "code",
   "execution_count": 18,
   "metadata": {},
   "outputs": [],
   "source": [
    "df_uncleaned = pd.concat([df1,df2])"
   ]
  },
  {
   "cell_type": "code",
   "execution_count": 19,
   "metadata": {},
   "outputs": [
    {
     "name": "stdout",
     "output_type": "stream",
     "text": [
      "<class 'pandas.core.frame.DataFrame'>\n",
      "Int64Index: 30314 entries, 0 to 19999\n",
      "Data columns (total 2 columns):\n",
      " #   Column   Non-Null Count  Dtype \n",
      "---  ------   --------------  ----- \n",
      " 0   Message  30314 non-null  object\n",
      " 1   Label    30314 non-null  int64 \n",
      "dtypes: int64(1), object(1)\n",
      "memory usage: 710.5+ KB\n"
     ]
    }
   ],
   "source": [
    "df_uncleaned.info()"
   ]
  },
  {
   "cell_type": "code",
   "execution_count": 20,
   "metadata": {
    "scrolled": false
   },
   "outputs": [
    {
     "data": {
      "text/plain": [
       "(30314, 2)"
      ]
     },
     "execution_count": 20,
     "metadata": {},
     "output_type": "execute_result"
    }
   ],
   "source": [
    "df_uncleaned.shape"
   ]
  },
  {
   "cell_type": "markdown",
   "metadata": {},
   "source": [
    "###### Check for null and duplicate"
   ]
  },
  {
   "cell_type": "code",
   "execution_count": 21,
   "metadata": {
    "scrolled": false
   },
   "outputs": [
    {
     "data": {
      "text/plain": [
       "543"
      ]
     },
     "execution_count": 21,
     "metadata": {},
     "output_type": "execute_result"
    }
   ],
   "source": [
    "df_uncleaned.duplicated().sum()"
   ]
  },
  {
   "cell_type": "code",
   "execution_count": 22,
   "metadata": {},
   "outputs": [],
   "source": [
    "df_uncleaned.drop_duplicates(inplace=True)"
   ]
  },
  {
   "cell_type": "code",
   "execution_count": 23,
   "metadata": {},
   "outputs": [
    {
     "data": {
      "text/plain": [
       "(29771, 2)"
      ]
     },
     "execution_count": 23,
     "metadata": {},
     "output_type": "execute_result"
    }
   ],
   "source": [
    "df_uncleaned.shape"
   ]
  },
  {
   "cell_type": "code",
   "execution_count": 24,
   "metadata": {},
   "outputs": [
    {
     "data": {
      "text/plain": [
       "Message    0\n",
       "Label      0\n",
       "dtype: int64"
      ]
     },
     "execution_count": 24,
     "metadata": {},
     "output_type": "execute_result"
    }
   ],
   "source": [
    "##Checking for null values\n",
    "df_uncleaned.isnull().sum()"
   ]
  },
  {
   "cell_type": "code",
   "execution_count": 25,
   "metadata": {},
   "outputs": [
    {
     "data": {
      "text/plain": [
       "Index(['Message', 'Label'], dtype='object')"
      ]
     },
     "execution_count": 25,
     "metadata": {},
     "output_type": "execute_result"
    }
   ],
   "source": [
    "df_uncleaned.columns"
   ]
  },
  {
   "cell_type": "markdown",
   "metadata": {},
   "source": [
    "<hr>"
   ]
  },
  {
   "cell_type": "markdown",
   "metadata": {},
   "source": [
    "## 2. Exploratory Data Analysis"
   ]
  },
  {
   "cell_type": "markdown",
   "metadata": {},
   "source": [
    "###### Target Class Distribution"
   ]
  },
  {
   "cell_type": "markdown",
   "metadata": {},
   "source": [
    "> imbalance dataset with 59% non-depressive, 41% depressive"
   ]
  },
  {
   "cell_type": "code",
   "execution_count": 26,
   "metadata": {},
   "outputs": [
    {
     "data": {
      "text/plain": [
       "0    0.590037\n",
       "1    0.409963\n",
       "Name: Label, dtype: float64"
      ]
     },
     "execution_count": 26,
     "metadata": {},
     "output_type": "execute_result"
    }
   ],
   "source": [
    "df_uncleaned.Label.value_counts(normalize = True)"
   ]
  },
  {
   "cell_type": "code",
   "execution_count": 27,
   "metadata": {},
   "outputs": [
    {
     "data": {
      "text/plain": [
       "<AxesSubplot:xlabel='Label', ylabel='count'>"
      ]
     },
     "execution_count": 27,
     "metadata": {},
     "output_type": "execute_result"
    },
    {
     "data": {
      "image/png": "[encoded data removed]",
      "text/plain": [
       "<Figure size 640x480 with 1 Axes>"
      ]
     },
     "metadata": {},
     "output_type": "display_data"
    }
   ],
   "source": [
    "sns.countplot(x=df_uncleaned[\"Label\"])"
   ]
  },
  {
   "cell_type": "markdown",
   "metadata": {},
   "source": [
    "###### Number of characters in tweets"
   ]
  },
  {
   "cell_type": "code",
   "execution_count": 28,
   "metadata": {},
   "outputs": [
    {
     "data": {
      "image/png": "[encoded data removed]",
      "text/plain": [
       "<Figure size 1000x500 with 2 Axes>"
      ]
     },
     "metadata": {},
     "output_type": "display_data"
    }
   ],
   "source": [
    "## Number of character\n",
    "fig,(ax1,ax2)=plt.subplots(1,2,figsize=(10,5))\n",
    "fig.suptitle('Number of Characters in tweets')\n",
    "\n",
    "#depressive\n",
    "tweet_len=df_uncleaned[df_uncleaned['Label']==1]['Message'].str.len()\n",
    "ax1.hist(tweet_len,color='red')\n",
    "ax1.set_title('depressive tweets')\n",
    "\n",
    "#non-depressive\n",
    "tweet_len=df_uncleaned[df_uncleaned['Label']==0]['Message'].str.len()\n",
    "ax2.hist(tweet_len,color='green')\n",
    "ax2.set_title('Non-depressive tweets')\n",
    "\n",
    "plt.show()"
   ]
  },
  {
   "cell_type": "markdown",
   "metadata": {},
   "source": [
    "##### Common stopwords in tweets"
   ]
  },
  {
   "cell_type": "markdown",
   "metadata": {},
   "source": [
    "> In both of classes, \"the\", \"to\", \"a\" dominates "
   ]
  },
  {
   "cell_type": "code",
   "execution_count": 29,
   "metadata": {},
   "outputs": [],
   "source": [
    "def create_corpus(target):\n",
    "    corpus=[]\n",
    "    \n",
    "    for x in df_uncleaned[df_uncleaned['Label']==target]['Message'].str.split():\n",
    "        for i in x:\n",
    "            corpus.append(i)\n",
    "    return corpus"
   ]
  },
  {
   "cell_type": "code",
   "execution_count": 30,
   "metadata": {},
   "outputs": [
    {
     "data": {
      "text/plain": [
       "<BarContainer object of 10 artists>"
      ]
     },
     "execution_count": 30,
     "metadata": {},
     "output_type": "execute_result"
    },
    {
     "data": {
      "image/png": "[encoded data removed]",
      "text/plain": [
       "<Figure size 640x480 with 1 Axes>"
      ]
     },
     "metadata": {},
     "output_type": "display_data"
    }
   ],
   "source": [
    "corpus=create_corpus(0)\n",
    "\n",
    "dic=defaultdict(int)\n",
    "for word in corpus:\n",
    "    if word in stop:\n",
    "        dic[word]+=1\n",
    "        \n",
    "top=sorted(dic.items(), key=lambda x:x[1],reverse=True)[:10] \n",
    "\n",
    "x,y=zip(*top)\n",
    "plt.bar(x,y)"
   ]
  },
  {
   "cell_type": "code",
   "execution_count": 31,
   "metadata": {},
   "outputs": [
    {
     "data": {
      "text/plain": [
       "<BarContainer object of 10 artists>"
      ]
     },
     "execution_count": 31,
     "metadata": {},
     "output_type": "execute_result"
    },
    {
     "data": {
      "image/png": "[encoded data removed]",
      "text/plain": [
       "<Figure size 640x480 with 1 Axes>"
      ]
     },
     "metadata": {},
     "output_type": "display_data"
    }
   ],
   "source": [
    "corpus=create_corpus(1)\n",
    "\n",
    "dic=defaultdict(int)\n",
    "for word in corpus:\n",
    "    if word in stop:\n",
    "        dic[word]+=1\n",
    "\n",
    "top=sorted(dic.items(), key=lambda x:x[1],reverse=True)[:10] \n",
    "\n",
    "x,y=zip(*top)\n",
    "plt.bar(x,y)"
   ]
  },
  {
   "cell_type": "markdown",
   "metadata": {},
   "source": [
    "##### Number of Stop Words in a sentence on average \n"
   ]
  },
  {
   "cell_type": "code",
   "execution_count": 32,
   "metadata": {
    "scrolled": false
   },
   "outputs": [],
   "source": [
    "# This will return us the percentage of Stop Words in Each Tweet. \n",
    "\n",
    "percentage_of_stop_word_in_each_tweet = []\n",
    "\n",
    "def percentage_of_stop_word():\n",
    "    for x in df_uncleaned['Message']:\n",
    "        stop_word = 0.0\n",
    "        total_word_per_sentence = 0.0\n",
    "        for each_word in x.split(\" \"):\n",
    "            if each_word in stop:\n",
    "                stop_word += 1\n",
    "            total_word_per_sentence += 1\n",
    "        \n",
    "        percentage_of_stop_word_in_each_tweet.append(stop_word/total_word_per_sentence)\n",
    "    \n",
    "\n",
    "percentage_of_stop_word()\n"
   ]
  },
  {
   "cell_type": "code",
   "execution_count": 33,
   "metadata": {},
   "outputs": [
    {
     "data": {
      "image/png": "[encoded data removed]",
      "text/plain": [
       "<Figure size 640x480 with 1 Axes>"
      ]
     },
     "metadata": {},
     "output_type": "display_data"
    }
   ],
   "source": [
    "import matplotlib.pyplot as plt\n",
    "\n",
    "data = percentage_of_stop_word_in_each_tweet\n",
    "\n",
    "# Create a histogram with 0.05 bin width\n",
    "bins = list(map(lambda x: x / 20, range(21)))\n",
    "plt.hist(data, bins=bins)\n",
    "\n",
    "# Add labels and title\n",
    "plt.xlabel('Percentage of Stop Words in Each Sentence')\n",
    "plt.ylabel('Frequency')\n",
    "plt.title('Histogram of Data')\n",
    "\n",
    "# Show the histogram\n",
    "plt.show()\n"
   ]
  },
  {
   "cell_type": "markdown",
   "metadata": {},
   "source": [
    "##### Common punctuation in tweets"
   ]
  },
  {
   "cell_type": "code",
   "execution_count": 34,
   "metadata": {},
   "outputs": [
    {
     "data": {
      "text/plain": [
       "<BarContainer object of 25 artists>"
      ]
     },
     "execution_count": 34,
     "metadata": {},
     "output_type": "execute_result"
    },
    {
     "data": {
      "image/png": "[encoded data removed]",
      "text/plain": [
       "<Figure size 1000x500 with 1 Axes>"
      ]
     },
     "metadata": {},
     "output_type": "display_data"
    }
   ],
   "source": [
    "plt.figure(figsize=(10,5))\n",
    "corpus=create_corpus(0)\n",
    "\n",
    "dic=defaultdict(int)\n",
    "import string\n",
    "special = string.punctuation\n",
    "for i in (corpus):\n",
    "    if i in special:\n",
    "        dic[i]+=1\n",
    "        \n",
    "x,y=zip(*dic.items())\n",
    "plt.bar(x,y)"
   ]
  },
  {
   "cell_type": "code",
   "execution_count": 35,
   "metadata": {},
   "outputs": [
    {
     "data": {
      "text/plain": [
       "<BarContainer object of 23 artists>"
      ]
     },
     "execution_count": 35,
     "metadata": {},
     "output_type": "execute_result"
    },
    {
     "data": {
      "image/png": "[encoded data removed]",
      "text/plain": [
       "<Figure size 1000x500 with 1 Axes>"
      ]
     },
     "metadata": {},
     "output_type": "display_data"
    }
   ],
   "source": [
    "plt.figure(figsize=(10,5))\n",
    "corpus=create_corpus(1)\n",
    "\n",
    "dic=defaultdict(int)\n",
    "import string\n",
    "special = string.punctuation\n",
    "for i in (corpus):\n",
    "    if i in special:\n",
    "        dic[i]+=1\n",
    "        \n",
    "x,y=zip(*dic.items())\n",
    "plt.bar(x,y)"
   ]
  },
  {
   "cell_type": "markdown",
   "metadata": {},
   "source": [
    "##### Common Words"
   ]
  },
  {
   "cell_type": "markdown",
   "metadata": {},
   "source": [
    "> it can be see that the common words are stop words which implies that data cleaning is neccessary"
   ]
  },
  {
   "cell_type": "code",
   "execution_count": 36,
   "metadata": {},
   "outputs": [],
   "source": [
    "# function to plot most frequent terms\n",
    "def freq_words(x, terms = 30):\n",
    "    all_words = ' '.join([text for text in x])\n",
    "    all_words = all_words.split()\n",
    "\n",
    "    fdist = FreqDist(all_words)\n",
    "    words_df = pd.DataFrame({'word':list(fdist.keys()), 'count':list(fdist.values())})\n",
    "\n",
    "    d = words_df.nlargest(columns=\"count\", n = terms) \n",
    "    plt.figure(figsize=(20,5))\n",
    "    ax = sns.barplot(data=d, x= \"word\", y = \"count\")\n",
    "    ax.set(ylabel = 'Count')\n",
    "    plt.show()"
   ]
  },
  {
   "cell_type": "code",
   "execution_count": 37,
   "metadata": {},
   "outputs": [
    {
     "data": {
      "image/png": "[encoded data removed]",
      "text/plain": [
       "<Figure size 2000x500 with 1 Axes>"
      ]
     },
     "metadata": {},
     "output_type": "display_data"
    }
   ],
   "source": [
    "freq_words(df_uncleaned['Message'], 35)"
   ]
  },
  {
   "cell_type": "markdown",
   "metadata": {},
   "source": [
    "###### Common Words - Bi-Gram Analysis"
   ]
  },
  {
   "cell_type": "markdown",
   "metadata": {},
   "source": [
    "Bigram (n=2) analysis over the tweets to check the most common bigrams in tweets."
   ]
  },
  {
   "cell_type": "code",
   "execution_count": 38,
   "metadata": {},
   "outputs": [],
   "source": [
    "def get_top_tweet_bigrams(corpus, n=None):\n",
    "    vec = CountVectorizer(ngram_range=(2, 2)).fit(corpus)\n",
    "    bag_of_words = vec.transform(corpus)\n",
    "    sum_words = bag_of_words.sum(axis=0) \n",
    "    words_freq = [(word, sum_words[0, idx]) for word, idx in vec.vocabulary_.items()]\n",
    "    words_freq =sorted(words_freq, key = lambda x: x[1], reverse=True)\n",
    "    return words_freq[:n]"
   ]
  },
  {
   "cell_type": "markdown",
   "metadata": {},
   "source": [
    "> The most frequent words are often unimportant words such as https which is an internet protocol and other words that does not echo much meaning for people identified with depression. Therefore, there is a need of thorough data cleaning \n"
   ]
  },
  {
   "cell_type": "code",
   "execution_count": 39,
   "metadata": {},
   "outputs": [
    {
     "data": {
      "text/plain": [
       "<AxesSubplot:>"
      ]
     },
     "execution_count": 39,
     "metadata": {},
     "output_type": "execute_result"
    },
    {
     "data": {
      "image/png": "[encoded data removed]",
      "text/plain": [
       "<Figure size 1000x500 with 1 Axes>"
      ]
     },
     "metadata": {},
     "output_type": "display_data"
    }
   ],
   "source": [
    "plt.figure(figsize=(10,5))\n",
    "top_tweet_bigrams=get_top_tweet_bigrams(df_uncleaned['Message'])[:10]\n",
    "x,y=map(list,zip(*top_tweet_bigrams))\n",
    "sns.barplot(x=y,y=x)"
   ]
  },
  {
   "cell_type": "markdown",
   "metadata": {},
   "source": [
    "#### Word Cloud Visualization"
   ]
  },
  {
   "cell_type": "markdown",
   "metadata": {},
   "source": [
    "Depression Class"
   ]
  },
  {
   "cell_type": "code",
   "execution_count": 40,
   "metadata": {},
   "outputs": [
    {
     "data": {
      "image/png": "[encoded data removed]",
      "text/plain": [
       "<Figure size 800x600 with 1 Axes>"
      ]
     },
     "metadata": {},
     "output_type": "display_data"
    }
   ],
   "source": [
    "depressive_words = ' '.join(list(df_uncleaned[df_uncleaned['Label'] == 1]['Message']))\n",
    "mask = np.array(Image.open(\"Twitter.png\"))\n",
    "depressive_wc = WordCloud(collocations=False, mask=mask, background_color=\"white\").generate(depressive_words)\n",
    "plt.figure(figsize = (8, 6))\n",
    "plt.imshow(depressive_wc, interpolation=\"bilinear\")\n",
    "plt.axis(\"off\")\n",
    "plt.show()"
   ]
  },
  {
   "cell_type": "markdown",
   "metadata": {},
   "source": [
    "Non-Depression Class"
   ]
  },
  {
   "cell_type": "code",
   "execution_count": 41,
   "metadata": {},
   "outputs": [
    {
     "data": {
      "image/png": "[encoded data removed]",
      "text/plain": [
       "<Figure size 800x600 with 1 Axes>"
      ]
     },
     "metadata": {},
     "output_type": "display_data"
    }
   ],
   "source": [
    "nondepressive_words = ' '.join(list(df_uncleaned[df_uncleaned['Label'] == 0]['Message']))\n",
    "mask = np.array(Image.open(\"Twitter.png\"))\n",
    "nondepressive_wc = WordCloud(collocations=False, mask=mask, background_color=\"white\").generate(nondepressive_words)\n",
    "plt.figure(figsize = (8, 6))\n",
    "plt.imshow(nondepressive_wc, interpolation=\"bilinear\")\n",
    "plt.axis(\"off\")\n",
    "plt.show()"
   ]
  },
  {
   "cell_type": "markdown",
   "metadata": {},
   "source": [
    "## 3. Data Cleaning"
   ]
  },
  {
   "cell_type": "code",
   "execution_count": 42,
   "metadata": {},
   "outputs": [],
   "source": [
    "## Remerge the data after dropping all RT in the 2nd data set -- substr = \"RT @\" \n",
    "df2 = df2[~df2.Message.str.contains(\"RT @\")]\n",
    "df_uncleaned = pd.concat([df1,df2])"
   ]
  },
  {
   "cell_type": "code",
   "execution_count": 43,
   "metadata": {},
   "outputs": [
    {
     "data": {
      "text/plain": [
       "(26609, 2)"
      ]
     },
     "execution_count": 43,
     "metadata": {},
     "output_type": "execute_result"
    }
   ],
   "source": [
    "df_uncleaned.shape"
   ]
  },
  {
   "cell_type": "markdown",
   "metadata": {},
   "source": [
    "###### Convert to Lower Case "
   ]
  },
  {
   "cell_type": "code",
   "execution_count": 44,
   "metadata": {},
   "outputs": [],
   "source": [
    "def text_to_lower(text):\n",
    "    text = text.lower()\n",
    "    return text"
   ]
  },
  {
   "cell_type": "code",
   "execution_count": 45,
   "metadata": {},
   "outputs": [],
   "source": [
    "df_uncleaned['Message'] = df_uncleaned['Message'].apply(lambda x:text_to_lower(x))"
   ]
  },
  {
   "cell_type": "code",
   "execution_count": 46,
   "metadata": {
    "scrolled": false
   },
   "outputs": [
    {
     "data": {
      "text/html": [
       "<div>\n",
       "<style scoped>\n",
       "    .dataframe tbody tr th:only-of-type {\n",
       "        vertical-align: middle;\n",
       "    }\n",
       "\n",
       "    .dataframe tbody tr th {\n",
       "        vertical-align: top;\n",
       "    }\n",
       "\n",
       "    .dataframe thead th {\n",
       "        text-align: right;\n",
       "    }\n",
       "</style>\n",
       "<table border=\"1\" class=\"dataframe\">\n",
       "  <thead>\n",
       "    <tr style=\"text-align: right;\">\n",
       "      <th></th>\n",
       "      <th>Message</th>\n",
       "      <th>Label</th>\n",
       "    </tr>\n",
       "  </thead>\n",
       "  <tbody>\n",
       "    <tr>\n",
       "      <th>0</th>\n",
       "      <td>just had a real good moment. i missssssssss him so much,</td>\n",
       "      <td>0</td>\n",
       "    </tr>\n",
       "    <tr>\n",
       "      <th>1</th>\n",
       "      <td>is reading manga  http://plurk.com/p/mzp1e</td>\n",
       "      <td>0</td>\n",
       "    </tr>\n",
       "    <tr>\n",
       "      <th>2</th>\n",
       "      <td>@comeagainjen http://twitpic.com/2y2lx - http://www.youtube.com/watch?v=zogfqvh2me8</td>\n",
       "      <td>0</td>\n",
       "    </tr>\n",
       "    <tr>\n",
       "      <th>3</th>\n",
       "      <td>@lapcat need to send 'em to my accountant tomorrow. oddly, i wasn't even referring to my taxes. those are supporting evidence, though.</td>\n",
       "      <td>0</td>\n",
       "    </tr>\n",
       "    <tr>\n",
       "      <th>4</th>\n",
       "      <td>add me on myspace!!!  myspace.com/lookthunder</td>\n",
       "      <td>0</td>\n",
       "    </tr>\n",
       "  </tbody>\n",
       "</table>\n",
       "</div>"
      ],
      "text/plain": [
       "                                                                                                                                   Message  Label\n",
       "0                                                                                just had a real good moment. i missssssssss him so much,       0\n",
       "1                                                                                               is reading manga  http://plurk.com/p/mzp1e      0\n",
       "2                                                     @comeagainjen http://twitpic.com/2y2lx - http://www.youtube.com/watch?v=zogfqvh2me8       0\n",
       "3  @lapcat need to send 'em to my accountant tomorrow. oddly, i wasn't even referring to my taxes. those are supporting evidence, though.       0\n",
       "4                                                                                            add me on myspace!!!  myspace.com/lookthunder      0"
      ]
     },
     "execution_count": 46,
     "metadata": {},
     "output_type": "execute_result"
    }
   ],
   "source": [
    "df_uncleaned.head()"
   ]
  },
  {
   "cell_type": "markdown",
   "metadata": {},
   "source": []
  },
  {
   "cell_type": "markdown",
   "metadata": {},
   "source": [
    "###### Removal of HTML entities "
   ]
  },
  {
   "cell_type": "code",
   "execution_count": 47,
   "metadata": {},
   "outputs": [],
   "source": [
    "# These are the HTML Entities \n",
    "html_entities = {'&nbsp;': '', '&iexcl;': '', '&cent;': '', '&pound;': '', '&curren;': '', '&yen;': '', '&brvbar;': '', \n",
    "                  '&sect;': '', '&uml;': '', '&copy;': '', '&reg;': '', '&trade;': '', '&macr;': '', '&deg;': '', \n",
    "                  '&plusmn;': '', '&sup2;': '', '&sup3;': '', '&acute;': '', '&micro;': '', '&para;': '', '&middot;': '', \n",
    "                  '&cedil;': '', '&sup1;': '', '&ordm;': '', '&raquo;': '', '&frac14;': '', '&frac12;': '', '&frac34;': '', \n",
    "                  '&iquest;': '', '&Agrave;': '', '&Aacute;': '', '&Acirc;': '', '&Atilde;': '', '&Auml;': '', \n",
    "                  '&Aring;': '', '&AElig;': '', '&Ccedil;': '', '&Egrave;': '', '&Eacute;': '', '&Ecirc;': '', '&Euml;': '', \n",
    "                  '&Igrave;': '', '&Iacute;': '', '&Icirc;': '', '&Iuml;': '', '&ETH;': '', '&Ntilde;': '', '&Ograve;': '', \n",
    "                  '&Oacute;': '', '&Ocirc;': '', '&Otilde;': '', '&Ouml;': '', '&times;': '', '&Oslash;': '', \n",
    "                  '&Ugrave;': '', '&Uacute;': '', '&Ucirc;': '', '&Uuml;': '', '&Yacute;': '', '&THORN;': '', '&szlig;': '', \n",
    "                  '&agrave;': '', '&aacute;': '', '&acirc;': '', '&atilde;': '', '&auml;': '', '&aring;': '', '&aelig;': '', \n",
    "                  '&ccedil;': '', '&egrave;': '', '&eacute;': '', '&ecirc;': '', '&euml;': '', '&igrave;': '', '&iacute;': '', \n",
    "                  '&icirc;': '', '&iuml;': '', '&eth;': '', '&ntilde;': '', '&ograve;': '', '&oacute;': '', '&ocirc;': '', \n",
    "                  '&otilde;': '', '&ouml;': '', '&divide;': '','&amp;': '', '&lt;': '', '&gt;': '', '&quot;': '', '&apos;': ''}"
   ]
  },
  {
   "cell_type": "code",
   "execution_count": 48,
   "metadata": {},
   "outputs": [],
   "source": [
    "html_re = re.compile('(%s)' % '|'.join(html_entities.keys()))\n",
    "\n",
    "def replace_html_entities(text,contractions_dict=html_entities):\n",
    "    def replace(match):\n",
    "        return html_entities[match.group(0)]\n",
    "    return html_re.sub(replace, text)\n",
    "\n",
    "df_uncleaned['Message'] = df_uncleaned['Message'].apply(lambda x:replace_html_entities(x))\n"
   ]
  },
  {
   "cell_type": "code",
   "execution_count": 49,
   "metadata": {},
   "outputs": [
    {
     "data": {
      "text/html": [
       "<div>\n",
       "<style scoped>\n",
       "    .dataframe tbody tr th:only-of-type {\n",
       "        vertical-align: middle;\n",
       "    }\n",
       "\n",
       "    .dataframe tbody tr th {\n",
       "        vertical-align: top;\n",
       "    }\n",
       "\n",
       "    .dataframe thead th {\n",
       "        text-align: right;\n",
       "    }\n",
       "</style>\n",
       "<table border=\"1\" class=\"dataframe\">\n",
       "  <thead>\n",
       "    <tr style=\"text-align: right;\">\n",
       "      <th></th>\n",
       "      <th>Message</th>\n",
       "      <th>Label</th>\n",
       "    </tr>\n",
       "  </thead>\n",
       "  <tbody>\n",
       "    <tr>\n",
       "      <th>0</th>\n",
       "      <td>just had a real good moment. i missssssssss him so much,</td>\n",
       "      <td>0</td>\n",
       "    </tr>\n",
       "    <tr>\n",
       "      <th>1</th>\n",
       "      <td>is reading manga  http://plurk.com/p/mzp1e</td>\n",
       "      <td>0</td>\n",
       "    </tr>\n",
       "    <tr>\n",
       "      <th>2</th>\n",
       "      <td>@comeagainjen http://twitpic.com/2y2lx - http://www.youtube.com/watch?v=zogfqvh2me8</td>\n",
       "      <td>0</td>\n",
       "    </tr>\n",
       "    <tr>\n",
       "      <th>3</th>\n",
       "      <td>@lapcat need to send 'em to my accountant tomorrow. oddly, i wasn't even referring to my taxes. those are supporting evidence, though.</td>\n",
       "      <td>0</td>\n",
       "    </tr>\n",
       "    <tr>\n",
       "      <th>4</th>\n",
       "      <td>add me on myspace!!!  myspace.com/lookthunder</td>\n",
       "      <td>0</td>\n",
       "    </tr>\n",
       "  </tbody>\n",
       "</table>\n",
       "</div>"
      ],
      "text/plain": [
       "                                                                                                                                   Message  Label\n",
       "0                                                                                just had a real good moment. i missssssssss him so much,       0\n",
       "1                                                                                               is reading manga  http://plurk.com/p/mzp1e      0\n",
       "2                                                     @comeagainjen http://twitpic.com/2y2lx - http://www.youtube.com/watch?v=zogfqvh2me8       0\n",
       "3  @lapcat need to send 'em to my accountant tomorrow. oddly, i wasn't even referring to my taxes. those are supporting evidence, though.       0\n",
       "4                                                                                            add me on myspace!!!  myspace.com/lookthunder      0"
      ]
     },
     "execution_count": 49,
     "metadata": {},
     "output_type": "execute_result"
    }
   ],
   "source": [
    "df_uncleaned.head()"
   ]
  },
  {
   "cell_type": "markdown",
   "metadata": {},
   "source": [
    "###### Removal of Hashtags"
   ]
  },
  {
   "cell_type": "code",
   "execution_count": 50,
   "metadata": {},
   "outputs": [],
   "source": [
    "# Removal of HashTag\n",
    "def remove_hashtags (text):\n",
    "    text = re.sub(r\"#\\w+\", '', text, flags=re.MULTILINE)\n",
    "    return(text)\n"
   ]
  },
  {
   "cell_type": "code",
   "execution_count": 51,
   "metadata": {},
   "outputs": [],
   "source": [
    "df_uncleaned['Message'] = df_uncleaned['Message'].apply(lambda x:remove_hashtags(x))"
   ]
  },
  {
   "cell_type": "code",
   "execution_count": 52,
   "metadata": {},
   "outputs": [
    {
     "data": {
      "text/html": [
       "<div>\n",
       "<style scoped>\n",
       "    .dataframe tbody tr th:only-of-type {\n",
       "        vertical-align: middle;\n",
       "    }\n",
       "\n",
       "    .dataframe tbody tr th {\n",
       "        vertical-align: top;\n",
       "    }\n",
       "\n",
       "    .dataframe thead th {\n",
       "        text-align: right;\n",
       "    }\n",
       "</style>\n",
       "<table border=\"1\" class=\"dataframe\">\n",
       "  <thead>\n",
       "    <tr style=\"text-align: right;\">\n",
       "      <th></th>\n",
       "      <th>Message</th>\n",
       "      <th>Label</th>\n",
       "    </tr>\n",
       "  </thead>\n",
       "  <tbody>\n",
       "    <tr>\n",
       "      <th>0</th>\n",
       "      <td>just had a real good moment. i missssssssss him so much,</td>\n",
       "      <td>0</td>\n",
       "    </tr>\n",
       "    <tr>\n",
       "      <th>1</th>\n",
       "      <td>is reading manga  http://plurk.com/p/mzp1e</td>\n",
       "      <td>0</td>\n",
       "    </tr>\n",
       "    <tr>\n",
       "      <th>2</th>\n",
       "      <td>@comeagainjen http://twitpic.com/2y2lx - http://www.youtube.com/watch?v=zogfqvh2me8</td>\n",
       "      <td>0</td>\n",
       "    </tr>\n",
       "    <tr>\n",
       "      <th>3</th>\n",
       "      <td>@lapcat need to send 'em to my accountant tomorrow. oddly, i wasn't even referring to my taxes. those are supporting evidence, though.</td>\n",
       "      <td>0</td>\n",
       "    </tr>\n",
       "    <tr>\n",
       "      <th>4</th>\n",
       "      <td>add me on myspace!!!  myspace.com/lookthunder</td>\n",
       "      <td>0</td>\n",
       "    </tr>\n",
       "  </tbody>\n",
       "</table>\n",
       "</div>"
      ],
      "text/plain": [
       "                                                                                                                                   Message  Label\n",
       "0                                                                                just had a real good moment. i missssssssss him so much,       0\n",
       "1                                                                                               is reading manga  http://plurk.com/p/mzp1e      0\n",
       "2                                                     @comeagainjen http://twitpic.com/2y2lx - http://www.youtube.com/watch?v=zogfqvh2me8       0\n",
       "3  @lapcat need to send 'em to my accountant tomorrow. oddly, i wasn't even referring to my taxes. those are supporting evidence, though.       0\n",
       "4                                                                                            add me on myspace!!!  myspace.com/lookthunder      0"
      ]
     },
     "execution_count": 52,
     "metadata": {},
     "output_type": "execute_result"
    }
   ],
   "source": [
    "df_uncleaned.head()"
   ]
  },
  {
   "cell_type": "markdown",
   "metadata": {},
   "source": [
    "###### Conversion of contractions"
   ]
  },
  {
   "cell_type": "code",
   "execution_count": 53,
   "metadata": {},
   "outputs": [
    {
     "name": "stdout",
     "output_type": "stream",
     "text": [
      "<class 'pandas.core.frame.DataFrame'>\n",
      "Int64Index: 26609 entries, 0 to 19999\n",
      "Data columns (total 2 columns):\n",
      " #   Column   Non-Null Count  Dtype \n",
      "---  ------   --------------  ----- \n",
      " 0   Message  26609 non-null  object\n",
      " 1   Label    26609 non-null  int64 \n",
      "dtypes: int64(1), object(1)\n",
      "memory usage: 623.6+ KB\n"
     ]
    }
   ],
   "source": [
    "# Converting it to string type\n",
    "df_uncleaned['Message'] = df_uncleaned['Message'].astype(\"str\")\n",
    "df_uncleaned.info()"
   ]
  },
  {
   "cell_type": "code",
   "execution_count": 54,
   "metadata": {},
   "outputs": [],
   "source": [
    "contractions_dict = { \"ain't\": \"are not\",\"'s\":\" is\",\"aren't\": \"are not\",\n",
    "                     \"can't\": \"cannot\",\"can't've\": \"cannot have\",\n",
    "                     \"'cause\": \"because\",\"could've\": \"could have\",\"couldn't\": \"could not\",\n",
    "                     \"couldn't've\": \"could not have\", \"didn't\": \"did not\",\"doesn't\": \"does not\",\n",
    "                     \"don't\": \"do not\",\"hadn't\": \"had not\",\"hadn't've\": \"had not have\",\n",
    "                     \"hasn't\": \"has not\",\"haven't\": \"have not\",\"he'd\": \"he would\",\n",
    "                     \"he'd've\": \"he would have\",\"he'll\": \"he will\", \"he'll've\": \"he will have\",\n",
    "                     \"how'd\": \"how did\",\"how'd'y\": \"how do you\",\"how'll\": \"how will\",\n",
    "                     \"i'd\": \"i would\", \"i'd've\": \"i would have\",\"i'll\": \"i will\",\n",
    "                     \"i'll've\": \"i will have\",\"i'm\": \"i am\",\"i've\": \"i have\", \"isn't\": \"is not\",\n",
    "                     \"it'd\": \"it would\",\"it'd've\": \"it would have\",\"it'll\": \"it will\",\n",
    "                     \"it'll've\": \"it will have\", \"let's\": \"let us\",\"ma'am\": \"madam\",\n",
    "                     \"mayn't\": \"may not\",\"might've\": \"might have\",\"mightn't\": \"might not\", \n",
    "                     \"mightn't've\": \"might not have\",\"must've\": \"must have\",\"mustn't\": \"must not\",\n",
    "                     \"mustn't've\": \"must not have\", \"needn't\": \"need not\",\n",
    "                     \"needn't've\": \"need not have\",\"o'clock\": \"of the clock\",\"oughtn't\": \"ought not\",\n",
    "                     \"oughtn't've\": \"ought not have\",\"shan't\": \"shall not\",\"sha'n't\": \"shall not\",\n",
    "                     \"shan't've\": \"shall not have\",\"she'd\": \"she would\",\"she'd've\": \"she would have\",\n",
    "                     \"she'll\": \"she will\", \"she'll've\": \"she will have\",\"should've\": \"should have\",\n",
    "                     \"shouldn't\": \"should not\", \"shouldn't've\": \"should not have\",\"so've\": \"so have\",\n",
    "                     \"that'd\": \"that would\",\"that'd've\": \"that would have\", \"there'd\": \"there would\",\n",
    "                     \"there'd've\": \"there would have\", \"they'd\": \"they would\",\n",
    "                     \"they'd've\": \"they would have\",\"they'll\": \"they will\",\n",
    "                     \"they'll've\": \"they will have\", \"they're\": \"they are\",\"they've\": \"they have\",\n",
    "                     \"to've\": \"to have\",\"wasn't\": \"was not\",\"we'd\": \"we would\",\n",
    "                     \"we'd've\": \"we would have\",\"we'll\": \"we will\",\"we'll've\": \"we will have\",\n",
    "                     \"we're\": \"we are\",\"we've\": \"we have\", \"weren't\": \"were not\",\"what'll\": \"what will\",\n",
    "                     \"what'll've\": \"what will have\",\"what're\": \"what are\", \"what've\": \"what have\",\n",
    "                     \"when've\": \"when have\",\"where'd\": \"where did\", \"where've\": \"where have\",\n",
    "                     \"who'll\": \"who will\",\"who'll've\": \"who will have\",\"who've\": \"who have\",\n",
    "                     \"why've\": \"why have\",\"will've\": \"will have\",\"won't\": \"will not\",\n",
    "                     \"won't've\": \"will not have\", \"would've\": \"would have\",\"wouldn't\": \"would not\",\n",
    "                     \"wouldn't've\": \"would not have\",\"y'all\": \"you all\", \"y'all'd\": \"you all would\",\n",
    "                     \"y'all'd've\": \"you all would have\",\"y'all're\": \"you all are\",\n",
    "                     \"y'all've\": \"you all have\", \"you'd\": \"you would\",\"you'd've\": \"you would have\",\n",
    "                     \"you'll\": \"you will\",\"you'll've\": \"you will have\", \"you're\": \"you are\",\n",
    "                     \"you've\": \"you have\",\n",
    "                    \n",
    "                    \"aint\": \"are not\",\"'s\":\" is\",\"arent\": \"are not\",\n",
    "                     \"cant\": \"cannot\",\"cantve\": \"cannot have\",\n",
    "                     \"'cause\": \"because\",\"couldve\": \"could have\",\"couldnt\": \"could not\",\n",
    "                     \"couldntve\": \"could not have\", \"didnt\": \"did not\",\"doesnt\": \"does not\",\n",
    "                     \"dont\": \"do not\",\"hadnt\": \"had not\",\"hadnt've\": \"had not have\",\n",
    "                     \"hasnt\": \"has not\",\"havent\": \"have not\",\"hed\": \"he would\",\n",
    "                     \"hedve\": \"he would have\",\"hell\": \"he will\", \"hellve\": \"he will have\",\n",
    "                     \"howd\": \"how did\",\"howdy\": \"how do you\",\"howll\": \"how will\",\n",
    "                     \"id\": \"i would\", \"id've\": \"i would have\",\"ill\": \"i will\",\n",
    "                     \"illve\": \"i will have\",\"im\": \"i am\",\"ive\": \"i have\", \"isnt\": \"is not\",\n",
    "                     \"itd\": \"it would\",\"itd've\": \"it would have\",\"itll\": \"it will\",\n",
    "                     \"itll've\": \"it will have\", \"lets\": \"let us\",\"maam\": \"madam\",\n",
    "                     \"maynt\": \"may not\",\"mightve\": \"might have\",\"mightnt\": \"might not\", \n",
    "                     \"mightntve\": \"might not have\",\"mustve\": \"must have\",\"mustnt\": \"must not\",\n",
    "                     \"mustn'tve\": \"must not have\", \"neednt\": \"need not\",\n",
    "                     \"needn'tve\": \"need not have\",\"oclock\": \"of the clock\",\"oughtnt\": \"ought not\",\n",
    "                     \"oughtntve\": \"ought not have\",\"shant\": \"shall not\",\"shant\": \"shall not\",\n",
    "                     \"shantve\": \"shall not have\",\"shed\": \"she would\",\"shedve\": \"she would have\",\n",
    "                     \"shell\": \"she will\", \"shellve\": \"she will have\",\"shouldve\": \"should have\",\n",
    "                     \"shouldnt\": \"should not\", \"shouldntve\": \"should not have\",\"sove\": \"so have\",\n",
    "                     \"thatd\": \"that would\",\"thatdve\": \"that would have\", \"thered\": \"there would\",\n",
    "                     \"theredve\": \"there would have\", \"theyd\": \"they would\",\n",
    "                     \"theydve\": \"they would have\",\"theyll\": \"they will\",\n",
    "                     \"theyllve\": \"they will have\", \"theyre\": \"they are\",\"theyve\": \"they have\",\n",
    "                     \"tove\": \"to have\",\"wasnt\": \"was not\",\"wed\": \"we would\",\n",
    "                     \"wedve\": \"we would have\",\"well\": \"we will\",\"well've\": \"we will have\",\n",
    "                     \"were\": \"we are\",\"weve\": \"we have\", \"werent\": \"were not\",\"whatll\": \"what will\",\n",
    "                     \"whatllve\": \"what will have\",\"whatre\": \"what are\", \"whatve\": \"what have\",\n",
    "                     \"whenve\": \"when have\",\"whered\": \"where did\", \"whereve\": \"where have\",\n",
    "                     \"wholl\": \"who will\",\"whollve\": \"who will have\",\"whove\": \"who have\",\n",
    "                     \"whyve\": \"why have\",\"willve\": \"will have\",\"wont\": \"will not\",\n",
    "                     \"wontve\": \"will not have\", \"wouldve\": \"would have\",\"wouldnt\": \"would not\",\n",
    "                     \"wouldntve\": \"would not have\",\"yall\": \"you all\", \"yalld\": \"you all would\",\n",
    "                     \"yalldve\": \"you all would have\",\"yallre\": \"you all are\",\n",
    "                     \"yallve\": \"you all have\", \"youd\": \"you would\",\"youdve\": \"you would have\",\n",
    "                     \"youll\": \"you will\",\"youllve\": \"you will have\", \"youre\": \"you are\",\n",
    "                     \"youve\": \"you have\"}\n",
    "\n",
    "contractions_re = re.compile('(%s)' % '|'.join(contractions_dict.keys()))\n",
    "\n",
    "def expand_contractions(text,contractions_dict=contractions_dict):\n",
    "    def replace(match):\n",
    "        return contractions_dict[match.group(0)]\n",
    "    return contractions_re.sub(replace, text)"
   ]
  },
  {
   "cell_type": "code",
   "execution_count": 55,
   "metadata": {},
   "outputs": [],
   "source": [
    "df_uncleaned['Message'] = df_uncleaned['Message'].apply(lambda x:expand_contractions(x))"
   ]
  },
  {
   "cell_type": "code",
   "execution_count": 56,
   "metadata": {},
   "outputs": [
    {
     "data": {
      "text/html": [
       "<div>\n",
       "<style scoped>\n",
       "    .dataframe tbody tr th:only-of-type {\n",
       "        vertical-align: middle;\n",
       "    }\n",
       "\n",
       "    .dataframe tbody tr th {\n",
       "        vertical-align: top;\n",
       "    }\n",
       "\n",
       "    .dataframe thead th {\n",
       "        text-align: right;\n",
       "    }\n",
       "</style>\n",
       "<table border=\"1\" class=\"dataframe\">\n",
       "  <thead>\n",
       "    <tr style=\"text-align: right;\">\n",
       "      <th></th>\n",
       "      <th>Message</th>\n",
       "      <th>Label</th>\n",
       "    </tr>\n",
       "  </thead>\n",
       "  <tbody>\n",
       "    <tr>\n",
       "      <th>0</th>\n",
       "      <td>just had a real good moment. i missssssssss hi am so much,</td>\n",
       "      <td>0</td>\n",
       "    </tr>\n",
       "    <tr>\n",
       "      <th>1</th>\n",
       "      <td>is reading manga  http://plurk.com/p/mzp1e</td>\n",
       "      <td>0</td>\n",
       "    </tr>\n",
       "    <tr>\n",
       "      <th>2</th>\n",
       "      <td>@comeagainjen http://twitpic.com/2y2lx - http://www.youtube.com/watch?v=zogfqvh2me8</td>\n",
       "      <td>0</td>\n",
       "    </tr>\n",
       "    <tr>\n",
       "      <th>3</th>\n",
       "      <td>@lapcat need to send 'em to my accountant tomorrow. oddly, i was not even referring to my taxes. those are supporting evi wouldence, though.</td>\n",
       "      <td>0</td>\n",
       "    </tr>\n",
       "    <tr>\n",
       "      <th>4</th>\n",
       "      <td>add me on myspace!!!  myspace.com/lookthunder</td>\n",
       "      <td>0</td>\n",
       "    </tr>\n",
       "  </tbody>\n",
       "</table>\n",
       "</div>"
      ],
      "text/plain": [
       "                                                                                                                                         Message  Label\n",
       "0                                                                                    just had a real good moment. i missssssssss hi am so much,       0\n",
       "1                                                                                                     is reading manga  http://plurk.com/p/mzp1e      0\n",
       "2                                                           @comeagainjen http://twitpic.com/2y2lx - http://www.youtube.com/watch?v=zogfqvh2me8       0\n",
       "3  @lapcat need to send 'em to my accountant tomorrow. oddly, i was not even referring to my taxes. those are supporting evi wouldence, though.       0\n",
       "4                                                                                                  add me on myspace!!!  myspace.com/lookthunder      0"
      ]
     },
     "execution_count": 56,
     "metadata": {},
     "output_type": "execute_result"
    }
   ],
   "source": [
    "df_uncleaned.head()"
   ]
  },
  {
   "cell_type": "markdown",
   "metadata": {},
   "source": [
    "###### Removal of URL"
   ]
  },
  {
   "cell_type": "code",
   "execution_count": 57,
   "metadata": {},
   "outputs": [],
   "source": [
    "def remove_urls (text):\n",
    "    text = re.sub(r'(https|http)?:\\/\\/(\\w|\\.|\\/|\\?|\\=|\\&|\\%)*\\b', '', text, flags=re.MULTILINE)\n",
    "    return(text)"
   ]
  },
  {
   "cell_type": "code",
   "execution_count": 58,
   "metadata": {},
   "outputs": [],
   "source": [
    "df_uncleaned['Message'] = df_uncleaned['Message'].apply(lambda x:remove_urls(x))"
   ]
  },
  {
   "cell_type": "code",
   "execution_count": 59,
   "metadata": {},
   "outputs": [
    {
     "data": {
      "text/html": [
       "<div>\n",
       "<style scoped>\n",
       "    .dataframe tbody tr th:only-of-type {\n",
       "        vertical-align: middle;\n",
       "    }\n",
       "\n",
       "    .dataframe tbody tr th {\n",
       "        vertical-align: top;\n",
       "    }\n",
       "\n",
       "    .dataframe thead th {\n",
       "        text-align: right;\n",
       "    }\n",
       "</style>\n",
       "<table border=\"1\" class=\"dataframe\">\n",
       "  <thead>\n",
       "    <tr style=\"text-align: right;\">\n",
       "      <th></th>\n",
       "      <th>Message</th>\n",
       "      <th>Label</th>\n",
       "    </tr>\n",
       "  </thead>\n",
       "  <tbody>\n",
       "    <tr>\n",
       "      <th>0</th>\n",
       "      <td>just had a real good moment. i missssssssss hi am so much,</td>\n",
       "      <td>0</td>\n",
       "    </tr>\n",
       "    <tr>\n",
       "      <th>1</th>\n",
       "      <td>is reading manga</td>\n",
       "      <td>0</td>\n",
       "    </tr>\n",
       "    <tr>\n",
       "      <th>2</th>\n",
       "      <td>@comeagainjen  -</td>\n",
       "      <td>0</td>\n",
       "    </tr>\n",
       "    <tr>\n",
       "      <th>3</th>\n",
       "      <td>@lapcat need to send 'em to my accountant tomorrow. oddly, i was not even referring to my taxes. those are supporting evi wouldence, though.</td>\n",
       "      <td>0</td>\n",
       "    </tr>\n",
       "    <tr>\n",
       "      <th>4</th>\n",
       "      <td>add me on myspace!!!  myspace.com/lookthunder</td>\n",
       "      <td>0</td>\n",
       "    </tr>\n",
       "  </tbody>\n",
       "</table>\n",
       "</div>"
      ],
      "text/plain": [
       "                                                                                                                                         Message  Label\n",
       "0                                                                                    just had a real good moment. i missssssssss hi am so much,       0\n",
       "1                                                                                                                             is reading manga        0\n",
       "2                                                                                                                             @comeagainjen  -        0\n",
       "3  @lapcat need to send 'em to my accountant tomorrow. oddly, i was not even referring to my taxes. those are supporting evi wouldence, though.       0\n",
       "4                                                                                                  add me on myspace!!!  myspace.com/lookthunder      0"
      ]
     },
     "execution_count": 59,
     "metadata": {},
     "output_type": "execute_result"
    }
   ],
   "source": [
    "df_uncleaned.head()"
   ]
  },
  {
   "cell_type": "markdown",
   "metadata": {},
   "source": [
    "###### Removal of Mentions/Retweets User Accounts "
   ]
  },
  {
   "cell_type": "code",
   "execution_count": 60,
   "metadata": {},
   "outputs": [],
   "source": [
    "def remove_mentions_user (text):\n",
    "    text = re.sub(r\"@\\w+\", '', text, flags=re.MULTILINE)\n",
    "    return(text)"
   ]
  },
  {
   "cell_type": "code",
   "execution_count": 61,
   "metadata": {},
   "outputs": [],
   "source": [
    "df_uncleaned['Message'] = df_uncleaned['Message'].apply(lambda x:remove_mentions_user(x))"
   ]
  },
  {
   "cell_type": "code",
   "execution_count": 62,
   "metadata": {},
   "outputs": [
    {
     "data": {
      "text/html": [
       "<div>\n",
       "<style scoped>\n",
       "    .dataframe tbody tr th:only-of-type {\n",
       "        vertical-align: middle;\n",
       "    }\n",
       "\n",
       "    .dataframe tbody tr th {\n",
       "        vertical-align: top;\n",
       "    }\n",
       "\n",
       "    .dataframe thead th {\n",
       "        text-align: right;\n",
       "    }\n",
       "</style>\n",
       "<table border=\"1\" class=\"dataframe\">\n",
       "  <thead>\n",
       "    <tr style=\"text-align: right;\">\n",
       "      <th></th>\n",
       "      <th>Message</th>\n",
       "      <th>Label</th>\n",
       "    </tr>\n",
       "  </thead>\n",
       "  <tbody>\n",
       "    <tr>\n",
       "      <th>0</th>\n",
       "      <td>just had a real good moment. i missssssssss hi am so much,</td>\n",
       "      <td>0</td>\n",
       "    </tr>\n",
       "    <tr>\n",
       "      <th>1</th>\n",
       "      <td>is reading manga</td>\n",
       "      <td>0</td>\n",
       "    </tr>\n",
       "    <tr>\n",
       "      <th>2</th>\n",
       "      <td>-</td>\n",
       "      <td>0</td>\n",
       "    </tr>\n",
       "    <tr>\n",
       "      <th>3</th>\n",
       "      <td>need to send 'em to my accountant tomorrow. oddly, i was not even referring to my taxes. those are supporting evi wouldence, though.</td>\n",
       "      <td>0</td>\n",
       "    </tr>\n",
       "    <tr>\n",
       "      <th>4</th>\n",
       "      <td>add me on myspace!!!  myspace.com/lookthunder</td>\n",
       "      <td>0</td>\n",
       "    </tr>\n",
       "  </tbody>\n",
       "</table>\n",
       "</div>"
      ],
      "text/plain": [
       "                                                                                                                                  Message  Label\n",
       "0                                                                             just had a real good moment. i missssssssss hi am so much,       0\n",
       "1                                                                                                                      is reading manga        0\n",
       "2                                                                                                                                     -        0\n",
       "3   need to send 'em to my accountant tomorrow. oddly, i was not even referring to my taxes. those are supporting evi wouldence, though.       0\n",
       "4                                                                                           add me on myspace!!!  myspace.com/lookthunder      0"
      ]
     },
     "execution_count": 62,
     "metadata": {},
     "output_type": "execute_result"
    }
   ],
   "source": [
    "df_uncleaned.head()"
   ]
  },
  {
   "cell_type": "markdown",
   "metadata": {},
   "source": [
    "###### Removal of Punctuation"
   ]
  },
  {
   "cell_type": "code",
   "execution_count": 63,
   "metadata": {},
   "outputs": [],
   "source": [
    "def remove_punctuations (text):\n",
    "    text = re.sub(r\"\"\"[!\"¦#$%&\\'()*+,-./:;<=>?@[\\\\\\]^_`{|}~،؟…«“\\\":\\\"…”]\"\"\", '', text, flags=re.MULTILINE)\n",
    "    return(text)\n",
    "\n",
    "df_uncleaned['Message'] = df_uncleaned['Message'].apply(lambda x:remove_punctuations(x))"
   ]
  },
  {
   "cell_type": "code",
   "execution_count": 64,
   "metadata": {
    "scrolled": false
   },
   "outputs": [
    {
     "data": {
      "text/html": [
       "<div>\n",
       "<style scoped>\n",
       "    .dataframe tbody tr th:only-of-type {\n",
       "        vertical-align: middle;\n",
       "    }\n",
       "\n",
       "    .dataframe tbody tr th {\n",
       "        vertical-align: top;\n",
       "    }\n",
       "\n",
       "    .dataframe thead th {\n",
       "        text-align: right;\n",
       "    }\n",
       "</style>\n",
       "<table border=\"1\" class=\"dataframe\">\n",
       "  <thead>\n",
       "    <tr style=\"text-align: right;\">\n",
       "      <th></th>\n",
       "      <th>Message</th>\n",
       "      <th>Label</th>\n",
       "    </tr>\n",
       "  </thead>\n",
       "  <tbody>\n",
       "    <tr>\n",
       "      <th>0</th>\n",
       "      <td>just had a real good moment i missssssssss hi am so much</td>\n",
       "      <td>0</td>\n",
       "    </tr>\n",
       "    <tr>\n",
       "      <th>1</th>\n",
       "      <td>is reading manga</td>\n",
       "      <td>0</td>\n",
       "    </tr>\n",
       "    <tr>\n",
       "      <th>2</th>\n",
       "      <td></td>\n",
       "      <td>0</td>\n",
       "    </tr>\n",
       "    <tr>\n",
       "      <th>3</th>\n",
       "      <td>need to send em to my accountant tomorrow oddly i was not even referring to my taxes those are supporting evi wouldence though</td>\n",
       "      <td>0</td>\n",
       "    </tr>\n",
       "    <tr>\n",
       "      <th>4</th>\n",
       "      <td>add me on myspace  myspacecomlookthunder</td>\n",
       "      <td>0</td>\n",
       "    </tr>\n",
       "  </tbody>\n",
       "</table>\n",
       "</div>"
      ],
      "text/plain": [
       "                                                                                                                            Message  Label\n",
       "0                                                                         just had a real good moment i missssssssss hi am so much       0\n",
       "1                                                                                                                is reading manga        0\n",
       "2                                                                                                                                        0\n",
       "3   need to send em to my accountant tomorrow oddly i was not even referring to my taxes those are supporting evi wouldence though       0\n",
       "4                                                                                          add me on myspace  myspacecomlookthunder      0"
      ]
     },
     "execution_count": 64,
     "metadata": {},
     "output_type": "execute_result"
    }
   ],
   "source": [
    "df_uncleaned.head()"
   ]
  },
  {
   "cell_type": "markdown",
   "metadata": {},
   "source": [
    "###### Removal of numbers"
   ]
  },
  {
   "cell_type": "code",
   "execution_count": 65,
   "metadata": {},
   "outputs": [
    {
     "name": "stderr",
     "output_type": "stream",
     "text": [
      "/common/home/users/j/jianyi.lye.2020/jupyterlab-venv-tf/lib/python3.7/site-packages/ipykernel_launcher.py:1: FutureWarning: The default value of regex will change from True to False in a future version.\n",
      "  \"\"\"Entry point for launching an IPython kernel.\n"
     ]
    }
   ],
   "source": [
    "df_uncleaned['Message'] = df_uncleaned['Message'].str.replace('\\d+', '')"
   ]
  },
  {
   "cell_type": "code",
   "execution_count": 66,
   "metadata": {
    "scrolled": false
   },
   "outputs": [
    {
     "data": {
      "text/html": [
       "<div>\n",
       "<style scoped>\n",
       "    .dataframe tbody tr th:only-of-type {\n",
       "        vertical-align: middle;\n",
       "    }\n",
       "\n",
       "    .dataframe tbody tr th {\n",
       "        vertical-align: top;\n",
       "    }\n",
       "\n",
       "    .dataframe thead th {\n",
       "        text-align: right;\n",
       "    }\n",
       "</style>\n",
       "<table border=\"1\" class=\"dataframe\">\n",
       "  <thead>\n",
       "    <tr style=\"text-align: right;\">\n",
       "      <th></th>\n",
       "      <th>Message</th>\n",
       "      <th>Label</th>\n",
       "    </tr>\n",
       "  </thead>\n",
       "  <tbody>\n",
       "    <tr>\n",
       "      <th>0</th>\n",
       "      <td>just had a real good moment i missssssssss hi am so much</td>\n",
       "      <td>0</td>\n",
       "    </tr>\n",
       "    <tr>\n",
       "      <th>1</th>\n",
       "      <td>is reading manga</td>\n",
       "      <td>0</td>\n",
       "    </tr>\n",
       "    <tr>\n",
       "      <th>2</th>\n",
       "      <td></td>\n",
       "      <td>0</td>\n",
       "    </tr>\n",
       "    <tr>\n",
       "      <th>3</th>\n",
       "      <td>need to send em to my accountant tomorrow oddly i was not even referring to my taxes those are supporting evi wouldence though</td>\n",
       "      <td>0</td>\n",
       "    </tr>\n",
       "    <tr>\n",
       "      <th>4</th>\n",
       "      <td>add me on myspace  myspacecomlookthunder</td>\n",
       "      <td>0</td>\n",
       "    </tr>\n",
       "  </tbody>\n",
       "</table>\n",
       "</div>"
      ],
      "text/plain": [
       "                                                                                                                            Message  Label\n",
       "0                                                                         just had a real good moment i missssssssss hi am so much       0\n",
       "1                                                                                                                is reading manga        0\n",
       "2                                                                                                                                        0\n",
       "3   need to send em to my accountant tomorrow oddly i was not even referring to my taxes those are supporting evi wouldence though       0\n",
       "4                                                                                          add me on myspace  myspacecomlookthunder      0"
      ]
     },
     "execution_count": 66,
     "metadata": {},
     "output_type": "execute_result"
    }
   ],
   "source": [
    "df_uncleaned.head()"
   ]
  },
  {
   "cell_type": "markdown",
   "metadata": {},
   "source": [
    "###### Emojis to textual description conversion\n",
    "\n",
    "Translate emojis to their textual description. This is to ensure that the sentiment value that an emoji contain will also be considered by the model in future parts.\n",
    "- Utilise TweetTokenizer to split tweets on a list of words, while treating the emoji as a word itself.\n",
    "- Utilise Emoji demojize to convert the graphical representation of the emoji to its textual representation which seperated by underscore when the description is more than 1 word e.g., smiling_beaming_face, tears_of_joy\n",
    "- Seperate the textual description of emojis e.g, \"smiling_beaming_face\" as ['smiling','beaming','face'] to consider it as normal words"
   ]
  },
  {
   "cell_type": "markdown",
   "metadata": {},
   "source": [
    "#### Need to choose one method (How do we store emoji textual description)"
   ]
  },
  {
   "cell_type": "code",
   "execution_count": 67,
   "metadata": {},
   "outputs": [],
   "source": [
    "# helper function for convert_emojis; return true if token is an emoji\n",
    "def is_emoji(s):\n",
    "    return s in UNICODE_EMOJI\n",
    "\n",
    "# Break up sentences into list of words while considering emojis\n",
    "def store_emojis(text):\n",
    "    \n",
    "    # break up tweets into words while considering emojis as itself e.g., ['this','is','cool','😁','👍']\n",
    "    tweet_list = TweetTokenizer().tokenize(text)\n",
    "    tweet_string = convert_emojis(tweet_list)\n",
    "    return tweet_string\n",
    "\n",
    "def convert_emojis(text):\n",
    "    new_text = []\n",
    "    \n",
    "    for i in range(len(text)):\n",
    "        if is_emoji(text[i]):\n",
    "            temp = emoji.demojize(text[i], delimiters=(\"\",\"\"))\n",
    "            \n",
    "            if \"_\" in temp:\n",
    "                temp = temp.split(\"_\")\n",
    "            \n",
    "            for item in temp:\n",
    "                new_text.append(item)\n",
    "        else:\n",
    "            new_text.append(text[i])\n",
    "        \n",
    "    return ' '.join([str(item) for item in new_text])"
   ]
  },
  {
   "cell_type": "code",
   "execution_count": 68,
   "metadata": {},
   "outputs": [],
   "source": [
    "df_uncleaned['Message'] = df_uncleaned['Message'].apply(lambda x:store_emojis(x))"
   ]
  },
  {
   "cell_type": "code",
   "execution_count": 69,
   "metadata": {},
   "outputs": [
    {
     "data": {
      "text/html": [
       "<div>\n",
       "<style scoped>\n",
       "    .dataframe tbody tr th:only-of-type {\n",
       "        vertical-align: middle;\n",
       "    }\n",
       "\n",
       "    .dataframe tbody tr th {\n",
       "        vertical-align: top;\n",
       "    }\n",
       "\n",
       "    .dataframe thead th {\n",
       "        text-align: right;\n",
       "    }\n",
       "</style>\n",
       "<table border=\"1\" class=\"dataframe\">\n",
       "  <thead>\n",
       "    <tr style=\"text-align: right;\">\n",
       "      <th></th>\n",
       "      <th>Message</th>\n",
       "      <th>Label</th>\n",
       "    </tr>\n",
       "  </thead>\n",
       "  <tbody>\n",
       "    <tr>\n",
       "      <th>0</th>\n",
       "      <td>just had a real good moment i missssssssss hi am so much</td>\n",
       "      <td>0</td>\n",
       "    </tr>\n",
       "    <tr>\n",
       "      <th>1</th>\n",
       "      <td>is reading manga</td>\n",
       "      <td>0</td>\n",
       "    </tr>\n",
       "    <tr>\n",
       "      <th>2</th>\n",
       "      <td></td>\n",
       "      <td>0</td>\n",
       "    </tr>\n",
       "    <tr>\n",
       "      <th>3</th>\n",
       "      <td>need to send em to my accountant tomorrow oddly i was not even referring to my taxes those are supporting evi wouldence though</td>\n",
       "      <td>0</td>\n",
       "    </tr>\n",
       "    <tr>\n",
       "      <th>4</th>\n",
       "      <td>add me on myspace myspacecomlookthunder</td>\n",
       "      <td>0</td>\n",
       "    </tr>\n",
       "  </tbody>\n",
       "</table>\n",
       "</div>"
      ],
      "text/plain": [
       "                                                                                                                          Message  Label\n",
       "0                                                                        just had a real good moment i missssssssss hi am so much      0\n",
       "1                                                                                                                is reading manga      0\n",
       "2                                                                                                                                      0\n",
       "3  need to send em to my accountant tomorrow oddly i was not even referring to my taxes those are supporting evi wouldence though      0\n",
       "4                                                                                         add me on myspace myspacecomlookthunder      0"
      ]
     },
     "execution_count": 69,
     "metadata": {},
     "output_type": "execute_result"
    }
   ],
   "source": [
    "df_uncleaned.head()"
   ]
  },
  {
   "cell_type": "markdown",
   "metadata": {},
   "source": [
    "###### Removal of StopWords \n"
   ]
  },
  {
   "cell_type": "code",
   "execution_count": 70,
   "metadata": {},
   "outputs": [],
   "source": [
    "stopWords = set(stopwords.words('english'))"
   ]
  },
  {
   "cell_type": "code",
   "execution_count": 71,
   "metadata": {},
   "outputs": [],
   "source": [
    "from string import printable\n",
    "st = set(printable)\n",
    "df_uncleaned['Message'] = df_uncleaned['Message'].apply(lambda x: ''.join([\" \" if  i not in  st else i for i in x]))"
   ]
  },
  {
   "cell_type": "code",
   "execution_count": 72,
   "metadata": {},
   "outputs": [],
   "source": [
    "import nltk \n",
    "def remove_stopwords(paragraph):\n",
    "    words = nltk.word_tokenize(paragraph)\n",
    "    wordlist_wo_stopwords=[]\n",
    "    for w in words:\n",
    "        if w not in stopWords:\n",
    "            wordlist_wo_stopwords.append(w)\n",
    "    return wordlist_wo_stopwords\n",
    "\n",
    "df_uncleaned['Message'] = df_uncleaned['Message'].astype(str)\n",
    "df_uncleaned['Message'] = df_uncleaned['Message'].str.replace('[^a-zA-Z0-9]', ' ', regex=True).str.strip()\n",
    "df_uncleaned['Message'] = df_uncleaned['Message'].apply(remove_stopwords)"
   ]
  },
  {
   "cell_type": "code",
   "execution_count": 73,
   "metadata": {},
   "outputs": [],
   "source": [
    "df_uncleaned['Message'] = df_uncleaned['Message'].apply(lambda x: ' '.join(x))"
   ]
  },
  {
   "cell_type": "code",
   "execution_count": 74,
   "metadata": {},
   "outputs": [
    {
     "data": {
      "text/html": [
       "<div>\n",
       "<style scoped>\n",
       "    .dataframe tbody tr th:only-of-type {\n",
       "        vertical-align: middle;\n",
       "    }\n",
       "\n",
       "    .dataframe tbody tr th {\n",
       "        vertical-align: top;\n",
       "    }\n",
       "\n",
       "    .dataframe thead th {\n",
       "        text-align: right;\n",
       "    }\n",
       "</style>\n",
       "<table border=\"1\" class=\"dataframe\">\n",
       "  <thead>\n",
       "    <tr style=\"text-align: right;\">\n",
       "      <th></th>\n",
       "      <th>Message</th>\n",
       "      <th>Label</th>\n",
       "    </tr>\n",
       "  </thead>\n",
       "  <tbody>\n",
       "    <tr>\n",
       "      <th>0</th>\n",
       "      <td>real good moment missssssssss hi much</td>\n",
       "      <td>0</td>\n",
       "    </tr>\n",
       "    <tr>\n",
       "      <th>1</th>\n",
       "      <td>reading manga</td>\n",
       "      <td>0</td>\n",
       "    </tr>\n",
       "    <tr>\n",
       "      <th>2</th>\n",
       "      <td></td>\n",
       "      <td>0</td>\n",
       "    </tr>\n",
       "    <tr>\n",
       "      <th>3</th>\n",
       "      <td>need send em accountant tomorrow oddly even referring taxes supporting evi wouldence though</td>\n",
       "      <td>0</td>\n",
       "    </tr>\n",
       "    <tr>\n",
       "      <th>4</th>\n",
       "      <td>add myspace myspacecomlookthunder</td>\n",
       "      <td>0</td>\n",
       "    </tr>\n",
       "  </tbody>\n",
       "</table>\n",
       "</div>"
      ],
      "text/plain": [
       "                                                                                       Message  Label\n",
       "0                                                        real good moment missssssssss hi much      0\n",
       "1                                                                                reading manga      0\n",
       "2                                                                                                   0\n",
       "3  need send em accountant tomorrow oddly even referring taxes supporting evi wouldence though      0\n",
       "4                                                            add myspace myspacecomlookthunder      0"
      ]
     },
     "execution_count": 74,
     "metadata": {},
     "output_type": "execute_result"
    }
   ],
   "source": [
    "df_uncleaned.head()"
   ]
  },
  {
   "cell_type": "markdown",
   "metadata": {},
   "source": [
    "###### Tokenisation \n",
    "\n",
    "Remove Stop words first then tokenise\n",
    "- What is tokenization? In essence, it’s splitting a string into smaller units (tokens) \n",
    "\n",
    "- After tokenizing the sentence we are provided with a list of all words (and signs) within the sentence. Another common method is sentence tokenization, which splits the text into a list of sentences --> i think maybe no need \n",
    "\n",
    "https://www.dataquest.io/blog/how-to-clean-and-prepare-your-data-for-analysis/"
   ]
  },
  {
   "cell_type": "code",
   "execution_count": 75,
   "metadata": {},
   "outputs": [],
   "source": [
    "# nltk.download('punkt')"
   ]
  },
  {
   "cell_type": "code",
   "execution_count": 76,
   "metadata": {},
   "outputs": [],
   "source": [
    "\n",
    "df_uncleaned['Tokenised'] = df_uncleaned['Message'].apply(word_tokenize)"
   ]
  },
  {
   "cell_type": "code",
   "execution_count": 77,
   "metadata": {},
   "outputs": [
    {
     "data": {
      "text/html": [
       "<div>\n",
       "<style scoped>\n",
       "    .dataframe tbody tr th:only-of-type {\n",
       "        vertical-align: middle;\n",
       "    }\n",
       "\n",
       "    .dataframe tbody tr th {\n",
       "        vertical-align: top;\n",
       "    }\n",
       "\n",
       "    .dataframe thead th {\n",
       "        text-align: right;\n",
       "    }\n",
       "</style>\n",
       "<table border=\"1\" class=\"dataframe\">\n",
       "  <thead>\n",
       "    <tr style=\"text-align: right;\">\n",
       "      <th></th>\n",
       "      <th>Message</th>\n",
       "      <th>Label</th>\n",
       "      <th>Tokenised</th>\n",
       "    </tr>\n",
       "  </thead>\n",
       "  <tbody>\n",
       "    <tr>\n",
       "      <th>0</th>\n",
       "      <td>real good moment missssssssss hi much</td>\n",
       "      <td>0</td>\n",
       "      <td>[real, good, moment, missssssssss, hi, much]</td>\n",
       "    </tr>\n",
       "    <tr>\n",
       "      <th>1</th>\n",
       "      <td>reading manga</td>\n",
       "      <td>0</td>\n",
       "      <td>[reading, manga]</td>\n",
       "    </tr>\n",
       "    <tr>\n",
       "      <th>2</th>\n",
       "      <td></td>\n",
       "      <td>0</td>\n",
       "      <td>[]</td>\n",
       "    </tr>\n",
       "    <tr>\n",
       "      <th>3</th>\n",
       "      <td>need send em accountant tomorrow oddly even referring taxes supporting evi wouldence though</td>\n",
       "      <td>0</td>\n",
       "      <td>[need, send, em, accountant, tomorrow, oddly, even, referring, taxes, supporting, evi, wouldence, though]</td>\n",
       "    </tr>\n",
       "    <tr>\n",
       "      <th>4</th>\n",
       "      <td>add myspace myspacecomlookthunder</td>\n",
       "      <td>0</td>\n",
       "      <td>[add, myspace, myspacecomlookthunder]</td>\n",
       "    </tr>\n",
       "  </tbody>\n",
       "</table>\n",
       "</div>"
      ],
      "text/plain": [
       "                                                                                       Message  Label                                                                                                  Tokenised\n",
       "0                                                        real good moment missssssssss hi much      0                                                               [real, good, moment, missssssssss, hi, much]\n",
       "1                                                                                reading manga      0                                                                                           [reading, manga]\n",
       "2                                                                                                   0                                                                                                         []\n",
       "3  need send em accountant tomorrow oddly even referring taxes supporting evi wouldence though      0  [need, send, em, accountant, tomorrow, oddly, even, referring, taxes, supporting, evi, wouldence, though]\n",
       "4                                                            add myspace myspacecomlookthunder      0                                                                      [add, myspace, myspacecomlookthunder]"
      ]
     },
     "execution_count": 77,
     "metadata": {},
     "output_type": "execute_result"
    }
   ],
   "source": [
    "df_uncleaned.head()"
   ]
  },
  {
   "cell_type": "markdown",
   "metadata": {},
   "source": [
    "\n"
   ]
  },
  {
   "cell_type": "markdown",
   "metadata": {},
   "source": [
    "###### Lemmatization\n",
    "Lemmatization is a text normalization technique used in Natural Language Processing (NLP), that switches any kind of a word to its base root mode. Lemmatization is responsible for grouping different inflected forms of words into the root form, having the same meaning."
   ]
  },
  {
   "cell_type": "code",
   "execution_count": 78,
   "metadata": {},
   "outputs": [],
   "source": [
    "#nltk.download('averaged_perceptron_tagger')"
   ]
  },
  {
   "cell_type": "code",
   "execution_count": 79,
   "metadata": {
    "scrolled": true
   },
   "outputs": [],
   "source": [
    "#nltk.download('all')"
   ]
  },
  {
   "cell_type": "code",
   "execution_count": 80,
   "metadata": {},
   "outputs": [],
   "source": [
    "lemmatizer = WordNetLemmatizer()\n",
    "\n",
    "def lemmatize_it(text):\n",
    "    empty = []\n",
    "    for word, tag in pos_tag(word_tokenize(text)):\n",
    "        wntag = tag[0].lower()\n",
    "        wntag = wntag if wntag in ['a', 'r', 'n', 'v'] else None\n",
    "        if not wntag:\n",
    "            lemma = word\n",
    "            empty.append(lemma)\n",
    "        else:\n",
    "            lemma = lemmatizer.lemmatize(word, wntag)\n",
    "            empty.append(lemma)\n",
    "    return ' '.join(empty)\n",
    "\n",
    "df_uncleaned['Message'] = df_uncleaned['Message'].apply(lemmatize_it)"
   ]
  },
  {
   "cell_type": "code",
   "execution_count": 81,
   "metadata": {},
   "outputs": [
    {
     "data": {
      "text/html": [
       "<div>\n",
       "<style scoped>\n",
       "    .dataframe tbody tr th:only-of-type {\n",
       "        vertical-align: middle;\n",
       "    }\n",
       "\n",
       "    .dataframe tbody tr th {\n",
       "        vertical-align: top;\n",
       "    }\n",
       "\n",
       "    .dataframe thead th {\n",
       "        text-align: right;\n",
       "    }\n",
       "</style>\n",
       "<table border=\"1\" class=\"dataframe\">\n",
       "  <thead>\n",
       "    <tr style=\"text-align: right;\">\n",
       "      <th></th>\n",
       "      <th>Message</th>\n",
       "      <th>Label</th>\n",
       "      <th>Tokenised</th>\n",
       "    </tr>\n",
       "  </thead>\n",
       "  <tbody>\n",
       "    <tr>\n",
       "      <th>0</th>\n",
       "      <td>real good moment miss hi much</td>\n",
       "      <td>0</td>\n",
       "      <td>[real, good, moment, missssssssss, hi, much]</td>\n",
       "    </tr>\n",
       "    <tr>\n",
       "      <th>1</th>\n",
       "      <td>reading manga</td>\n",
       "      <td>0</td>\n",
       "      <td>[reading, manga]</td>\n",
       "    </tr>\n",
       "    <tr>\n",
       "      <th>2</th>\n",
       "      <td></td>\n",
       "      <td>0</td>\n",
       "      <td>[]</td>\n",
       "    </tr>\n",
       "    <tr>\n",
       "      <th>3</th>\n",
       "      <td>need send em accountant tomorrow oddly even refer tax support evi wouldence though</td>\n",
       "      <td>0</td>\n",
       "      <td>[need, send, em, accountant, tomorrow, oddly, even, referring, taxes, supporting, evi, wouldence, though]</td>\n",
       "    </tr>\n",
       "    <tr>\n",
       "      <th>4</th>\n",
       "      <td>add myspace myspacecomlookthunder</td>\n",
       "      <td>0</td>\n",
       "      <td>[add, myspace, myspacecomlookthunder]</td>\n",
       "    </tr>\n",
       "  </tbody>\n",
       "</table>\n",
       "</div>"
      ],
      "text/plain": [
       "                                                                              Message  Label                                                                                                  Tokenised\n",
       "0                                                       real good moment miss hi much      0                                                               [real, good, moment, missssssssss, hi, much]\n",
       "1                                                                       reading manga      0                                                                                           [reading, manga]\n",
       "2                                                                                          0                                                                                                         []\n",
       "3  need send em accountant tomorrow oddly even refer tax support evi wouldence though      0  [need, send, em, accountant, tomorrow, oddly, even, referring, taxes, supporting, evi, wouldence, though]\n",
       "4                                                   add myspace myspacecomlookthunder      0                                                                      [add, myspace, myspacecomlookthunder]"
      ]
     },
     "execution_count": 81,
     "metadata": {},
     "output_type": "execute_result"
    }
   ],
   "source": [
    "df_uncleaned.head()"
   ]
  },
  {
   "cell_type": "markdown",
   "metadata": {},
   "source": [
    "<hr>"
   ]
  },
  {
   "cell_type": "markdown",
   "metadata": {},
   "source": [
    "### 4. Exploratory Data Analysis on Cleaened Dataset"
   ]
  },
  {
   "cell_type": "markdown",
   "metadata": {},
   "source": [
    "> Getting the most popular words for the whole dataset"
   ]
  },
  {
   "cell_type": "code",
   "execution_count": 82,
   "metadata": {},
   "outputs": [
    {
     "data": {
      "text/html": [
       "<div>\n",
       "<style scoped>\n",
       "    .dataframe tbody tr th:only-of-type {\n",
       "        vertical-align: middle;\n",
       "    }\n",
       "\n",
       "    .dataframe tbody tr th {\n",
       "        vertical-align: top;\n",
       "    }\n",
       "\n",
       "    .dataframe thead th {\n",
       "        text-align: right;\n",
       "    }\n",
       "</style>\n",
       "<table border=\"1\" class=\"dataframe\">\n",
       "  <thead>\n",
       "    <tr style=\"text-align: right;\">\n",
       "      <th></th>\n",
       "      <th>Common_words</th>\n",
       "      <th>count</th>\n",
       "    </tr>\n",
       "  </thead>\n",
       "  <tbody>\n",
       "    <tr>\n",
       "      <th>0</th>\n",
       "      <td>depression</td>\n",
       "      <td>2965</td>\n",
       "    </tr>\n",
       "    <tr>\n",
       "      <th>1</th>\n",
       "      <td>would</td>\n",
       "      <td>2140</td>\n",
       "    </tr>\n",
       "    <tr>\n",
       "      <th>2</th>\n",
       "      <td>like</td>\n",
       "      <td>1353</td>\n",
       "    </tr>\n",
       "    <tr>\n",
       "      <th>3</th>\n",
       "      <td>good</td>\n",
       "      <td>1042</td>\n",
       "    </tr>\n",
       "    <tr>\n",
       "      <th>4</th>\n",
       "      <td>ame</td>\n",
       "      <td>995</td>\n",
       "    </tr>\n",
       "    <tr>\n",
       "      <th>5</th>\n",
       "      <td>ti</td>\n",
       "      <td>994</td>\n",
       "    </tr>\n",
       "    <tr>\n",
       "      <th>6</th>\n",
       "      <td>get</td>\n",
       "      <td>976</td>\n",
       "    </tr>\n",
       "    <tr>\n",
       "      <th>7</th>\n",
       "      <td>love</td>\n",
       "      <td>954</td>\n",
       "    </tr>\n",
       "    <tr>\n",
       "      <th>8</th>\n",
       "      <td>one</td>\n",
       "      <td>932</td>\n",
       "    </tr>\n",
       "    <tr>\n",
       "      <th>9</th>\n",
       "      <td>know</td>\n",
       "      <td>902</td>\n",
       "    </tr>\n",
       "    <tr>\n",
       "      <th>10</th>\n",
       "      <td>wi</td>\n",
       "      <td>855</td>\n",
       "    </tr>\n",
       "    <tr>\n",
       "      <th>11</th>\n",
       "      <td>day</td>\n",
       "      <td>819</td>\n",
       "    </tr>\n",
       "    <tr>\n",
       "      <th>12</th>\n",
       "      <td>go</td>\n",
       "      <td>723</td>\n",
       "    </tr>\n",
       "    <tr>\n",
       "      <th>13</th>\n",
       "      <td>people</td>\n",
       "      <td>691</td>\n",
       "    </tr>\n",
       "    <tr>\n",
       "      <th>14</th>\n",
       "      <td>got</td>\n",
       "      <td>659</td>\n",
       "    </tr>\n",
       "    <tr>\n",
       "      <th>15</th>\n",
       "      <td>see</td>\n",
       "      <td>616</td>\n",
       "    </tr>\n",
       "    <tr>\n",
       "      <th>16</th>\n",
       "      <td>u</td>\n",
       "      <td>597</td>\n",
       "    </tr>\n",
       "    <tr>\n",
       "      <th>17</th>\n",
       "      <td>today</td>\n",
       "      <td>596</td>\n",
       "    </tr>\n",
       "    <tr>\n",
       "      <th>18</th>\n",
       "      <td>new</td>\n",
       "      <td>594</td>\n",
       "    </tr>\n",
       "    <tr>\n",
       "      <th>19</th>\n",
       "      <td>lol</td>\n",
       "      <td>577</td>\n",
       "    </tr>\n",
       "  </tbody>\n",
       "</table>\n",
       "</div>"
      ],
      "text/plain": [
       "   Common_words  count\n",
       "0    depression   2965\n",
       "1         would   2140\n",
       "2          like   1353\n",
       "3          good   1042\n",
       "4           ame    995\n",
       "5            ti    994\n",
       "6           get    976\n",
       "7          love    954\n",
       "8           one    932\n",
       "9          know    902\n",
       "10           wi    855\n",
       "11          day    819\n",
       "12           go    723\n",
       "13       people    691\n",
       "14          got    659\n",
       "15          see    616\n",
       "16            u    597\n",
       "17        today    596\n",
       "18          new    594\n",
       "19          lol    577"
      ]
     },
     "execution_count": 82,
     "metadata": {},
     "output_type": "execute_result"
    }
   ],
   "source": [
    "# function for checking popular words:\n",
    "def popular_words(series):\n",
    "    top = Counter([item for sublist in df_uncleaned['Tokenised'] for item in sublist])\n",
    "    temp = pd.DataFrame(top.most_common(20))\n",
    "    temp.columns = ['Common_words','count']\n",
    "    return temp\n",
    "\n",
    "popular_words(df_uncleaned['Message'])"
   ]
  },
  {
   "cell_type": "markdown",
   "metadata": {},
   "source": [
    "**Insights**: We are able to observe the top 20 most common words in the dataset. This will provide us with insights of what words are more significant than the others in detecting depression. More specifically, we will be interested to know how many of these words are from depressed labelled tweets."
   ]
  },
  {
   "cell_type": "markdown",
   "metadata": {},
   "source": [
    "> Getting the most popular words for the whole dataset for depressed labelled tweets"
   ]
  },
  {
   "cell_type": "code",
   "execution_count": 83,
   "metadata": {},
   "outputs": [
    {
     "data": {
      "text/plain": [
       "(26609, 3)"
      ]
     },
     "execution_count": 83,
     "metadata": {},
     "output_type": "execute_result"
    }
   ],
   "source": [
    "df_uncleaned.shape"
   ]
  },
  {
   "cell_type": "code",
   "execution_count": 84,
   "metadata": {},
   "outputs": [
    {
     "data": {
      "text/plain": [
       "(10495, 3)"
      ]
     },
     "execution_count": 84,
     "metadata": {},
     "output_type": "execute_result"
    }
   ],
   "source": [
    "df_uncleaned_depressed = df_uncleaned[df_uncleaned[\"Label\"] == 1] \n",
    "df_uncleaned_depressed.shape"
   ]
  },
  {
   "cell_type": "code",
   "execution_count": 85,
   "metadata": {},
   "outputs": [
    {
     "data": {
      "text/html": [
       "<div>\n",
       "<style scoped>\n",
       "    .dataframe tbody tr th:only-of-type {\n",
       "        vertical-align: middle;\n",
       "    }\n",
       "\n",
       "    .dataframe tbody tr th {\n",
       "        vertical-align: top;\n",
       "    }\n",
       "\n",
       "    .dataframe thead th {\n",
       "        text-align: right;\n",
       "    }\n",
       "</style>\n",
       "<table border=\"1\" class=\"dataframe\">\n",
       "  <thead>\n",
       "    <tr style=\"text-align: right;\">\n",
       "      <th></th>\n",
       "      <th>Common_words</th>\n",
       "      <th>count</th>\n",
       "    </tr>\n",
       "  </thead>\n",
       "  <tbody>\n",
       "    <tr>\n",
       "      <th>0</th>\n",
       "      <td>depression</td>\n",
       "      <td>2961</td>\n",
       "    </tr>\n",
       "    <tr>\n",
       "      <th>1</th>\n",
       "      <td>would</td>\n",
       "      <td>843</td>\n",
       "    </tr>\n",
       "    <tr>\n",
       "      <th>2</th>\n",
       "      <td>like</td>\n",
       "      <td>619</td>\n",
       "    </tr>\n",
       "    <tr>\n",
       "      <th>3</th>\n",
       "      <td>get</td>\n",
       "      <td>450</td>\n",
       "    </tr>\n",
       "    <tr>\n",
       "      <th>4</th>\n",
       "      <td>people</td>\n",
       "      <td>398</td>\n",
       "    </tr>\n",
       "    <tr>\n",
       "      <th>5</th>\n",
       "      <td>ti</td>\n",
       "      <td>386</td>\n",
       "    </tr>\n",
       "    <tr>\n",
       "      <th>6</th>\n",
       "      <td>one</td>\n",
       "      <td>386</td>\n",
       "    </tr>\n",
       "    <tr>\n",
       "      <th>7</th>\n",
       "      <td>know</td>\n",
       "      <td>374</td>\n",
       "    </tr>\n",
       "    <tr>\n",
       "      <th>8</th>\n",
       "      <td>anxiety</td>\n",
       "      <td>364</td>\n",
       "    </tr>\n",
       "    <tr>\n",
       "      <th>9</th>\n",
       "      <td>ame</td>\n",
       "      <td>337</td>\n",
       "    </tr>\n",
       "    <tr>\n",
       "      <th>10</th>\n",
       "      <td>love</td>\n",
       "      <td>298</td>\n",
       "    </tr>\n",
       "    <tr>\n",
       "      <th>11</th>\n",
       "      <td>life</td>\n",
       "      <td>287</td>\n",
       "    </tr>\n",
       "    <tr>\n",
       "      <th>12</th>\n",
       "      <td>go</td>\n",
       "      <td>284</td>\n",
       "    </tr>\n",
       "    <tr>\n",
       "      <th>13</th>\n",
       "      <td>wi</td>\n",
       "      <td>273</td>\n",
       "    </tr>\n",
       "    <tr>\n",
       "      <th>14</th>\n",
       "      <td>treatments</td>\n",
       "      <td>272</td>\n",
       "    </tr>\n",
       "    <tr>\n",
       "      <th>15</th>\n",
       "      <td>good</td>\n",
       "      <td>264</td>\n",
       "    </tr>\n",
       "    <tr>\n",
       "      <th>16</th>\n",
       "      <td>day</td>\n",
       "      <td>260</td>\n",
       "    </tr>\n",
       "    <tr>\n",
       "      <th>17</th>\n",
       "      <td>help</td>\n",
       "      <td>255</td>\n",
       "    </tr>\n",
       "    <tr>\n",
       "      <th>18</th>\n",
       "      <td>got</td>\n",
       "      <td>252</td>\n",
       "    </tr>\n",
       "    <tr>\n",
       "      <th>19</th>\n",
       "      <td>really</td>\n",
       "      <td>247</td>\n",
       "    </tr>\n",
       "  </tbody>\n",
       "</table>\n",
       "</div>"
      ],
      "text/plain": [
       "   Common_words  count\n",
       "0    depression   2961\n",
       "1         would    843\n",
       "2          like    619\n",
       "3           get    450\n",
       "4        people    398\n",
       "5            ti    386\n",
       "6           one    386\n",
       "7          know    374\n",
       "8       anxiety    364\n",
       "9           ame    337\n",
       "10         love    298\n",
       "11         life    287\n",
       "12           go    284\n",
       "13           wi    273\n",
       "14   treatments    272\n",
       "15         good    264\n",
       "16          day    260\n",
       "17         help    255\n",
       "18          got    252\n",
       "19       really    247"
      ]
     },
     "execution_count": 85,
     "metadata": {},
     "output_type": "execute_result"
    }
   ],
   "source": [
    "from collections import Counter\n",
    "\n",
    "# function for checking popular words in depressed labels:\n",
    "def popular_words(series):\n",
    "#     data1['temp_list'] = series.apply(lambda x:str(x).split())\n",
    "    top = Counter([item for sublist in df_uncleaned_depressed['Tokenised'] for item in sublist])\n",
    "    temp = pd.DataFrame(top.most_common(20))\n",
    "    temp.columns = ['Common_words','count']\n",
    "    return temp\n",
    "\n",
    "popular_words(df_uncleaned_depressed['Message'])"
   ]
  },
  {
   "cell_type": "code",
   "execution_count": 86,
   "metadata": {},
   "outputs": [
    {
     "data": {
      "image/png": "[encoded data removed]",
      "text/plain": [
       "<Figure size 2000x1000 with 1 Axes>"
      ]
     },
     "metadata": {},
     "output_type": "display_data"
    }
   ],
   "source": [
    "## Visualise in Bar Graph (Popular Words in depressed label)\n",
    "import matplotlib.pyplot as plt\n",
    "\n",
    "depressed_words_df = popular_words(df_uncleaned_depressed['Message'])\n",
    "# depressed_words_df = temp_df.groupby('Common_words').sum().sort_values(by='count',ascending=False)\n",
    "\n",
    "depressed_words_df\n",
    "# courses = list(depressed_words_df.keys())\n",
    "# values = list(depressed_words_df.values())\n",
    "\n",
    "common_words_list = []\n",
    "count_list = []\n",
    "\n",
    "for index, row in depressed_words_df.iterrows():\n",
    "    common_words_list.append(row['Common_words'])\n",
    "    count_list.append(row['count'])\n",
    "    \n",
    "\n",
    "fig = plt.figure(figsize = (20, 10))\n",
    " \n",
    "# creating the bar plot\n",
    "plt.bar(common_words_list, count_list, color ='maroon',\n",
    "        width = 0.4)\n",
    " \n",
    "plt.xlabel(\"Common Words\")\n",
    "plt.ylabel(\"Number of occurences\")\n",
    "plt.title(\"Top 20 Common Words in 'Depressed' labels\")\n",
    "plt.show()\n"
   ]
  },
  {
   "cell_type": "markdown",
   "metadata": {},
   "source": [
    "**Insights**: After taking a deeper look at only depressed labelled tweets, we are able to notice extra words such as \"treatments\" and \"help\" to name a few. We are able to also observe that there are many words that are common in the whole dataset also appear for the most common words of depressed labelled tweets. However, some of these words may also appear in non depressed label tweets. Therefore, further filtering can be done to find out the most common words that strictly only appear for depressed labelled tweets to ensure only words representative of the label is extracted."
   ]
  },
  {
   "cell_type": "markdown",
   "metadata": {},
   "source": [
    "> Getting the most popular words for the whole dataset for non-depressed labelled tweets"
   ]
  },
  {
   "cell_type": "code",
   "execution_count": 87,
   "metadata": {},
   "outputs": [
    {
     "data": {
      "text/plain": [
       "(16114, 3)"
      ]
     },
     "execution_count": 87,
     "metadata": {},
     "output_type": "execute_result"
    }
   ],
   "source": [
    "# Find Common Words in non-depressed labels (To see if they are overlaps)\n",
    "df_uncleaned_nondepressed =df_uncleaned[df_uncleaned[\"Label\"] == 0] \n",
    "df_uncleaned_nondepressed.shape"
   ]
  },
  {
   "cell_type": "code",
   "execution_count": 88,
   "metadata": {},
   "outputs": [
    {
     "data": {
      "text/html": [
       "<div>\n",
       "<style scoped>\n",
       "    .dataframe tbody tr th:only-of-type {\n",
       "        vertical-align: middle;\n",
       "    }\n",
       "\n",
       "    .dataframe tbody tr th {\n",
       "        vertical-align: top;\n",
       "    }\n",
       "\n",
       "    .dataframe thead th {\n",
       "        text-align: right;\n",
       "    }\n",
       "</style>\n",
       "<table border=\"1\" class=\"dataframe\">\n",
       "  <thead>\n",
       "    <tr style=\"text-align: right;\">\n",
       "      <th></th>\n",
       "      <th>Common_words</th>\n",
       "      <th>count</th>\n",
       "    </tr>\n",
       "  </thead>\n",
       "  <tbody>\n",
       "    <tr>\n",
       "      <th>0</th>\n",
       "      <td>would</td>\n",
       "      <td>1297</td>\n",
       "    </tr>\n",
       "    <tr>\n",
       "      <th>1</th>\n",
       "      <td>good</td>\n",
       "      <td>778</td>\n",
       "    </tr>\n",
       "    <tr>\n",
       "      <th>2</th>\n",
       "      <td>like</td>\n",
       "      <td>734</td>\n",
       "    </tr>\n",
       "    <tr>\n",
       "      <th>3</th>\n",
       "      <td>ame</td>\n",
       "      <td>658</td>\n",
       "    </tr>\n",
       "    <tr>\n",
       "      <th>4</th>\n",
       "      <td>love</td>\n",
       "      <td>656</td>\n",
       "    </tr>\n",
       "    <tr>\n",
       "      <th>5</th>\n",
       "      <td>ti</td>\n",
       "      <td>608</td>\n",
       "    </tr>\n",
       "    <tr>\n",
       "      <th>6</th>\n",
       "      <td>wi</td>\n",
       "      <td>582</td>\n",
       "    </tr>\n",
       "    <tr>\n",
       "      <th>7</th>\n",
       "      <td>day</td>\n",
       "      <td>559</td>\n",
       "    </tr>\n",
       "    <tr>\n",
       "      <th>8</th>\n",
       "      <td>one</td>\n",
       "      <td>546</td>\n",
       "    </tr>\n",
       "    <tr>\n",
       "      <th>9</th>\n",
       "      <td>know</td>\n",
       "      <td>528</td>\n",
       "    </tr>\n",
       "    <tr>\n",
       "      <th>10</th>\n",
       "      <td>get</td>\n",
       "      <td>526</td>\n",
       "    </tr>\n",
       "    <tr>\n",
       "      <th>11</th>\n",
       "      <td>thanks</td>\n",
       "      <td>495</td>\n",
       "    </tr>\n",
       "    <tr>\n",
       "      <th>12</th>\n",
       "      <td>thank</td>\n",
       "      <td>463</td>\n",
       "    </tr>\n",
       "    <tr>\n",
       "      <th>13</th>\n",
       "      <td>u</td>\n",
       "      <td>454</td>\n",
       "    </tr>\n",
       "    <tr>\n",
       "      <th>14</th>\n",
       "      <td>lol</td>\n",
       "      <td>444</td>\n",
       "    </tr>\n",
       "    <tr>\n",
       "      <th>15</th>\n",
       "      <td>go</td>\n",
       "      <td>439</td>\n",
       "    </tr>\n",
       "    <tr>\n",
       "      <th>16</th>\n",
       "      <td>twitter</td>\n",
       "      <td>435</td>\n",
       "    </tr>\n",
       "    <tr>\n",
       "      <th>17</th>\n",
       "      <td>see</td>\n",
       "      <td>416</td>\n",
       "    </tr>\n",
       "    <tr>\n",
       "      <th>18</th>\n",
       "      <td>got</td>\n",
       "      <td>407</td>\n",
       "    </tr>\n",
       "    <tr>\n",
       "      <th>19</th>\n",
       "      <td>new</td>\n",
       "      <td>380</td>\n",
       "    </tr>\n",
       "  </tbody>\n",
       "</table>\n",
       "</div>"
      ],
      "text/plain": [
       "   Common_words  count\n",
       "0         would   1297\n",
       "1          good    778\n",
       "2          like    734\n",
       "3           ame    658\n",
       "4          love    656\n",
       "5            ti    608\n",
       "6            wi    582\n",
       "7           day    559\n",
       "8           one    546\n",
       "9          know    528\n",
       "10          get    526\n",
       "11       thanks    495\n",
       "12        thank    463\n",
       "13            u    454\n",
       "14          lol    444\n",
       "15           go    439\n",
       "16      twitter    435\n",
       "17          see    416\n",
       "18          got    407\n",
       "19          new    380"
      ]
     },
     "execution_count": 88,
     "metadata": {},
     "output_type": "execute_result"
    }
   ],
   "source": [
    "# function for checking popular words in non-depressed labels:\n",
    "def popular_words(series):\n",
    "#     data1['temp_list'] = series.apply(lambda x:str(x).split())\n",
    "    top = Counter([item for sublist in df_uncleaned_nondepressed['Tokenised'] for item in sublist])\n",
    "    temp = pd.DataFrame(top.most_common(20))\n",
    "    temp.columns = ['Common_words','count']\n",
    "    return temp\n",
    "\n",
    "popular_words(df_uncleaned_nondepressed['Message'])"
   ]
  },
  {
   "cell_type": "code",
   "execution_count": 89,
   "metadata": {},
   "outputs": [
    {
     "data": {
      "image/png": "[encoded data removed]",
      "text/plain": [
       "<Figure size 2000x1000 with 1 Axes>"
      ]
     },
     "metadata": {},
     "output_type": "display_data"
    }
   ],
   "source": [
    "nondepressed_words_df = popular_words(df_uncleaned_nondepressed['Message'])\n",
    "nondepressed_words_df\n",
    "\n",
    "common_words_list = []\n",
    "count_list = []\n",
    "\n",
    "for index, row in nondepressed_words_df.iterrows():\n",
    "    common_words_list.append(row['Common_words'])\n",
    "    count_list.append(row['count'])\n",
    "    \n",
    "\n",
    "fig = plt.figure(figsize = (20, 10))\n",
    " \n",
    "# creating the bar plot\n",
    "plt.bar(common_words_list, count_list, color ='maroon',\n",
    "        width = 0.4)\n",
    " \n",
    "plt.xlabel(\"Common Words\")\n",
    "plt.ylabel(\"Number of occurences\")\n",
    "plt.title(\"Top 20 Common Words in 'Not Depressed' labels\")\n",
    "plt.show()"
   ]
  },
  {
   "cell_type": "markdown",
   "metadata": {},
   "source": [
    "**Insights**: Looking at the common words in the non depressed label tweets, we are able to see words like \"would\" and \"like\" which appears in both depressed and non depressed label tweets. We need to filter any other words that may exist in both labels to ensure that we can extract the unique common words of the depressed label tweets."
   ]
  },
  {
   "cell_type": "markdown",
   "metadata": {},
   "source": [
    "> Getting the most common unique words for depressed labelled tweets (top words that only appears in depressed labelled tweets)"
   ]
  },
  {
   "cell_type": "code",
   "execution_count": 90,
   "metadata": {},
   "outputs": [
    {
     "data": {
      "image/png": "[encoded data removed]",
      "text/plain": [
       "<Figure size 2000x1000 with 1 Axes>"
      ]
     },
     "metadata": {},
     "output_type": "display_data"
    }
   ],
   "source": [
    "#Find common words in depressed labels that do not appear in non depressed labels\n",
    "\n",
    "# Depressed dataframe\n",
    "depressed_words_df\n",
    "\n",
    "depressed_words = []\n",
    "depressed_count = []\n",
    "\n",
    "for index, row in depressed_words_df.iterrows():\n",
    "    depressed_words.append(row['Common_words'])\n",
    "    depressed_count.append(row['count'])\n",
    "\n",
    "# Non Depressed dataframe\n",
    "nondepressed_words_df\n",
    "\n",
    "nondepressed_words = []\n",
    "nondepressed_count = []\n",
    "\n",
    "for index, row in nondepressed_words_df.iterrows():\n",
    "    nondepressed_words.append(row['Common_words'])\n",
    "    nondepressed_count.append(row['count'])\n",
    "\n",
    "\n",
    "unique_depressed_words = []\n",
    "unique_depressed_count = []\n",
    "\n",
    "for i in range(len(depressed_words)):\n",
    "    if depressed_words[i] not in nondepressed_words:\n",
    "        unique_depressed_words.append(depressed_words[i])\n",
    "        unique_depressed_count.append(depressed_count[i])\n",
    "\n",
    "        \n",
    "# Plot Bar Graph\n",
    "fig = plt.figure(figsize = (20, 10))\n",
    " \n",
    "# creating the bar plot\n",
    "plt.bar(unique_depressed_words, unique_depressed_count, color ='maroon',\n",
    "        width = 0.4)\n",
    " \n",
    "plt.xlabel(\"Common Words\")\n",
    "plt.ylabel(\"Number of occurences\")\n",
    "plt.title(\"Unique Common Words in 'Depressed' labels\")\n",
    "plt.show()"
   ]
  },
  {
   "cell_type": "markdown",
   "metadata": {},
   "source": [
    "**Insights**: After obtaining the unique words for the depressed label tweets, we are able to identify 8 unique words that only exist in the depressed labelled tweets."
   ]
  },
  {
   "cell_type": "markdown",
   "metadata": {},
   "source": [
    "<hr>"
   ]
  },
  {
   "cell_type": "markdown",
   "metadata": {},
   "source": [
    "### 5. Preparing Dataset for Model Training\n"
   ]
  },
  {
   "cell_type": "code",
   "execution_count": 91,
   "metadata": {},
   "outputs": [
    {
     "data": {
      "text/html": [
       "<div>\n",
       "<style scoped>\n",
       "    .dataframe tbody tr th:only-of-type {\n",
       "        vertical-align: middle;\n",
       "    }\n",
       "\n",
       "    .dataframe tbody tr th {\n",
       "        vertical-align: top;\n",
       "    }\n",
       "\n",
       "    .dataframe thead th {\n",
       "        text-align: right;\n",
       "    }\n",
       "</style>\n",
       "<table border=\"1\" class=\"dataframe\">\n",
       "  <thead>\n",
       "    <tr style=\"text-align: right;\">\n",
       "      <th></th>\n",
       "      <th>Message</th>\n",
       "      <th>Label</th>\n",
       "      <th>Tokenised</th>\n",
       "    </tr>\n",
       "  </thead>\n",
       "  <tbody>\n",
       "    <tr>\n",
       "      <th>0</th>\n",
       "      <td>real good moment miss hi much</td>\n",
       "      <td>0</td>\n",
       "      <td>[real, good, moment, missssssssss, hi, much]</td>\n",
       "    </tr>\n",
       "    <tr>\n",
       "      <th>1</th>\n",
       "      <td>reading manga</td>\n",
       "      <td>0</td>\n",
       "      <td>[reading, manga]</td>\n",
       "    </tr>\n",
       "    <tr>\n",
       "      <th>2</th>\n",
       "      <td></td>\n",
       "      <td>0</td>\n",
       "      <td>[]</td>\n",
       "    </tr>\n",
       "    <tr>\n",
       "      <th>3</th>\n",
       "      <td>need send em accountant tomorrow oddly even refer tax support evi wouldence though</td>\n",
       "      <td>0</td>\n",
       "      <td>[need, send, em, accountant, tomorrow, oddly, even, referring, taxes, supporting, evi, wouldence, though]</td>\n",
       "    </tr>\n",
       "    <tr>\n",
       "      <th>4</th>\n",
       "      <td>add myspace myspacecomlookthunder</td>\n",
       "      <td>0</td>\n",
       "      <td>[add, myspace, myspacecomlookthunder]</td>\n",
       "    </tr>\n",
       "  </tbody>\n",
       "</table>\n",
       "</div>"
      ],
      "text/plain": [
       "                                                                              Message  Label                                                                                                  Tokenised\n",
       "0                                                       real good moment miss hi much      0                                                               [real, good, moment, missssssssss, hi, much]\n",
       "1                                                                       reading manga      0                                                                                           [reading, manga]\n",
       "2                                                                                          0                                                                                                         []\n",
       "3  need send em accountant tomorrow oddly even refer tax support evi wouldence though      0  [need, send, em, accountant, tomorrow, oddly, even, referring, taxes, supporting, evi, wouldence, though]\n",
       "4                                                   add myspace myspacecomlookthunder      0                                                                      [add, myspace, myspacecomlookthunder]"
      ]
     },
     "execution_count": 91,
     "metadata": {},
     "output_type": "execute_result"
    }
   ],
   "source": [
    "df_uncleaned.head()"
   ]
  },
  {
   "cell_type": "code",
   "execution_count": 92,
   "metadata": {},
   "outputs": [],
   "source": [
    "df_cleaned = df_uncleaned[[\"Message\",\"Label\"]]"
   ]
  },
  {
   "cell_type": "code",
   "execution_count": 93,
   "metadata": {},
   "outputs": [],
   "source": [
    "df_cleaned.reset_index(inplace=True)"
   ]
  },
  {
   "cell_type": "code",
   "execution_count": 94,
   "metadata": {},
   "outputs": [
    {
     "data": {
      "text/html": [
       "<div>\n",
       "<style scoped>\n",
       "    .dataframe tbody tr th:only-of-type {\n",
       "        vertical-align: middle;\n",
       "    }\n",
       "\n",
       "    .dataframe tbody tr th {\n",
       "        vertical-align: top;\n",
       "    }\n",
       "\n",
       "    .dataframe thead th {\n",
       "        text-align: right;\n",
       "    }\n",
       "</style>\n",
       "<table border=\"1\" class=\"dataframe\">\n",
       "  <thead>\n",
       "    <tr style=\"text-align: right;\">\n",
       "      <th></th>\n",
       "      <th>index</th>\n",
       "      <th>Message</th>\n",
       "      <th>Label</th>\n",
       "    </tr>\n",
       "  </thead>\n",
       "  <tbody>\n",
       "    <tr>\n",
       "      <th>0</th>\n",
       "      <td>0</td>\n",
       "      <td>real good moment miss hi much</td>\n",
       "      <td>0</td>\n",
       "    </tr>\n",
       "    <tr>\n",
       "      <th>1</th>\n",
       "      <td>1</td>\n",
       "      <td>reading manga</td>\n",
       "      <td>0</td>\n",
       "    </tr>\n",
       "    <tr>\n",
       "      <th>2</th>\n",
       "      <td>2</td>\n",
       "      <td></td>\n",
       "      <td>0</td>\n",
       "    </tr>\n",
       "    <tr>\n",
       "      <th>3</th>\n",
       "      <td>3</td>\n",
       "      <td>need send em accountant tomorrow oddly even refer tax support evi wouldence though</td>\n",
       "      <td>0</td>\n",
       "    </tr>\n",
       "    <tr>\n",
       "      <th>4</th>\n",
       "      <td>4</td>\n",
       "      <td>add myspace myspacecomlookthunder</td>\n",
       "      <td>0</td>\n",
       "    </tr>\n",
       "  </tbody>\n",
       "</table>\n",
       "</div>"
      ],
      "text/plain": [
       "   index                                                                             Message  Label\n",
       "0      0                                                       real good moment miss hi much      0\n",
       "1      1                                                                       reading manga      0\n",
       "2      2                                                                                          0\n",
       "3      3  need send em accountant tomorrow oddly even refer tax support evi wouldence though      0\n",
       "4      4                                                   add myspace myspacecomlookthunder      0"
      ]
     },
     "execution_count": 94,
     "metadata": {},
     "output_type": "execute_result"
    }
   ],
   "source": [
    "df_cleaned.head()"
   ]
  },
  {
   "cell_type": "code",
   "execution_count": 95,
   "metadata": {
    "scrolled": true
   },
   "outputs": [
    {
     "data": {
      "text/plain": [
       "(26609, 3)"
      ]
     },
     "execution_count": 95,
     "metadata": {},
     "output_type": "execute_result"
    }
   ],
   "source": [
    "df_cleaned.shape"
   ]
  },
  {
   "cell_type": "code",
   "execution_count": 96,
   "metadata": {
    "scrolled": false
   },
   "outputs": [
    {
     "name": "stdout",
     "output_type": "stream",
     "text": [
      "number of row with empty string: 147\n"
     ]
    }
   ],
   "source": [
    "list_of_index = df_cleaned[df_cleaned['Message'] == ''].index.values.tolist()\n",
    "print(f'number of row with empty string: {len(list_of_index)}')"
   ]
  },
  {
   "cell_type": "code",
   "execution_count": 97,
   "metadata": {
    "scrolled": true
   },
   "outputs": [
    {
     "data": {
      "text/html": [
       "<div>\n",
       "<style scoped>\n",
       "    .dataframe tbody tr th:only-of-type {\n",
       "        vertical-align: middle;\n",
       "    }\n",
       "\n",
       "    .dataframe tbody tr th {\n",
       "        vertical-align: top;\n",
       "    }\n",
       "\n",
       "    .dataframe thead th {\n",
       "        text-align: right;\n",
       "    }\n",
       "</style>\n",
       "<table border=\"1\" class=\"dataframe\">\n",
       "  <thead>\n",
       "    <tr style=\"text-align: right;\">\n",
       "      <th></th>\n",
       "      <th>index</th>\n",
       "      <th>Message</th>\n",
       "      <th>Label</th>\n",
       "    </tr>\n",
       "  </thead>\n",
       "  <tbody>\n",
       "    <tr>\n",
       "      <th>2</th>\n",
       "      <td>2</td>\n",
       "      <td></td>\n",
       "      <td>0</td>\n",
       "    </tr>\n",
       "    <tr>\n",
       "      <th>156</th>\n",
       "      <td>156</td>\n",
       "      <td></td>\n",
       "      <td>0</td>\n",
       "    </tr>\n",
       "    <tr>\n",
       "      <th>263</th>\n",
       "      <td>263</td>\n",
       "      <td></td>\n",
       "      <td>0</td>\n",
       "    </tr>\n",
       "    <tr>\n",
       "      <th>526</th>\n",
       "      <td>526</td>\n",
       "      <td></td>\n",
       "      <td>0</td>\n",
       "    </tr>\n",
       "    <tr>\n",
       "      <th>718</th>\n",
       "      <td>718</td>\n",
       "      <td></td>\n",
       "      <td>0</td>\n",
       "    </tr>\n",
       "    <tr>\n",
       "      <th>778</th>\n",
       "      <td>778</td>\n",
       "      <td></td>\n",
       "      <td>0</td>\n",
       "    </tr>\n",
       "    <tr>\n",
       "      <th>809</th>\n",
       "      <td>809</td>\n",
       "      <td></td>\n",
       "      <td>0</td>\n",
       "    </tr>\n",
       "    <tr>\n",
       "      <th>1233</th>\n",
       "      <td>1233</td>\n",
       "      <td></td>\n",
       "      <td>0</td>\n",
       "    </tr>\n",
       "    <tr>\n",
       "      <th>1461</th>\n",
       "      <td>1461</td>\n",
       "      <td></td>\n",
       "      <td>0</td>\n",
       "    </tr>\n",
       "    <tr>\n",
       "      <th>1480</th>\n",
       "      <td>1480</td>\n",
       "      <td></td>\n",
       "      <td>0</td>\n",
       "    </tr>\n",
       "    <tr>\n",
       "      <th>2053</th>\n",
       "      <td>2053</td>\n",
       "      <td></td>\n",
       "      <td>0</td>\n",
       "    </tr>\n",
       "    <tr>\n",
       "      <th>2708</th>\n",
       "      <td>2708</td>\n",
       "      <td></td>\n",
       "      <td>0</td>\n",
       "    </tr>\n",
       "    <tr>\n",
       "      <th>2800</th>\n",
       "      <td>2800</td>\n",
       "      <td></td>\n",
       "      <td>0</td>\n",
       "    </tr>\n",
       "    <tr>\n",
       "      <th>2948</th>\n",
       "      <td>2948</td>\n",
       "      <td></td>\n",
       "      <td>0</td>\n",
       "    </tr>\n",
       "    <tr>\n",
       "      <th>3394</th>\n",
       "      <td>3394</td>\n",
       "      <td></td>\n",
       "      <td>0</td>\n",
       "    </tr>\n",
       "    <tr>\n",
       "      <th>3477</th>\n",
       "      <td>3477</td>\n",
       "      <td></td>\n",
       "      <td>0</td>\n",
       "    </tr>\n",
       "    <tr>\n",
       "      <th>3506</th>\n",
       "      <td>3506</td>\n",
       "      <td></td>\n",
       "      <td>0</td>\n",
       "    </tr>\n",
       "    <tr>\n",
       "      <th>3779</th>\n",
       "      <td>3779</td>\n",
       "      <td></td>\n",
       "      <td>0</td>\n",
       "    </tr>\n",
       "    <tr>\n",
       "      <th>3821</th>\n",
       "      <td>3821</td>\n",
       "      <td></td>\n",
       "      <td>0</td>\n",
       "    </tr>\n",
       "    <tr>\n",
       "      <th>3960</th>\n",
       "      <td>3960</td>\n",
       "      <td></td>\n",
       "      <td>0</td>\n",
       "    </tr>\n",
       "    <tr>\n",
       "      <th>4153</th>\n",
       "      <td>4153</td>\n",
       "      <td></td>\n",
       "      <td>0</td>\n",
       "    </tr>\n",
       "    <tr>\n",
       "      <th>4289</th>\n",
       "      <td>4289</td>\n",
       "      <td></td>\n",
       "      <td>0</td>\n",
       "    </tr>\n",
       "    <tr>\n",
       "      <th>4294</th>\n",
       "      <td>4294</td>\n",
       "      <td></td>\n",
       "      <td>0</td>\n",
       "    </tr>\n",
       "    <tr>\n",
       "      <th>4478</th>\n",
       "      <td>4478</td>\n",
       "      <td></td>\n",
       "      <td>0</td>\n",
       "    </tr>\n",
       "    <tr>\n",
       "      <th>4773</th>\n",
       "      <td>4773</td>\n",
       "      <td></td>\n",
       "      <td>0</td>\n",
       "    </tr>\n",
       "    <tr>\n",
       "      <th>4837</th>\n",
       "      <td>4837</td>\n",
       "      <td></td>\n",
       "      <td>0</td>\n",
       "    </tr>\n",
       "    <tr>\n",
       "      <th>5005</th>\n",
       "      <td>5005</td>\n",
       "      <td></td>\n",
       "      <td>0</td>\n",
       "    </tr>\n",
       "    <tr>\n",
       "      <th>5201</th>\n",
       "      <td>5201</td>\n",
       "      <td></td>\n",
       "      <td>0</td>\n",
       "    </tr>\n",
       "    <tr>\n",
       "      <th>5496</th>\n",
       "      <td>5496</td>\n",
       "      <td></td>\n",
       "      <td>0</td>\n",
       "    </tr>\n",
       "    <tr>\n",
       "      <th>5511</th>\n",
       "      <td>5511</td>\n",
       "      <td></td>\n",
       "      <td>0</td>\n",
       "    </tr>\n",
       "    <tr>\n",
       "      <th>5677</th>\n",
       "      <td>5677</td>\n",
       "      <td></td>\n",
       "      <td>0</td>\n",
       "    </tr>\n",
       "    <tr>\n",
       "      <th>6413</th>\n",
       "      <td>6413</td>\n",
       "      <td></td>\n",
       "      <td>0</td>\n",
       "    </tr>\n",
       "    <tr>\n",
       "      <th>6432</th>\n",
       "      <td>6432</td>\n",
       "      <td></td>\n",
       "      <td>0</td>\n",
       "    </tr>\n",
       "    <tr>\n",
       "      <th>6529</th>\n",
       "      <td>6529</td>\n",
       "      <td></td>\n",
       "      <td>0</td>\n",
       "    </tr>\n",
       "    <tr>\n",
       "      <th>6570</th>\n",
       "      <td>6570</td>\n",
       "      <td></td>\n",
       "      <td>0</td>\n",
       "    </tr>\n",
       "    <tr>\n",
       "      <th>7279</th>\n",
       "      <td>7279</td>\n",
       "      <td></td>\n",
       "      <td>0</td>\n",
       "    </tr>\n",
       "    <tr>\n",
       "      <th>7471</th>\n",
       "      <td>7471</td>\n",
       "      <td></td>\n",
       "      <td>0</td>\n",
       "    </tr>\n",
       "    <tr>\n",
       "      <th>7707</th>\n",
       "      <td>7707</td>\n",
       "      <td></td>\n",
       "      <td>0</td>\n",
       "    </tr>\n",
       "    <tr>\n",
       "      <th>9034</th>\n",
       "      <td>9034</td>\n",
       "      <td></td>\n",
       "      <td>1</td>\n",
       "    </tr>\n",
       "    <tr>\n",
       "      <th>9583</th>\n",
       "      <td>9583</td>\n",
       "      <td></td>\n",
       "      <td>1</td>\n",
       "    </tr>\n",
       "    <tr>\n",
       "      <th>9606</th>\n",
       "      <td>9606</td>\n",
       "      <td></td>\n",
       "      <td>1</td>\n",
       "    </tr>\n",
       "    <tr>\n",
       "      <th>9704</th>\n",
       "      <td>9704</td>\n",
       "      <td></td>\n",
       "      <td>1</td>\n",
       "    </tr>\n",
       "    <tr>\n",
       "      <th>9718</th>\n",
       "      <td>9718</td>\n",
       "      <td></td>\n",
       "      <td>1</td>\n",
       "    </tr>\n",
       "    <tr>\n",
       "      <th>10197</th>\n",
       "      <td>10197</td>\n",
       "      <td></td>\n",
       "      <td>1</td>\n",
       "    </tr>\n",
       "    <tr>\n",
       "      <th>10313</th>\n",
       "      <td>10313</td>\n",
       "      <td></td>\n",
       "      <td>1</td>\n",
       "    </tr>\n",
       "    <tr>\n",
       "      <th>10378</th>\n",
       "      <td>81</td>\n",
       "      <td></td>\n",
       "      <td>1</td>\n",
       "    </tr>\n",
       "    <tr>\n",
       "      <th>10404</th>\n",
       "      <td>110</td>\n",
       "      <td></td>\n",
       "      <td>1</td>\n",
       "    </tr>\n",
       "    <tr>\n",
       "      <th>10428</th>\n",
       "      <td>138</td>\n",
       "      <td></td>\n",
       "      <td>1</td>\n",
       "    </tr>\n",
       "    <tr>\n",
       "      <th>10480</th>\n",
       "      <td>210</td>\n",
       "      <td></td>\n",
       "      <td>1</td>\n",
       "    </tr>\n",
       "    <tr>\n",
       "      <th>10524</th>\n",
       "      <td>261</td>\n",
       "      <td></td>\n",
       "      <td>1</td>\n",
       "    </tr>\n",
       "    <tr>\n",
       "      <th>10641</th>\n",
       "      <td>378</td>\n",
       "      <td></td>\n",
       "      <td>1</td>\n",
       "    </tr>\n",
       "    <tr>\n",
       "      <th>10652</th>\n",
       "      <td>389</td>\n",
       "      <td></td>\n",
       "      <td>1</td>\n",
       "    </tr>\n",
       "    <tr>\n",
       "      <th>10665</th>\n",
       "      <td>402</td>\n",
       "      <td></td>\n",
       "      <td>1</td>\n",
       "    </tr>\n",
       "    <tr>\n",
       "      <th>10740</th>\n",
       "      <td>477</td>\n",
       "      <td></td>\n",
       "      <td>1</td>\n",
       "    </tr>\n",
       "    <tr>\n",
       "      <th>10775</th>\n",
       "      <td>512</td>\n",
       "      <td></td>\n",
       "      <td>1</td>\n",
       "    </tr>\n",
       "    <tr>\n",
       "      <th>10806</th>\n",
       "      <td>543</td>\n",
       "      <td></td>\n",
       "      <td>1</td>\n",
       "    </tr>\n",
       "    <tr>\n",
       "      <th>11015</th>\n",
       "      <td>752</td>\n",
       "      <td></td>\n",
       "      <td>1</td>\n",
       "    </tr>\n",
       "    <tr>\n",
       "      <th>11045</th>\n",
       "      <td>782</td>\n",
       "      <td></td>\n",
       "      <td>1</td>\n",
       "    </tr>\n",
       "    <tr>\n",
       "      <th>11082</th>\n",
       "      <td>819</td>\n",
       "      <td></td>\n",
       "      <td>1</td>\n",
       "    </tr>\n",
       "    <tr>\n",
       "      <th>11104</th>\n",
       "      <td>841</td>\n",
       "      <td></td>\n",
       "      <td>1</td>\n",
       "    </tr>\n",
       "    <tr>\n",
       "      <th>11122</th>\n",
       "      <td>859</td>\n",
       "      <td></td>\n",
       "      <td>1</td>\n",
       "    </tr>\n",
       "    <tr>\n",
       "      <th>11126</th>\n",
       "      <td>863</td>\n",
       "      <td></td>\n",
       "      <td>1</td>\n",
       "    </tr>\n",
       "    <tr>\n",
       "      <th>11167</th>\n",
       "      <td>905</td>\n",
       "      <td></td>\n",
       "      <td>1</td>\n",
       "    </tr>\n",
       "    <tr>\n",
       "      <th>11247</th>\n",
       "      <td>991</td>\n",
       "      <td></td>\n",
       "      <td>1</td>\n",
       "    </tr>\n",
       "    <tr>\n",
       "      <th>12929</th>\n",
       "      <td>2760</td>\n",
       "      <td></td>\n",
       "      <td>1</td>\n",
       "    </tr>\n",
       "    <tr>\n",
       "      <th>12957</th>\n",
       "      <td>2816</td>\n",
       "      <td></td>\n",
       "      <td>1</td>\n",
       "    </tr>\n",
       "    <tr>\n",
       "      <th>12980</th>\n",
       "      <td>2962</td>\n",
       "      <td></td>\n",
       "      <td>1</td>\n",
       "    </tr>\n",
       "    <tr>\n",
       "      <th>13054</th>\n",
       "      <td>3329</td>\n",
       "      <td></td>\n",
       "      <td>1</td>\n",
       "    </tr>\n",
       "    <tr>\n",
       "      <th>13102</th>\n",
       "      <td>3466</td>\n",
       "      <td></td>\n",
       "      <td>1</td>\n",
       "    </tr>\n",
       "    <tr>\n",
       "      <th>13103</th>\n",
       "      <td>3467</td>\n",
       "      <td></td>\n",
       "      <td>1</td>\n",
       "    </tr>\n",
       "    <tr>\n",
       "      <th>13195</th>\n",
       "      <td>3616</td>\n",
       "      <td></td>\n",
       "      <td>1</td>\n",
       "    </tr>\n",
       "    <tr>\n",
       "      <th>13233</th>\n",
       "      <td>3664</td>\n",
       "      <td></td>\n",
       "      <td>1</td>\n",
       "    </tr>\n",
       "    <tr>\n",
       "      <th>13591</th>\n",
       "      <td>4083</td>\n",
       "      <td></td>\n",
       "      <td>1</td>\n",
       "    </tr>\n",
       "    <tr>\n",
       "      <th>13596</th>\n",
       "      <td>4088</td>\n",
       "      <td></td>\n",
       "      <td>1</td>\n",
       "    </tr>\n",
       "    <tr>\n",
       "      <th>13611</th>\n",
       "      <td>4104</td>\n",
       "      <td></td>\n",
       "      <td>1</td>\n",
       "    </tr>\n",
       "    <tr>\n",
       "      <th>13699</th>\n",
       "      <td>4194</td>\n",
       "      <td></td>\n",
       "      <td>1</td>\n",
       "    </tr>\n",
       "    <tr>\n",
       "      <th>13707</th>\n",
       "      <td>4202</td>\n",
       "      <td></td>\n",
       "      <td>1</td>\n",
       "    </tr>\n",
       "    <tr>\n",
       "      <th>13715</th>\n",
       "      <td>4211</td>\n",
       "      <td></td>\n",
       "      <td>1</td>\n",
       "    </tr>\n",
       "    <tr>\n",
       "      <th>13808</th>\n",
       "      <td>4305</td>\n",
       "      <td></td>\n",
       "      <td>1</td>\n",
       "    </tr>\n",
       "    <tr>\n",
       "      <th>13821</th>\n",
       "      <td>4318</td>\n",
       "      <td></td>\n",
       "      <td>1</td>\n",
       "    </tr>\n",
       "    <tr>\n",
       "      <th>13917</th>\n",
       "      <td>4417</td>\n",
       "      <td></td>\n",
       "      <td>1</td>\n",
       "    </tr>\n",
       "    <tr>\n",
       "      <th>13972</th>\n",
       "      <td>4473</td>\n",
       "      <td></td>\n",
       "      <td>1</td>\n",
       "    </tr>\n",
       "    <tr>\n",
       "      <th>13993</th>\n",
       "      <td>4494</td>\n",
       "      <td></td>\n",
       "      <td>1</td>\n",
       "    </tr>\n",
       "    <tr>\n",
       "      <th>14026</th>\n",
       "      <td>4528</td>\n",
       "      <td></td>\n",
       "      <td>1</td>\n",
       "    </tr>\n",
       "    <tr>\n",
       "      <th>14044</th>\n",
       "      <td>4546</td>\n",
       "      <td></td>\n",
       "      <td>1</td>\n",
       "    </tr>\n",
       "    <tr>\n",
       "      <th>14066</th>\n",
       "      <td>4569</td>\n",
       "      <td></td>\n",
       "      <td>1</td>\n",
       "    </tr>\n",
       "    <tr>\n",
       "      <th>14155</th>\n",
       "      <td>4659</td>\n",
       "      <td></td>\n",
       "      <td>1</td>\n",
       "    </tr>\n",
       "    <tr>\n",
       "      <th>14365</th>\n",
       "      <td>4950</td>\n",
       "      <td></td>\n",
       "      <td>1</td>\n",
       "    </tr>\n",
       "    <tr>\n",
       "      <th>14541</th>\n",
       "      <td>5129</td>\n",
       "      <td></td>\n",
       "      <td>1</td>\n",
       "    </tr>\n",
       "    <tr>\n",
       "      <th>15106</th>\n",
       "      <td>5857</td>\n",
       "      <td></td>\n",
       "      <td>1</td>\n",
       "    </tr>\n",
       "    <tr>\n",
       "      <th>15267</th>\n",
       "      <td>6053</td>\n",
       "      <td></td>\n",
       "      <td>1</td>\n",
       "    </tr>\n",
       "    <tr>\n",
       "      <th>15324</th>\n",
       "      <td>6300</td>\n",
       "      <td></td>\n",
       "      <td>1</td>\n",
       "    </tr>\n",
       "    <tr>\n",
       "      <th>15327</th>\n",
       "      <td>6303</td>\n",
       "      <td></td>\n",
       "      <td>1</td>\n",
       "    </tr>\n",
       "    <tr>\n",
       "      <th>15331</th>\n",
       "      <td>6307</td>\n",
       "      <td></td>\n",
       "      <td>1</td>\n",
       "    </tr>\n",
       "    <tr>\n",
       "      <th>16112</th>\n",
       "      <td>7252</td>\n",
       "      <td></td>\n",
       "      <td>1</td>\n",
       "    </tr>\n",
       "    <tr>\n",
       "      <th>16170</th>\n",
       "      <td>7328</td>\n",
       "      <td></td>\n",
       "      <td>1</td>\n",
       "    </tr>\n",
       "    <tr>\n",
       "      <th>16218</th>\n",
       "      <td>7390</td>\n",
       "      <td></td>\n",
       "      <td>1</td>\n",
       "    </tr>\n",
       "    <tr>\n",
       "      <th>16454</th>\n",
       "      <td>7644</td>\n",
       "      <td></td>\n",
       "      <td>1</td>\n",
       "    </tr>\n",
       "    <tr>\n",
       "      <th>16522</th>\n",
       "      <td>7716</td>\n",
       "      <td></td>\n",
       "      <td>1</td>\n",
       "    </tr>\n",
       "    <tr>\n",
       "      <th>16549</th>\n",
       "      <td>7747</td>\n",
       "      <td></td>\n",
       "      <td>1</td>\n",
       "    </tr>\n",
       "    <tr>\n",
       "      <th>16584</th>\n",
       "      <td>7798</td>\n",
       "      <td></td>\n",
       "      <td>1</td>\n",
       "    </tr>\n",
       "    <tr>\n",
       "      <th>16592</th>\n",
       "      <td>7807</td>\n",
       "      <td></td>\n",
       "      <td>1</td>\n",
       "    </tr>\n",
       "    <tr>\n",
       "      <th>16607</th>\n",
       "      <td>7827</td>\n",
       "      <td></td>\n",
       "      <td>1</td>\n",
       "    </tr>\n",
       "    <tr>\n",
       "      <th>16633</th>\n",
       "      <td>7854</td>\n",
       "      <td></td>\n",
       "      <td>1</td>\n",
       "    </tr>\n",
       "    <tr>\n",
       "      <th>16653</th>\n",
       "      <td>7875</td>\n",
       "      <td></td>\n",
       "      <td>1</td>\n",
       "    </tr>\n",
       "    <tr>\n",
       "      <th>16682</th>\n",
       "      <td>7904</td>\n",
       "      <td></td>\n",
       "      <td>1</td>\n",
       "    </tr>\n",
       "    <tr>\n",
       "      <th>16686</th>\n",
       "      <td>7908</td>\n",
       "      <td></td>\n",
       "      <td>1</td>\n",
       "    </tr>\n",
       "    <tr>\n",
       "      <th>16694</th>\n",
       "      <td>7916</td>\n",
       "      <td></td>\n",
       "      <td>1</td>\n",
       "    </tr>\n",
       "    <tr>\n",
       "      <th>16733</th>\n",
       "      <td>7983</td>\n",
       "      <td></td>\n",
       "      <td>1</td>\n",
       "    </tr>\n",
       "    <tr>\n",
       "      <th>16797</th>\n",
       "      <td>8092</td>\n",
       "      <td></td>\n",
       "      <td>1</td>\n",
       "    </tr>\n",
       "    <tr>\n",
       "      <th>17097</th>\n",
       "      <td>8430</td>\n",
       "      <td></td>\n",
       "      <td>1</td>\n",
       "    </tr>\n",
       "    <tr>\n",
       "      <th>17322</th>\n",
       "      <td>8664</td>\n",
       "      <td></td>\n",
       "      <td>1</td>\n",
       "    </tr>\n",
       "    <tr>\n",
       "      <th>17383</th>\n",
       "      <td>8725</td>\n",
       "      <td></td>\n",
       "      <td>1</td>\n",
       "    </tr>\n",
       "    <tr>\n",
       "      <th>17725</th>\n",
       "      <td>9071</td>\n",
       "      <td></td>\n",
       "      <td>1</td>\n",
       "    </tr>\n",
       "    <tr>\n",
       "      <th>18411</th>\n",
       "      <td>9903</td>\n",
       "      <td></td>\n",
       "      <td>1</td>\n",
       "    </tr>\n",
       "    <tr>\n",
       "      <th>18474</th>\n",
       "      <td>9970</td>\n",
       "      <td></td>\n",
       "      <td>1</td>\n",
       "    </tr>\n",
       "    <tr>\n",
       "      <th>18599</th>\n",
       "      <td>10132</td>\n",
       "      <td></td>\n",
       "      <td>0</td>\n",
       "    </tr>\n",
       "    <tr>\n",
       "      <th>19114</th>\n",
       "      <td>11022</td>\n",
       "      <td></td>\n",
       "      <td>0</td>\n",
       "    </tr>\n",
       "    <tr>\n",
       "      <th>19116</th>\n",
       "      <td>11024</td>\n",
       "      <td></td>\n",
       "      <td>0</td>\n",
       "    </tr>\n",
       "    <tr>\n",
       "      <th>19319</th>\n",
       "      <td>11346</td>\n",
       "      <td></td>\n",
       "      <td>0</td>\n",
       "    </tr>\n",
       "    <tr>\n",
       "      <th>19324</th>\n",
       "      <td>11359</td>\n",
       "      <td></td>\n",
       "      <td>0</td>\n",
       "    </tr>\n",
       "    <tr>\n",
       "      <th>19558</th>\n",
       "      <td>11722</td>\n",
       "      <td></td>\n",
       "      <td>0</td>\n",
       "    </tr>\n",
       "    <tr>\n",
       "      <th>19567</th>\n",
       "      <td>11734</td>\n",
       "      <td></td>\n",
       "      <td>0</td>\n",
       "    </tr>\n",
       "    <tr>\n",
       "      <th>19722</th>\n",
       "      <td>11910</td>\n",
       "      <td></td>\n",
       "      <td>0</td>\n",
       "    </tr>\n",
       "    <tr>\n",
       "      <th>19829</th>\n",
       "      <td>12025</td>\n",
       "      <td></td>\n",
       "      <td>0</td>\n",
       "    </tr>\n",
       "    <tr>\n",
       "      <th>21730</th>\n",
       "      <td>14178</td>\n",
       "      <td></td>\n",
       "      <td>0</td>\n",
       "    </tr>\n",
       "    <tr>\n",
       "      <th>21868</th>\n",
       "      <td>14523</td>\n",
       "      <td></td>\n",
       "      <td>0</td>\n",
       "    </tr>\n",
       "    <tr>\n",
       "      <th>21925</th>\n",
       "      <td>14636</td>\n",
       "      <td></td>\n",
       "      <td>0</td>\n",
       "    </tr>\n",
       "    <tr>\n",
       "      <th>22011</th>\n",
       "      <td>14743</td>\n",
       "      <td></td>\n",
       "      <td>0</td>\n",
       "    </tr>\n",
       "    <tr>\n",
       "      <th>22391</th>\n",
       "      <td>15196</td>\n",
       "      <td></td>\n",
       "      <td>0</td>\n",
       "    </tr>\n",
       "    <tr>\n",
       "      <th>22530</th>\n",
       "      <td>15381</td>\n",
       "      <td></td>\n",
       "      <td>0</td>\n",
       "    </tr>\n",
       "    <tr>\n",
       "      <th>22566</th>\n",
       "      <td>15426</td>\n",
       "      <td></td>\n",
       "      <td>0</td>\n",
       "    </tr>\n",
       "    <tr>\n",
       "      <th>22639</th>\n",
       "      <td>15509</td>\n",
       "      <td></td>\n",
       "      <td>0</td>\n",
       "    </tr>\n",
       "    <tr>\n",
       "      <th>22774</th>\n",
       "      <td>15671</td>\n",
       "      <td></td>\n",
       "      <td>0</td>\n",
       "    </tr>\n",
       "    <tr>\n",
       "      <th>22947</th>\n",
       "      <td>15879</td>\n",
       "      <td></td>\n",
       "      <td>0</td>\n",
       "    </tr>\n",
       "    <tr>\n",
       "      <th>23161</th>\n",
       "      <td>16125</td>\n",
       "      <td></td>\n",
       "      <td>0</td>\n",
       "    </tr>\n",
       "    <tr>\n",
       "      <th>23305</th>\n",
       "      <td>16291</td>\n",
       "      <td></td>\n",
       "      <td>0</td>\n",
       "    </tr>\n",
       "    <tr>\n",
       "      <th>23412</th>\n",
       "      <td>16447</td>\n",
       "      <td></td>\n",
       "      <td>0</td>\n",
       "    </tr>\n",
       "    <tr>\n",
       "      <th>23489</th>\n",
       "      <td>16551</td>\n",
       "      <td></td>\n",
       "      <td>0</td>\n",
       "    </tr>\n",
       "    <tr>\n",
       "      <th>23518</th>\n",
       "      <td>16584</td>\n",
       "      <td></td>\n",
       "      <td>0</td>\n",
       "    </tr>\n",
       "    <tr>\n",
       "      <th>23609</th>\n",
       "      <td>16699</td>\n",
       "      <td></td>\n",
       "      <td>0</td>\n",
       "    </tr>\n",
       "    <tr>\n",
       "      <th>23610</th>\n",
       "      <td>16701</td>\n",
       "      <td></td>\n",
       "      <td>0</td>\n",
       "    </tr>\n",
       "    <tr>\n",
       "      <th>23677</th>\n",
       "      <td>16786</td>\n",
       "      <td></td>\n",
       "      <td>0</td>\n",
       "    </tr>\n",
       "    <tr>\n",
       "      <th>24068</th>\n",
       "      <td>17417</td>\n",
       "      <td></td>\n",
       "      <td>0</td>\n",
       "    </tr>\n",
       "    <tr>\n",
       "      <th>24123</th>\n",
       "      <td>17484</td>\n",
       "      <td></td>\n",
       "      <td>0</td>\n",
       "    </tr>\n",
       "    <tr>\n",
       "      <th>24365</th>\n",
       "      <td>17756</td>\n",
       "      <td></td>\n",
       "      <td>0</td>\n",
       "    </tr>\n",
       "    <tr>\n",
       "      <th>24625</th>\n",
       "      <td>18016</td>\n",
       "      <td></td>\n",
       "      <td>0</td>\n",
       "    </tr>\n",
       "  </tbody>\n",
       "</table>\n",
       "</div>"
      ],
      "text/plain": [
       "       index Message  Label\n",
       "2          2              0\n",
       "156      156              0\n",
       "263      263              0\n",
       "526      526              0\n",
       "718      718              0\n",
       "778      778              0\n",
       "809      809              0\n",
       "1233    1233              0\n",
       "1461    1461              0\n",
       "1480    1480              0\n",
       "2053    2053              0\n",
       "2708    2708              0\n",
       "2800    2800              0\n",
       "2948    2948              0\n",
       "3394    3394              0\n",
       "3477    3477              0\n",
       "3506    3506              0\n",
       "3779    3779              0\n",
       "3821    3821              0\n",
       "3960    3960              0\n",
       "4153    4153              0\n",
       "4289    4289              0\n",
       "4294    4294              0\n",
       "4478    4478              0\n",
       "4773    4773              0\n",
       "4837    4837              0\n",
       "5005    5005              0\n",
       "5201    5201              0\n",
       "5496    5496              0\n",
       "5511    5511              0\n",
       "5677    5677              0\n",
       "6413    6413              0\n",
       "6432    6432              0\n",
       "6529    6529              0\n",
       "6570    6570              0\n",
       "7279    7279              0\n",
       "7471    7471              0\n",
       "7707    7707              0\n",
       "9034    9034              1\n",
       "9583    9583              1\n",
       "9606    9606              1\n",
       "9704    9704              1\n",
       "9718    9718              1\n",
       "10197  10197              1\n",
       "10313  10313              1\n",
       "10378     81              1\n",
       "10404    110              1\n",
       "10428    138              1\n",
       "10480    210              1\n",
       "10524    261              1\n",
       "10641    378              1\n",
       "10652    389              1\n",
       "10665    402              1\n",
       "10740    477              1\n",
       "10775    512              1\n",
       "10806    543              1\n",
       "11015    752              1\n",
       "11045    782              1\n",
       "11082    819              1\n",
       "11104    841              1\n",
       "11122    859              1\n",
       "11126    863              1\n",
       "11167    905              1\n",
       "11247    991              1\n",
       "12929   2760              1\n",
       "12957   2816              1\n",
       "12980   2962              1\n",
       "13054   3329              1\n",
       "13102   3466              1\n",
       "13103   3467              1\n",
       "13195   3616              1\n",
       "13233   3664              1\n",
       "13591   4083              1\n",
       "13596   4088              1\n",
       "13611   4104              1\n",
       "13699   4194              1\n",
       "13707   4202              1\n",
       "13715   4211              1\n",
       "13808   4305              1\n",
       "13821   4318              1\n",
       "13917   4417              1\n",
       "13972   4473              1\n",
       "13993   4494              1\n",
       "14026   4528              1\n",
       "14044   4546              1\n",
       "14066   4569              1\n",
       "14155   4659              1\n",
       "14365   4950              1\n",
       "14541   5129              1\n",
       "15106   5857              1\n",
       "15267   6053              1\n",
       "15324   6300              1\n",
       "15327   6303              1\n",
       "15331   6307              1\n",
       "16112   7252              1\n",
       "16170   7328              1\n",
       "16218   7390              1\n",
       "16454   7644              1\n",
       "16522   7716              1\n",
       "16549   7747              1\n",
       "16584   7798              1\n",
       "16592   7807              1\n",
       "16607   7827              1\n",
       "16633   7854              1\n",
       "16653   7875              1\n",
       "16682   7904              1\n",
       "16686   7908              1\n",
       "16694   7916              1\n",
       "16733   7983              1\n",
       "16797   8092              1\n",
       "17097   8430              1\n",
       "17322   8664              1\n",
       "17383   8725              1\n",
       "17725   9071              1\n",
       "18411   9903              1\n",
       "18474   9970              1\n",
       "18599  10132              0\n",
       "19114  11022              0\n",
       "19116  11024              0\n",
       "19319  11346              0\n",
       "19324  11359              0\n",
       "19558  11722              0\n",
       "19567  11734              0\n",
       "19722  11910              0\n",
       "19829  12025              0\n",
       "21730  14178              0\n",
       "21868  14523              0\n",
       "21925  14636              0\n",
       "22011  14743              0\n",
       "22391  15196              0\n",
       "22530  15381              0\n",
       "22566  15426              0\n",
       "22639  15509              0\n",
       "22774  15671              0\n",
       "22947  15879              0\n",
       "23161  16125              0\n",
       "23305  16291              0\n",
       "23412  16447              0\n",
       "23489  16551              0\n",
       "23518  16584              0\n",
       "23609  16699              0\n",
       "23610  16701              0\n",
       "23677  16786              0\n",
       "24068  17417              0\n",
       "24123  17484              0\n",
       "24365  17756              0\n",
       "24625  18016              0"
      ]
     },
     "execution_count": 97,
     "metadata": {},
     "output_type": "execute_result"
    }
   ],
   "source": [
    "df_cleaned.iloc[list_of_index]"
   ]
  },
  {
   "cell_type": "markdown",
   "metadata": {},
   "source": [
    "##### Drop row with empty string"
   ]
  },
  {
   "cell_type": "code",
   "execution_count": 98,
   "metadata": {},
   "outputs": [
    {
     "name": "stderr",
     "output_type": "stream",
     "text": [
      "/common/home/users/j/jianyi.lye.2020/jupyterlab-venv-tf/lib/python3.7/site-packages/pandas/core/frame.py:4913: SettingWithCopyWarning: \n",
      "A value is trying to be set on a copy of a slice from a DataFrame\n",
      "\n",
      "See the caveats in the documentation: https://pandas.pydata.org/pandas-docs/stable/user_guide/indexing.html#returning-a-view-versus-a-copy\n",
      "  errors=errors,\n"
     ]
    }
   ],
   "source": [
    "df_cleaned.drop(index=list_of_index, inplace = True)"
   ]
  },
  {
   "cell_type": "code",
   "execution_count": 99,
   "metadata": {},
   "outputs": [
    {
     "data": {
      "text/plain": [
       "(26462, 3)"
      ]
     },
     "execution_count": 99,
     "metadata": {},
     "output_type": "execute_result"
    }
   ],
   "source": [
    "df_cleaned.shape"
   ]
  },
  {
   "cell_type": "markdown",
   "metadata": {},
   "source": [
    "<hr>"
   ]
  },
  {
   "cell_type": "code",
   "execution_count": 100,
   "metadata": {},
   "outputs": [],
   "source": [
    "X = df_cleaned.Message\n",
    "y = df_cleaned.Label"
   ]
  },
  {
   "cell_type": "code",
   "execution_count": 101,
   "metadata": {},
   "outputs": [],
   "source": [
    "x_train, x_test, y_train, y_test = train_test_split(X, y, test_size=0.25, random_state=88)"
   ]
  },
  {
   "cell_type": "markdown",
   "metadata": {},
   "source": [
    "<hr>"
   ]
  },
  {
   "cell_type": "markdown",
   "metadata": {},
   "source": [
    "### GPT "
   ]
  },
  {
   "cell_type": "code",
   "execution_count": 212,
   "metadata": {},
   "outputs": [],
   "source": [
    "from transformers import GPT2Tokenizer, GPT2LMHeadModel"
   ]
  },
  {
   "cell_type": "code",
   "execution_count": 213,
   "metadata": {},
   "outputs": [],
   "source": [
    "import torch\n",
    "from torch.nn.utils.rnn import pad_sequence\n",
    "\n",
    "# Initialize GPT-2 tokenizer and model\n",
    "tokenizer = GPT2Tokenizer.from_pretrained(\"gpt2\")\n",
    "model = GPT2LMHeadModel.from_pretrained(\"gpt2\")\n",
    "\n",
    "# Tokenize training data and encode into input IDs\n",
    "train_input_ids = [tokenizer.encode(text, return_tensors=\"pt\") for text in X]\n",
    "\n",
    "# Generate GPT-2 embeddings for training data\n",
    "with torch.no_grad():\n",
    "    train_embeddings = [model.transformer.wte(input_ids).squeeze(0) for input_ids in train_input_ids]\n",
    "    train_embeddings_output = pad_sequence(train_embeddings, batch_first=True, padding_value=0)"
   ]
  },
  {
   "cell_type": "code",
   "execution_count": 214,
   "metadata": {},
   "outputs": [],
   "source": [
    "train_embeddings_output_avg = train_embeddings_output.mean(dim=1)\n",
    "X_features = train_embeddings_output_avg.numpy()"
   ]
  },
  {
   "cell_type": "code",
   "execution_count": 215,
   "metadata": {},
   "outputs": [
    {
     "data": {
      "text/plain": [
       "(26462, 768)"
      ]
     },
     "execution_count": 215,
     "metadata": {},
     "output_type": "execute_result"
    }
   ],
   "source": [
    "X_features.shape"
   ]
  },
  {
   "cell_type": "code",
   "execution_count": 216,
   "metadata": {},
   "outputs": [],
   "source": [
    "x_train, x_test, y_train, y_test = train_test_split(X_features, y, test_size=0.25, random_state=88)"
   ]
  },
  {
   "cell_type": "code",
   "execution_count": 217,
   "metadata": {},
   "outputs": [
    {
     "data": {
      "text/plain": [
       "(19846, 768)"
      ]
     },
     "execution_count": 217,
     "metadata": {},
     "output_type": "execute_result"
    }
   ],
   "source": [
    "x_train.shape"
   ]
  },
  {
   "cell_type": "code",
   "execution_count": 218,
   "metadata": {},
   "outputs": [
    {
     "data": {
      "text/plain": [
       "(6616, 768)"
      ]
     },
     "execution_count": 218,
     "metadata": {},
     "output_type": "execute_result"
    }
   ],
   "source": [
    "x_test.shape"
   ]
  },
  {
   "cell_type": "markdown",
   "metadata": {},
   "source": [
    "### GPT + Classifiers "
   ]
  },
  {
   "cell_type": "code",
   "execution_count": null,
   "metadata": {},
   "outputs": [],
   "source": [
    "baseline_models = []\n",
    "baseline_models.append(('Logistic Regression', LogisticRegression(random_state=0)))\n",
    "baseline_models.append(('Decision Tree Classifier',DecisionTreeClassifier(random_state=0)))\n",
    "baseline_models.append(('Random Forest', RandomForestClassifier(random_state=0)))\n",
    "baseline_models.append((\"Gradientboost\", GradientBoostingClassifier(random_state=345)))\n",
    "baseline_models.append(('SVM', SVC()))\n",
    "baseline_models.append(('Gaussian NB', GaussianNB()))"
   ]
  },
  {
   "cell_type": "code",
   "execution_count": null,
   "metadata": {},
   "outputs": [],
   "source": [
    "def baselinemodel(baseline_models, Xtrain, ytrain, Xtest, ytest):\n",
    "    train_acc_results = []\n",
    "    test_acc_results = []\n",
    "\n",
    "    df_results = pd.DataFrame(columns=col)\n",
    "    \n",
    "    i = 0\n",
    "    # evaluate each model using cross-validation\n",
    "    for name, model in baseline_models:\n",
    "        kfold = KFold(n_splits=10)  # 10-fold cross-validation\n",
    "\n",
    "        # cv accuracy scoring\n",
    "        cv_acc_results = cross_val_score(model, Xtrain, ytrain, cv=kfold, scoring='accuracy')\n",
    "        train_acc_results.append(cv_acc_results)\n",
    "\n",
    "        #test accuracy scoring\n",
    "        model.fit(Xtrain,ytrain)\n",
    "                \n",
    "        pred = model.predict(Xtest)\n",
    "        test_accuracy = accuracy_score(ytest, pred)\n",
    "        test_acc_results.append(test_accuracy)\n",
    "        \n",
    "        #Confusion Matrix\n",
    "        cm = confusion_matrix(pred,ytest)\n",
    "        tn = cm[0][0]\n",
    "        fn = cm[1][0]\n",
    "        fp = cm[0][1]\n",
    "        tp = cm[1][1]\n",
    "        \n",
    "        print(\"Result: \" + str(tn) + \"/\" + str(fn)+ \"/\" + str(fp)+ \"/\" + str(tp) )\n",
    "        precision = tp/(tp+fp)\n",
    "        recall = tp/(tp+fn)\n",
    "        f1 = (2*precision*recall)/(precision + recall)\n",
    "\n",
    "        #names.append(name)\n",
    "        df_results.loc[i] = [name, round(cv_acc_results.mean()*100, 2), round(test_accuracy*100,2), round(precision*100,2), round(recall*100,2), round(f1*100,2)]\n",
    "\n",
    "        i += 1\n",
    "        \n",
    "    return df_results\n",
    "baseLine_GPT_Result = baselinemodel(baseline_models,x_train,y_train,x_test,y_test)"
   ]
  },
  {
   "cell_type": "code",
   "execution_count": null,
   "metadata": {},
   "outputs": [],
   "source": [
    "baseLine_GPT_Result"
   ]
  },
  {
   "cell_type": "markdown",
   "metadata": {},
   "source": [
    "### GPT Modelling "
   ]
  },
  {
   "cell_type": "markdown",
   "metadata": {},
   "source": [
    "#### GPT + CNN"
   ]
  },
  {
   "cell_type": "code",
   "execution_count": 219,
   "metadata": {},
   "outputs": [],
   "source": [
    "import torch\n",
    "import torch.nn as nn\n",
    "import torch.optim as optim\n",
    "import os\n",
    "from torch.utils.data import DataLoader, TensorDataset\n",
    "from sklearn.metrics import accuracy_score\n",
    "\n",
    "# Define the CNN model\n",
    "class GPTEmbeddingCNN(nn.Module):\n",
    "    def __init__(self):\n",
    "        super(GPTEmbeddingCNN, self).__init__()\n",
    "        self.conv1 = nn.Conv1d(768, 128, kernel_size=3, stride=1, padding=2)\n",
    "        self.conv2 = nn.Conv1d(768, 128, kernel_size=4, stride=1, padding=3)\n",
    "        self.conv3 = nn.Conv1d(768, 128, kernel_size=5, stride=1, padding=4)\n",
    "        self.relu = nn.ReLU()\n",
    "        self.dropout = nn.Dropout(0.4)\n",
    "        self.max_pool = nn.AdaptiveMaxPool1d(1)\n",
    "        self.fc = nn.Linear(128 * 3, 1)\n",
    "\n",
    "    def forward(self, x):\n",
    "        if x.dim() == 2:\n",
    "            x = x.unsqueeze(1)  # Add the sequence dimension if it's missing\n",
    "        x = x.permute(0, 2, 1)  # Swap the feature and sequence dimensions\n",
    "        x1 = self.conv1(x)\n",
    "        x1 = self.relu(x1)\n",
    "        x1 = self.dropout(x1)\n",
    "        x1 = self.max_pool(x1).squeeze()\n",
    "\n",
    "        x2 = self.conv2(x)\n",
    "        x2 = self.relu(x2)\n",
    "        x2 = self.dropout(x2)\n",
    "        x2 = self.max_pool(x2).squeeze()\n",
    "\n",
    "        x3 = self.conv3(x)\n",
    "        x3 = self.relu(x3)\n",
    "        x3 = self.dropout(x3)\n",
    "        x3 = self.max_pool(x3).squeeze()\n",
    "\n",
    "        x = torch.cat([x1, x2, x3], dim=1)\n",
    "        x = self.fc(x)\n",
    "        x = torch.sigmoid(x)\n",
    "        return x.squeeze()"
   ]
  },
  {
   "cell_type": "code",
   "execution_count": 220,
   "metadata": {},
   "outputs": [],
   "source": [
    "# Split the training data into training and validation sets\n",
    "x_train, x_val, y_train, y_val = train_test_split(x_train, y_train, test_size=0.2, random_state=42)\n",
    "\n",
    "# Create train and test datasets\n",
    "train_dataset = TensorDataset(torch.tensor(x_train, dtype=torch.float32), torch.tensor(y_train.values, dtype=torch.float32))\n",
    "val_dataset = TensorDataset(torch.tensor(x_val, dtype=torch.float32), torch.tensor(y_val.values, dtype=torch.float32))\n",
    "test_dataset = TensorDataset(torch.tensor(x_test, dtype=torch.float32), torch.tensor(y_test.values, dtype=torch.float32))\n",
    "\n",
    "# Create data loaders\n",
    "train_loader = DataLoader(train_dataset, batch_size=32, shuffle=True)\n",
    "val_loader = DataLoader(val_dataset, batch_size=32, shuffle=False)\n",
    "test_loader = DataLoader(test_dataset, batch_size=32, shuffle=False)\n",
    "\n",
    "# Initialize the model, loss function, and optimizer\n",
    "model = GPTEmbeddingCNN()\n",
    "criterion = nn.BCELoss()\n",
    "optimizer = optim.AdamW(model.parameters(), lr=5e-5, eps=1e-8)"
   ]
  },
  {
   "cell_type": "code",
   "execution_count": 221,
   "metadata": {},
   "outputs": [
    {
     "data": {
      "text/plain": [
       "(15876, 768)"
      ]
     },
     "execution_count": 221,
     "metadata": {},
     "output_type": "execute_result"
    }
   ],
   "source": [
    "x_train.shape"
   ]
  },
  {
   "cell_type": "code",
   "execution_count": 222,
   "metadata": {},
   "outputs": [
    {
     "data": {
      "text/plain": [
       "(3970, 768)"
      ]
     },
     "execution_count": 222,
     "metadata": {},
     "output_type": "execute_result"
    }
   ],
   "source": [
    "x_val.shape"
   ]
  },
  {
   "cell_type": "code",
   "execution_count": 223,
   "metadata": {},
   "outputs": [
    {
     "data": {
      "text/plain": [
       "(15876,)"
      ]
     },
     "execution_count": 223,
     "metadata": {},
     "output_type": "execute_result"
    }
   ],
   "source": [
    "y_train.shape"
   ]
  },
  {
   "cell_type": "code",
   "execution_count": 224,
   "metadata": {},
   "outputs": [
    {
     "data": {
      "text/plain": [
       "(3970,)"
      ]
     },
     "execution_count": 224,
     "metadata": {},
     "output_type": "execute_result"
    }
   ],
   "source": [
    "y_val.shape"
   ]
  },
  {
   "cell_type": "code",
   "execution_count": 225,
   "metadata": {
    "scrolled": true
   },
   "outputs": [
    {
     "name": "stdout",
     "output_type": "stream",
     "text": [
      "Epoch [1/10] Train Loss: 0.6799\n",
      "Train Classification Report (Epoch 1):\n",
      "              precision    recall  f1-score   support\n",
      "\n",
      "         0.0       0.61      1.00      0.76      9654\n",
      "         1.0       1.00      0.00      0.00      6222\n",
      "\n",
      "    accuracy                           0.61     15876\n",
      "   macro avg       0.80      0.50      0.38     15876\n",
      "weighted avg       0.76      0.61      0.46     15876\n",
      "\n",
      "Epoch [1/10] Val Loss: 0.6736\n",
      "Validation Classification Report (Epoch 1):\n",
      "              precision    recall  f1-score   support\n",
      "\n",
      "         0.0       0.60      1.00      0.75      2387\n",
      "         1.0       1.00      0.00      0.01      1583\n",
      "\n",
      "    accuracy                           0.60      3970\n",
      "   macro avg       0.80      0.50      0.38      3970\n",
      "weighted avg       0.76      0.60      0.45      3970\n",
      "\n",
      "Model saved for epoch 1\n",
      "Epoch [2/10] Train Loss: 0.6520\n",
      "Train Classification Report (Epoch 2):\n",
      "              precision    recall  f1-score   support\n",
      "\n",
      "         0.0       0.64      1.00      0.78      9654\n",
      "         1.0       1.00      0.13      0.24      6222\n",
      "\n",
      "    accuracy                           0.66     15876\n",
      "   macro avg       0.82      0.57      0.51     15876\n",
      "weighted avg       0.78      0.66      0.57     15876\n",
      "\n",
      "Epoch [2/10] Val Loss: 0.6514\n",
      "Validation Classification Report (Epoch 2):\n",
      "              precision    recall  f1-score   support\n",
      "\n",
      "         0.0       0.63      1.00      0.78      2387\n",
      "         1.0       1.00      0.13      0.23      1583\n",
      "\n",
      "    accuracy                           0.65      3970\n",
      "   macro avg       0.82      0.56      0.50      3970\n",
      "weighted avg       0.78      0.65      0.56      3970\n",
      "\n",
      "Model saved for epoch 2\n",
      "Epoch [3/10] Train Loss: 0.6242\n",
      "Train Classification Report (Epoch 3):\n",
      "              precision    recall  f1-score   support\n",
      "\n",
      "         0.0       0.69      0.99      0.81      9654\n",
      "         1.0       0.97      0.30      0.45      6222\n",
      "\n",
      "    accuracy                           0.72     15876\n",
      "   macro avg       0.83      0.64      0.63     15876\n",
      "weighted avg       0.80      0.72      0.67     15876\n",
      "\n",
      "Epoch [3/10] Val Loss: 0.6292\n",
      "Validation Classification Report (Epoch 3):\n",
      "              precision    recall  f1-score   support\n",
      "\n",
      "         0.0       0.67      1.00      0.80      2387\n",
      "         1.0       0.98      0.28      0.43      1583\n",
      "\n",
      "    accuracy                           0.71      3970\n",
      "   macro avg       0.83      0.64      0.62      3970\n",
      "weighted avg       0.79      0.71      0.66      3970\n",
      "\n",
      "Model saved for epoch 3\n",
      "Epoch [4/10] Train Loss: 0.5984\n",
      "Train Classification Report (Epoch 4):\n",
      "              precision    recall  f1-score   support\n",
      "\n",
      "         0.0       0.70      0.98      0.82      9654\n",
      "         1.0       0.92      0.36      0.52      6222\n",
      "\n",
      "    accuracy                           0.74     15876\n",
      "   macro avg       0.81      0.67      0.67     15876\n",
      "weighted avg       0.79      0.74      0.70     15876\n",
      "\n",
      "Epoch [4/10] Val Loss: 0.6094\n",
      "Validation Classification Report (Epoch 4):\n",
      "              precision    recall  f1-score   support\n",
      "\n",
      "         0.0       0.70      0.98      0.81      2387\n",
      "         1.0       0.92      0.36      0.52      1583\n",
      "\n",
      "    accuracy                           0.73      3970\n",
      "   macro avg       0.81      0.67      0.67      3970\n",
      "weighted avg       0.79      0.73      0.70      3970\n",
      "\n",
      "Model saved for epoch 4\n",
      "Epoch [5/10] Train Loss: 0.5770\n",
      "Train Classification Report (Epoch 5):\n",
      "              precision    recall  f1-score   support\n",
      "\n",
      "         0.0       0.71      0.97      0.82      9654\n",
      "         1.0       0.91      0.39      0.54      6222\n",
      "\n",
      "    accuracy                           0.74     15876\n",
      "   macro avg       0.81      0.68      0.68     15876\n",
      "weighted avg       0.79      0.74      0.71     15876\n",
      "\n",
      "Epoch [5/10] Val Loss: 0.5910\n",
      "Validation Classification Report (Epoch 5):\n",
      "              precision    recall  f1-score   support\n",
      "\n",
      "         0.0       0.70      0.97      0.82      2387\n",
      "         1.0       0.91      0.38      0.53      1583\n",
      "\n",
      "    accuracy                           0.74      3970\n",
      "   macro avg       0.80      0.68      0.67      3970\n",
      "weighted avg       0.78      0.74      0.70      3970\n",
      "\n",
      "Model saved for epoch 5\n",
      "Epoch [6/10] Train Loss: 0.5592\n",
      "Train Classification Report (Epoch 6):\n",
      "              precision    recall  f1-score   support\n",
      "\n",
      "         0.0       0.72      0.97      0.82      9654\n",
      "         1.0       0.89      0.40      0.56      6222\n",
      "\n",
      "    accuracy                           0.75     15876\n",
      "   macro avg       0.80      0.69      0.69     15876\n",
      "weighted avg       0.78      0.75      0.72     15876\n",
      "\n",
      "Epoch [6/10] Val Loss: 0.5764\n",
      "Validation Classification Report (Epoch 6):\n",
      "              precision    recall  f1-score   support\n",
      "\n",
      "         0.0       0.71      0.97      0.82      2387\n",
      "         1.0       0.89      0.41      0.56      1583\n",
      "\n",
      "    accuracy                           0.74      3970\n",
      "   macro avg       0.80      0.69      0.69      3970\n",
      "weighted avg       0.78      0.74      0.71      3970\n",
      "\n",
      "Model saved for epoch 6\n",
      "Epoch [7/10] Train Loss: 0.5451\n",
      "Train Classification Report (Epoch 7):\n",
      "              precision    recall  f1-score   support\n",
      "\n",
      "         0.0       0.72      0.96      0.82      9654\n",
      "         1.0       0.86      0.43      0.57      6222\n",
      "\n",
      "    accuracy                           0.75     15876\n",
      "   macro avg       0.79      0.69      0.70     15876\n",
      "weighted avg       0.78      0.75      0.72     15876\n",
      "\n",
      "Epoch [7/10] Val Loss: 0.5648\n",
      "Validation Classification Report (Epoch 7):\n",
      "              precision    recall  f1-score   support\n",
      "\n",
      "         0.0       0.72      0.96      0.82      2387\n",
      "         1.0       0.87      0.43      0.57      1583\n",
      "\n",
      "    accuracy                           0.75      3970\n",
      "   macro avg       0.79      0.69      0.70      3970\n",
      "weighted avg       0.78      0.75      0.72      3970\n",
      "\n",
      "Model saved for epoch 7\n",
      "Epoch [8/10] Train Loss: 0.5339\n",
      "Train Classification Report (Epoch 8):\n",
      "              precision    recall  f1-score   support\n",
      "\n",
      "         0.0       0.73      0.94      0.82      9654\n",
      "         1.0       0.84      0.45      0.59      6222\n",
      "\n",
      "    accuracy                           0.75     15876\n",
      "   macro avg       0.78      0.70      0.70     15876\n",
      "weighted avg       0.77      0.75      0.73     15876\n",
      "\n",
      "Epoch [8/10] Val Loss: 0.5564\n",
      "Validation Classification Report (Epoch 8):\n",
      "              precision    recall  f1-score   support\n",
      "\n",
      "         0.0       0.72      0.94      0.82      2387\n",
      "         1.0       0.84      0.45      0.59      1583\n",
      "\n",
      "    accuracy                           0.75      3970\n",
      "   macro avg       0.78      0.70      0.70      3970\n",
      "weighted avg       0.77      0.75      0.73      3970\n",
      "\n",
      "Model saved for epoch 8\n",
      "Epoch [9/10] Train Loss: 0.5253\n",
      "Train Classification Report (Epoch 9):\n",
      "              precision    recall  f1-score   support\n",
      "\n",
      "         0.0       0.73      0.95      0.82      9654\n",
      "         1.0       0.85      0.45      0.59      6222\n",
      "\n",
      "    accuracy                           0.75     15876\n",
      "   macro avg       0.79      0.70      0.71     15876\n",
      "weighted avg       0.77      0.75      0.73     15876\n",
      "\n",
      "Epoch [9/10] Val Loss: 0.5479\n",
      "Validation Classification Report (Epoch 9):\n",
      "              precision    recall  f1-score   support\n",
      "\n",
      "         0.0       0.72      0.95      0.82      2387\n",
      "         1.0       0.85      0.45      0.59      1583\n",
      "\n",
      "    accuracy                           0.75      3970\n",
      "   macro avg       0.78      0.70      0.70      3970\n",
      "weighted avg       0.77      0.75      0.73      3970\n",
      "\n",
      "Model saved for epoch 9\n",
      "Epoch [10/10] Train Loss: 0.5183\n",
      "Train Classification Report (Epoch 10):\n",
      "              precision    recall  f1-score   support\n",
      "\n",
      "         0.0       0.74      0.93      0.82      9654\n",
      "         1.0       0.81      0.49      0.61      6222\n",
      "\n",
      "    accuracy                           0.75     15876\n",
      "   macro avg       0.77      0.71      0.71     15876\n",
      "weighted avg       0.77      0.75      0.74     15876\n",
      "\n",
      "Epoch [10/10] Val Loss: 0.5435\n",
      "Validation Classification Report (Epoch 10):\n",
      "              precision    recall  f1-score   support\n",
      "\n",
      "         0.0       0.73      0.92      0.81      2387\n",
      "         1.0       0.81      0.48      0.60      1583\n",
      "\n",
      "    accuracy                           0.75      3970\n",
      "   macro avg       0.77      0.70      0.71      3970\n",
      "weighted avg       0.76      0.75      0.73      3970\n",
      "\n",
      "Model saved for epoch 10\n",
      "Best model saved at epoch 10 with validation loss 0.5435\n"
     ]
    }
   ],
   "source": [
    "from sklearn.metrics import classification_report\n",
    "\n",
    "# Create a directory for saving the model\n",
    "model_dir = \"models\"\n",
    "os.makedirs(model_dir, exist_ok=True)\n",
    "\n",
    "# Define a function to calculate metrics and print the classification report\n",
    "def get_classification_report(data_loader, loader_type):\n",
    "    model.eval()\n",
    "    y_true = []\n",
    "    y_pred = []\n",
    "    \n",
    "    with torch.no_grad():\n",
    "        for batch_x, batch_y in data_loader:\n",
    "            outputs = model(batch_x)\n",
    "            predictions = (outputs > 0.5).int()\n",
    "            y_true.extend(batch_y.tolist())\n",
    "            y_pred.extend(predictions.tolist())\n",
    "\n",
    "    report = classification_report(y_true, y_pred, output_dict=True, zero_division=0)\n",
    "    print(f\"{loader_type} Classification Report (Epoch {epoch+1}):\")\n",
    "    print(classification_report(y_true, y_pred, output_dict=False, zero_division=0))\n",
    "    return report\n",
    "\n",
    "# Train the model and calculate metrics for each epoch\n",
    "num_epochs = 10\n",
    "best_val_loss = float(\"inf\")\n",
    "best_epoch = 0\n",
    "\n",
    "for epoch in range(num_epochs):\n",
    "    # Training phase\n",
    "    model.train()\n",
    "    train_loss = 0\n",
    "    \n",
    "    for batch_x, batch_y in train_loader:\n",
    "        optimizer.zero_grad()\n",
    "        outputs = model(batch_x)\n",
    "        loss = criterion(outputs, batch_y)\n",
    "        loss.backward()\n",
    "        optimizer.step()\n",
    "\n",
    "        train_loss += loss.item() * batch_x.size(0)\n",
    "\n",
    "    train_loss /= len(train_loader.dataset)\n",
    "    print(f\"Epoch [{epoch+1}/{num_epochs}] Train Loss: {train_loss:.4f}\")\n",
    "    \n",
    "    # Validation phase\n",
    "    model.eval()\n",
    "    val_loss = 0\n",
    "    \n",
    "    with torch.no_grad():\n",
    "        for batch_x, batch_y in val_loader:\n",
    "            outputs = model(batch_x)\n",
    "            loss = criterion(outputs, batch_y)\n",
    "\n",
    "            val_loss += loss.item() * batch_x.size(0)\n",
    "\n",
    "    val_loss /= len(val_loader.dataset)\n",
    "    \n",
    "    # Print the classification reports for training and validation sets\n",
    "    train_report = get_classification_report(train_loader, \"Train\")\n",
    "    print(f\"Epoch [{epoch+1}/{num_epochs}] Val Loss: {val_loss:.4f}\")\n",
    "    val_report = get_classification_report(val_loader, \"Validation\")\n",
    "    \n",
    "    # Save the model with the best validation accuracy\n",
    "    if val_loss < best_val_loss:\n",
    "        best_val_loss = val_loss\n",
    "        best_epoch = epoch + 1\n",
    "        torch.save(model.state_dict(), os.path.join(model_dir, \"best_GPT_+_CNN_model.pt\"))\n",
    "        print(f\"Model saved for epoch {best_epoch}\")    \n",
    "print(f\"Best model saved at epoch {best_epoch} with validation loss {best_val_loss:.4f}\")"
   ]
  },
  {
   "cell_type": "code",
   "execution_count": 226,
   "metadata": {},
   "outputs": [
    {
     "name": "stdout",
     "output_type": "stream",
     "text": [
      "Test Loss: 0.5411\n",
      "Test Classification Report:\n",
      "              precision    recall  f1-score   support\n",
      "\n",
      "         0.0       0.73      0.92      0.82      4004\n",
      "         1.0       0.80      0.48      0.60      2612\n",
      "\n",
      "    accuracy                           0.75      6616\n",
      "   macro avg       0.77      0.70      0.71      6616\n",
      "weighted avg       0.76      0.75      0.73      6616\n",
      "\n"
     ]
    }
   ],
   "source": [
    "# Load the best model\n",
    "model.load_state_dict(torch.load(os.path.join(model_dir, \"best_GPT_+_CNN_model.pt\")))\n",
    "\n",
    "# Define a function to calculate metrics and print the classification report\n",
    "def get_classification_report(data_loader, loader_type):\n",
    "    model.eval()\n",
    "    y_true = []\n",
    "    y_pred = []\n",
    "    \n",
    "    with torch.no_grad():\n",
    "        for batch_x, batch_y in data_loader:\n",
    "            outputs = model(batch_x)\n",
    "            predictions = (outputs > 0.5).int()\n",
    "            y_true.extend(batch_y.tolist())\n",
    "            y_pred.extend(predictions.tolist())\n",
    "\n",
    "    report = classification_report(y_true, y_pred, output_dict=True, zero_division=0)\n",
    "    print(f\"{loader_type} Classification Report:\")\n",
    "    print(classification_report(y_true, y_pred, output_dict=False, zero_division=0))\n",
    "    return report\n",
    "\n",
    "# Print the classification report for the test dataset\n",
    "test_loss = 0\n",
    "with torch.no_grad():\n",
    "    for batch_x, batch_y in test_loader:\n",
    "        outputs = model(batch_x)\n",
    "        loss = criterion(outputs, batch_y)\n",
    "        test_loss += loss.item() * batch_x.size(0)\n",
    "\n",
    "test_loss /= len(test_loader.dataset)\n",
    "\n",
    "print(f\"Test Loss: {test_loss:.4f}\")\n",
    "test_report = get_classification_report(test_loader, \"Test\")"
   ]
  },
  {
   "cell_type": "markdown",
   "metadata": {},
   "source": [
    "#### GPT + RNN"
   ]
  },
  {
   "cell_type": "markdown",
   "metadata": {},
   "source": [
    "###### Training"
   ]
  },
  {
   "cell_type": "code",
   "execution_count": 240,
   "metadata": {},
   "outputs": [],
   "source": [
    "import torch\n",
    "import torch.nn as nn\n",
    "\n",
    "class GPT_RNN(nn.Module):\n",
    "    def __init__(self, input_size, hidden_size, output_size, num_layers):\n",
    "        super(GPT_RNN, self).__init__()\n",
    "        self.hidden_size = hidden_size\n",
    "        self.num_layers = num_layers\n",
    "        self.rnn = nn.LSTM(input_size, hidden_size, num_layers, batch_first=True)\n",
    "        self.dropout = nn.Dropout(0.5)\n",
    "        self.fc1 = nn.Linear(hidden_size, 64)\n",
    "        self.relu = nn.ReLU()\n",
    "        self.fc2 = nn.Linear(64, output_size)\n",
    "        self.softmax = nn.Softmax(dim=1)\n",
    "        \n",
    "    def forward(self, x):\n",
    "        h0 = torch.zeros(self.num_layers, x.size(0), self.hidden_size).to(x.device)\n",
    "        c0 = torch.zeros(self.num_layers, x.size(0), self.hidden_size).to(x.device)\n",
    "        out, _ = self.rnn(x, (h0, c0))\n",
    "        out = self.dropout(out[:, -1, :])\n",
    "        out = self.fc1(out)\n",
    "        out = self.relu(out)\n",
    "        out = self.fc2(out)\n",
    "        out = self.softmax(out)\n",
    "        return out"
   ]
  },
  {
   "cell_type": "code",
   "execution_count": 241,
   "metadata": {},
   "outputs": [],
   "source": [
    "import torch.optim as optim\n",
    "from sklearn.metrics import accuracy_score\n",
    "\n",
    "# Define hyperparameters\n",
    "input_size = 768\n",
    "hidden_size = 128\n",
    "output_size = 2 \n",
    "num_layers = 1\n",
    "lr = 5e-5\n",
    "num_epochs = 10\n",
    "\n",
    "# Instantiate the model and optimizer\n",
    "model = GPT_RNN(input_size, hidden_size, output_size, num_layers)\n",
    "optimizer = optim.AdamW(model.parameters(), lr=lr, eps=1e-8)"
   ]
  },
  {
   "cell_type": "code",
   "execution_count": 229,
   "metadata": {},
   "outputs": [],
   "source": [
    "# # Split the data into training and validation sets\n",
    "# x_train, x_val, y_train, y_val = train_test_split(x_train, y_train, test_size=0.1, random_state=42)"
   ]
  },
  {
   "cell_type": "code",
   "execution_count": 242,
   "metadata": {},
   "outputs": [],
   "source": [
    "# Split data into train, validation, and test sets\n",
    "x_train, x_test, y_train, y_test = train_test_split(X_features, y, test_size=0.25, random_state=88)\n",
    "x_train, x_val, y_train, y_val = train_test_split(x_train, y_train, test_size=0.2, random_state=42)"
   ]
  },
  {
   "cell_type": "code",
   "execution_count": 243,
   "metadata": {},
   "outputs": [
    {
     "data": {
      "text/plain": [
       "(15876, 768)"
      ]
     },
     "execution_count": 243,
     "metadata": {},
     "output_type": "execute_result"
    }
   ],
   "source": [
    "x_train.shape"
   ]
  },
  {
   "cell_type": "code",
   "execution_count": 244,
   "metadata": {},
   "outputs": [
    {
     "data": {
      "text/plain": [
       "(3970, 768)"
      ]
     },
     "execution_count": 244,
     "metadata": {},
     "output_type": "execute_result"
    }
   ],
   "source": [
    "x_val.shape"
   ]
  },
  {
   "cell_type": "code",
   "execution_count": 245,
   "metadata": {},
   "outputs": [
    {
     "data": {
      "text/plain": [
       "(15876,)"
      ]
     },
     "execution_count": 245,
     "metadata": {},
     "output_type": "execute_result"
    }
   ],
   "source": [
    "y_train.shape"
   ]
  },
  {
   "cell_type": "code",
   "execution_count": 246,
   "metadata": {},
   "outputs": [
    {
     "data": {
      "text/plain": [
       "(3970,)"
      ]
     },
     "execution_count": 246,
     "metadata": {},
     "output_type": "execute_result"
    }
   ],
   "source": [
    "y_val.shape"
   ]
  },
  {
   "cell_type": "code",
   "execution_count": 247,
   "metadata": {},
   "outputs": [],
   "source": [
    "# Convert training data to PyTorch tensors\n",
    "x_train = torch.from_numpy(x_train).float()\n",
    "y_train = torch.from_numpy(y_train.to_numpy()).long()\n",
    "x_train = x_train.unsqueeze(1)"
   ]
  },
  {
   "cell_type": "code",
   "execution_count": 248,
   "metadata": {},
   "outputs": [],
   "source": [
    "# Convert validation data to PyTorch tensors\n",
    "x_val = torch.from_numpy(x_val).float()\n",
    "y_val = torch.from_numpy(y_val.to_numpy()).long()\n",
    "x_val = x_val.unsqueeze(1)"
   ]
  },
  {
   "cell_type": "code",
   "execution_count": 249,
   "metadata": {
    "scrolled": true
   },
   "outputs": [
    {
     "name": "stdout",
     "output_type": "stream",
     "text": [
      "Epoch [1/10], Training Loss: 0.6960\n",
      "Training Classification Report:\n",
      "               precision    recall  f1-score   support\n",
      "\n",
      "           0     1.0000    0.0000    0.0000      9654\n",
      "           1     0.3919    1.0000    0.5631      6222\n",
      "\n",
      "    accuracy                         0.3919     15876\n",
      "   macro avg     0.6960    0.5000    0.2816     15876\n",
      "weighted avg     0.7617    0.3919    0.2207     15876\n",
      "\n",
      "Validation Loss: 0.6958\n",
      "Validation Classification Report:\n",
      "               precision    recall  f1-score   support\n",
      "\n",
      "           0     1.0000    0.0000    0.0000      2387\n",
      "           1     0.3987    1.0000    0.5701      1583\n",
      "\n",
      "    accuracy                         0.3987      3970\n",
      "   macro avg     0.6994    0.5000    0.2851      3970\n",
      "weighted avg     0.7603    0.3987    0.2273      3970\n",
      "\n",
      "Model saved for epoch 1\n",
      "Epoch [2/10], Training Loss: 0.6960\n",
      "Training Classification Report:\n",
      "               precision    recall  f1-score   support\n",
      "\n",
      "           0     1.0000    0.0000    0.0000      9654\n",
      "           1     0.3919    1.0000    0.5631      6222\n",
      "\n",
      "    accuracy                         0.3919     15876\n",
      "   macro avg     0.6960    0.5000    0.2816     15876\n",
      "weighted avg     0.7617    0.3919    0.2207     15876\n",
      "\n",
      "Validation Loss: 0.6958\n",
      "Validation Classification Report:\n",
      "               precision    recall  f1-score   support\n",
      "\n",
      "           0     1.0000    0.0000    0.0000      2387\n",
      "           1     0.3987    1.0000    0.5701      1583\n",
      "\n",
      "    accuracy                         0.3987      3970\n",
      "   macro avg     0.6994    0.5000    0.2851      3970\n",
      "weighted avg     0.7603    0.3987    0.2273      3970\n",
      "\n",
      "Model saved for epoch 2\n",
      "Epoch [3/10], Training Loss: 0.6959\n",
      "Training Classification Report:\n",
      "               precision    recall  f1-score   support\n",
      "\n",
      "           0     1.0000    0.0000    0.0000      9654\n",
      "           1     0.3919    1.0000    0.5631      6222\n",
      "\n",
      "    accuracy                         0.3919     15876\n",
      "   macro avg     0.6960    0.5000    0.2816     15876\n",
      "weighted avg     0.7617    0.3919    0.2207     15876\n",
      "\n",
      "Validation Loss: 0.6958\n",
      "Validation Classification Report:\n",
      "               precision    recall  f1-score   support\n",
      "\n",
      "           0     1.0000    0.0000    0.0000      2387\n",
      "           1     0.3987    1.0000    0.5701      1583\n",
      "\n",
      "    accuracy                         0.3987      3970\n",
      "   macro avg     0.6994    0.5000    0.2851      3970\n",
      "weighted avg     0.7603    0.3987    0.2273      3970\n",
      "\n",
      "Model saved for epoch 3\n",
      "Epoch [4/10], Training Loss: 0.6959\n",
      "Training Classification Report:\n",
      "               precision    recall  f1-score   support\n",
      "\n",
      "           0     1.0000    0.0000    0.0000      9654\n",
      "           1     0.3919    1.0000    0.5631      6222\n",
      "\n",
      "    accuracy                         0.3919     15876\n",
      "   macro avg     0.6960    0.5000    0.2816     15876\n",
      "weighted avg     0.7617    0.3919    0.2207     15876\n",
      "\n",
      "Validation Loss: 0.6957\n",
      "Validation Classification Report:\n",
      "               precision    recall  f1-score   support\n",
      "\n",
      "           0     1.0000    0.0000    0.0000      2387\n",
      "           1     0.3987    1.0000    0.5701      1583\n",
      "\n",
      "    accuracy                         0.3987      3970\n",
      "   macro avg     0.6994    0.5000    0.2851      3970\n",
      "weighted avg     0.7603    0.3987    0.2273      3970\n",
      "\n",
      "Model saved for epoch 4\n",
      "Epoch [5/10], Training Loss: 0.6959\n",
      "Training Classification Report:\n",
      "               precision    recall  f1-score   support\n",
      "\n",
      "           0     1.0000    0.0000    0.0000      9654\n",
      "           1     0.3919    1.0000    0.5631      6222\n",
      "\n",
      "    accuracy                         0.3919     15876\n",
      "   macro avg     0.6960    0.5000    0.2816     15876\n",
      "weighted avg     0.7617    0.3919    0.2207     15876\n",
      "\n",
      "Validation Loss: 0.6957\n",
      "Validation Classification Report:\n",
      "               precision    recall  f1-score   support\n",
      "\n",
      "           0     1.0000    0.0000    0.0000      2387\n",
      "           1     0.3987    1.0000    0.5701      1583\n",
      "\n",
      "    accuracy                         0.3987      3970\n",
      "   macro avg     0.6994    0.5000    0.2851      3970\n",
      "weighted avg     0.7603    0.3987    0.2273      3970\n",
      "\n",
      "Model saved for epoch 5\n",
      "Epoch [6/10], Training Loss: 0.6958\n",
      "Training Classification Report:\n",
      "               precision    recall  f1-score   support\n",
      "\n",
      "           0     1.0000    0.0000    0.0000      9654\n",
      "           1     0.3919    1.0000    0.5631      6222\n",
      "\n",
      "    accuracy                         0.3919     15876\n",
      "   macro avg     0.6960    0.5000    0.2816     15876\n",
      "weighted avg     0.7617    0.3919    0.2207     15876\n",
      "\n",
      "Validation Loss: 0.6956\n",
      "Validation Classification Report:\n",
      "               precision    recall  f1-score   support\n",
      "\n",
      "           0     1.0000    0.0000    0.0000      2387\n",
      "           1     0.3987    1.0000    0.5701      1583\n",
      "\n",
      "    accuracy                         0.3987      3970\n",
      "   macro avg     0.6994    0.5000    0.2851      3970\n",
      "weighted avg     0.7603    0.3987    0.2273      3970\n",
      "\n",
      "Model saved for epoch 6\n",
      "Epoch [7/10], Training Loss: 0.6958\n",
      "Training Classification Report:\n",
      "               precision    recall  f1-score   support\n",
      "\n",
      "           0     1.0000    0.0000    0.0000      9654\n",
      "           1     0.3919    1.0000    0.5631      6222\n",
      "\n",
      "    accuracy                         0.3919     15876\n",
      "   macro avg     0.6960    0.5000    0.2816     15876\n",
      "weighted avg     0.7617    0.3919    0.2207     15876\n",
      "\n",
      "Validation Loss: 0.6956\n",
      "Validation Classification Report:\n",
      "               precision    recall  f1-score   support\n",
      "\n",
      "           0     1.0000    0.0000    0.0000      2387\n",
      "           1     0.3987    1.0000    0.5701      1583\n",
      "\n",
      "    accuracy                         0.3987      3970\n",
      "   macro avg     0.6994    0.5000    0.2851      3970\n",
      "weighted avg     0.7603    0.3987    0.2273      3970\n",
      "\n",
      "Model saved for epoch 7\n",
      "Epoch [8/10], Training Loss: 0.6957\n",
      "Training Classification Report:\n",
      "               precision    recall  f1-score   support\n",
      "\n",
      "           0     1.0000    0.0000    0.0000      9654\n",
      "           1     0.3919    1.0000    0.5631      6222\n",
      "\n",
      "    accuracy                         0.3919     15876\n",
      "   macro avg     0.6960    0.5000    0.2816     15876\n",
      "weighted avg     0.7617    0.3919    0.2207     15876\n",
      "\n",
      "Validation Loss: 0.6956\n",
      "Validation Classification Report:\n",
      "               precision    recall  f1-score   support\n",
      "\n",
      "           0     1.0000    0.0000    0.0000      2387\n",
      "           1     0.3987    1.0000    0.5701      1583\n",
      "\n",
      "    accuracy                         0.3987      3970\n",
      "   macro avg     0.6994    0.5000    0.2851      3970\n",
      "weighted avg     0.7603    0.3987    0.2273      3970\n",
      "\n",
      "Model saved for epoch 8\n",
      "Epoch [9/10], Training Loss: 0.6957\n",
      "Training Classification Report:\n",
      "               precision    recall  f1-score   support\n",
      "\n",
      "           0     1.0000    0.0000    0.0000      9654\n",
      "           1     0.3919    1.0000    0.5631      6222\n",
      "\n",
      "    accuracy                         0.3919     15876\n",
      "   macro avg     0.6960    0.5000    0.2816     15876\n",
      "weighted avg     0.7617    0.3919    0.2207     15876\n",
      "\n",
      "Validation Loss: 0.6955\n",
      "Validation Classification Report:\n",
      "               precision    recall  f1-score   support\n",
      "\n",
      "           0     1.0000    0.0000    0.0000      2387\n",
      "           1     0.3987    1.0000    0.5701      1583\n",
      "\n",
      "    accuracy                         0.3987      3970\n",
      "   macro avg     0.6994    0.5000    0.2851      3970\n",
      "weighted avg     0.7603    0.3987    0.2273      3970\n",
      "\n",
      "Model saved for epoch 9\n",
      "Epoch [10/10], Training Loss: 0.6956\n",
      "Training Classification Report:\n",
      "               precision    recall  f1-score   support\n",
      "\n",
      "           0     1.0000    0.0000    0.0000      9654\n",
      "           1     0.3919    1.0000    0.5631      6222\n",
      "\n",
      "    accuracy                         0.3919     15876\n",
      "   macro avg     0.6960    0.5000    0.2816     15876\n",
      "weighted avg     0.7617    0.3919    0.2207     15876\n",
      "\n",
      "Validation Loss: 0.6955\n",
      "Validation Classification Report:\n",
      "               precision    recall  f1-score   support\n",
      "\n",
      "           0     1.0000    0.0000    0.0000      2387\n",
      "           1     0.3987    1.0000    0.5701      1583\n",
      "\n",
      "    accuracy                         0.3987      3970\n",
      "   macro avg     0.6994    0.5000    0.2851      3970\n",
      "weighted avg     0.7603    0.3987    0.2273      3970\n",
      "\n",
      "Model saved for epoch 10\n",
      "Best model saved at epoch 10 with validation loss 0.6955\n"
     ]
    }
   ],
   "source": [
    "from sklearn.metrics import accuracy_score, precision_recall_fscore_support, classification_report\n",
    "\n",
    "# Train the model\n",
    "best_val_loss = float(\"inf\")\n",
    "for epoch in range(num_epochs):\n",
    "    model.train()\n",
    "    optimizer.zero_grad()\n",
    "    outputs = model(x_train)\n",
    "    loss = nn.CrossEntropyLoss()(outputs, y_train)\n",
    "    loss.backward()\n",
    "    optimizer.step()\n",
    "    \n",
    "    # Compute training accuracy\n",
    "    with torch.no_grad():\n",
    "        _, predicted = torch.max(outputs.data, 1)\n",
    "        train_report = classification_report(y_train.numpy(), predicted.numpy(), digits=4, zero_division=1)\n",
    "        \n",
    "        # Compute validation accuracy and loss\n",
    "        model.eval()\n",
    "        val_outputs = model(x_val)\n",
    "        _, val_predicted = torch.max(val_outputs.squeeze().data, 1)\n",
    "        val_acc = accuracy_score(val_predicted.numpy(), y_val.numpy())\n",
    "        val_loss = nn.CrossEntropyLoss()(val_outputs.squeeze(), y_val)\n",
    "        val_report = classification_report(y_val.numpy(), val_predicted.numpy(), digits=4, zero_division=1)\n",
    "        \n",
    "        print('Epoch [{}/{}], Training Loss: {:.4f}'.format(epoch+1, num_epochs, loss.item()))\n",
    "        print('Training Classification Report:\\n', train_report)\n",
    "        \n",
    "        print('Validation Loss: {:.4f}'.format(val_loss.item()))\n",
    "        print('Validation Classification Report:\\n', val_report)\n",
    "            \n",
    "        # Save the model with the best validation loss\n",
    "        if val_loss < best_val_loss:\n",
    "            best_val_loss = val_loss\n",
    "            best_epoch = epoch + 1\n",
    "            torch.save(model.state_dict(), os.path.join(model_dir, \"best_GPT_+_RNN_model.pt\"))\n",
    "            print(f\"Model saved for epoch {best_epoch}\")\n",
    "\n",
    "print(f\"Best model saved at epoch {best_epoch} with validation loss {best_val_loss:.4f}\")"
   ]
  },
  {
   "cell_type": "markdown",
   "metadata": {},
   "source": [
    "###### Testing"
   ]
  },
  {
   "cell_type": "code",
   "execution_count": 250,
   "metadata": {},
   "outputs": [],
   "source": [
    "# Convert test data to PyTorch tensors\n",
    "x_test = torch.from_numpy(x_test).float()\n",
    "y_test = torch.from_numpy(y_test.to_numpy()).long()\n",
    "x_test = x_test.unsqueeze(1)"
   ]
  },
  {
   "cell_type": "code",
   "execution_count": 251,
   "metadata": {
    "scrolled": true
   },
   "outputs": [
    {
     "name": "stdout",
     "output_type": "stream",
     "text": [
      "Test Loss: 0.6956\n",
      "Test Classification Report:\n",
      "               precision    recall  f1-score   support\n",
      "\n",
      "           0     1.0000    0.0000    0.0000      4004\n",
      "           1     0.3948    1.0000    0.5661      2612\n",
      "\n",
      "    accuracy                         0.3948      6616\n",
      "   macro avg     0.6974    0.5000    0.2831      6616\n",
      "weighted avg     0.7611    0.3948    0.2235      6616\n",
      "\n"
     ]
    }
   ],
   "source": [
    "# Load the best model\n",
    "model.load_state_dict(torch.load(os.path.join(model_dir, \"best_GPT_+_RNN_model.pt\")))\n",
    "\n",
    "# Test the model\n",
    "model.eval()\n",
    "with torch.no_grad():\n",
    "    test_outputs = model(x_test)\n",
    "    _, test_predicted = torch.max(test_outputs.data, 1)\n",
    "    test_acc = accuracy_score(test_predicted.numpy(), y_test.numpy())\n",
    "    test_loss = nn.CrossEntropyLoss()(test_outputs, y_test)\n",
    "    test_report = classification_report(y_test.numpy(), test_predicted.numpy(), digits=4, zero_division=1)\n",
    "    \n",
    "    print('Test Loss: {:.4f}'.format(test_loss.item()))\n",
    "    print('Test Classification Report:\\n', test_report)"
   ]
  }
 ],
 "metadata": {
  "kernelspec": {
   "display_name": "Python 3 (ipykernel)",
   "language": "python",
   "name": "python3"
  },
  "language_info": {
   "codemirror_mode": {
    "name": "ipython",
    "version": 3
   },
   "file_extension": ".py",
   "mimetype": "text/x-python",
   "name": "python",
   "nbconvert_exporter": "python",
   "pygments_lexer": "ipython3",
   "version": "3.7.13"
  }
 },
 "nbformat": 4,
 "nbformat_minor": 4
}
